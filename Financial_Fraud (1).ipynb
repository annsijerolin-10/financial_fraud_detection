{
  "cells": [
    {
      "cell_type": "code",
      "execution_count": null,
      "metadata": {
        "id": "gKYPTJ-eGvMi"
      },
      "outputs": [],
      "source": [
        "import numpy as np\n",
        "import pandas as pd\n",
        "import matplotlib.pyplot as plt\n",
        "import seaborn as sns\n",
        "%matplotlib inline"
      ]
    },
    {
      "cell_type": "code",
      "execution_count": null,
      "metadata": {
        "id": "1nMgyLfmG8pC"
      },
      "outputs": [],
      "source": [
        "a=pd.read_csv('/content/Financial_Fraud_Detection _Dataset.csv')"
      ]
    },
    {
      "cell_type": "markdown",
      "source": [
        "# **PREPROCESSING**"
      ],
      "metadata": {
        "id": "AU8n4flAihOT"
      }
    },
    {
      "cell_type": "markdown",
      "source": [
        "Data Cleaning\n"
      ],
      "metadata": {
        "id": "cDyw0S-eizIw"
      }
    },
    {
      "cell_type": "code",
      "execution_count": null,
      "metadata": {
        "colab": {
          "base_uri": "https://localhost:8080/",
          "height": 206
        },
        "id": "xTsfiGy6HWEv",
        "outputId": "6854fe48-7dd7-4043-dc8d-10bb5ece4ec0"
      },
      "outputs": [
        {
          "output_type": "execute_result",
          "data": {
            "text/plain": [
              "   step      type    amount     nameOrig  oldbalanceOrg  newbalanceOrig  \\\n",
              "0     1   PAYMENT   9839.64  C1231006815       170136.0       160296.36   \n",
              "1     1   PAYMENT   1864.28  C1666544295        21249.0        19384.72   \n",
              "2     1  TRANSFER    181.00  C1305486145          181.0            0.00   \n",
              "3     1  CASH_OUT    181.00   C840083671          181.0            0.00   \n",
              "4     1   PAYMENT  11668.14  C2048537720        41554.0        29885.86   \n",
              "\n",
              "      nameDest  oldbalanceDest  newbalanceDest  isFraud  isFlaggedFraud  \n",
              "0  M1979787155             0.0             0.0      0.0             0.0  \n",
              "1  M2044282225             0.0             0.0      0.0             0.0  \n",
              "2   C553264065             0.0             0.0      1.0             0.0  \n",
              "3    C38997010         21182.0             0.0      1.0             0.0  \n",
              "4  M1230701703             0.0             0.0      0.0             0.0  "
            ],
            "text/html": [
              "\n",
              "  <div id=\"df-26a25a15-a551-4913-9b17-aacbe65bf056\" class=\"colab-df-container\">\n",
              "    <div>\n",
              "<style scoped>\n",
              "    .dataframe tbody tr th:only-of-type {\n",
              "        vertical-align: middle;\n",
              "    }\n",
              "\n",
              "    .dataframe tbody tr th {\n",
              "        vertical-align: top;\n",
              "    }\n",
              "\n",
              "    .dataframe thead th {\n",
              "        text-align: right;\n",
              "    }\n",
              "</style>\n",
              "<table border=\"1\" class=\"dataframe\">\n",
              "  <thead>\n",
              "    <tr style=\"text-align: right;\">\n",
              "      <th></th>\n",
              "      <th>step</th>\n",
              "      <th>type</th>\n",
              "      <th>amount</th>\n",
              "      <th>nameOrig</th>\n",
              "      <th>oldbalanceOrg</th>\n",
              "      <th>newbalanceOrig</th>\n",
              "      <th>nameDest</th>\n",
              "      <th>oldbalanceDest</th>\n",
              "      <th>newbalanceDest</th>\n",
              "      <th>isFraud</th>\n",
              "      <th>isFlaggedFraud</th>\n",
              "    </tr>\n",
              "  </thead>\n",
              "  <tbody>\n",
              "    <tr>\n",
              "      <th>0</th>\n",
              "      <td>1</td>\n",
              "      <td>PAYMENT</td>\n",
              "      <td>9839.64</td>\n",
              "      <td>C1231006815</td>\n",
              "      <td>170136.0</td>\n",
              "      <td>160296.36</td>\n",
              "      <td>M1979787155</td>\n",
              "      <td>0.0</td>\n",
              "      <td>0.0</td>\n",
              "      <td>0.0</td>\n",
              "      <td>0.0</td>\n",
              "    </tr>\n",
              "    <tr>\n",
              "      <th>1</th>\n",
              "      <td>1</td>\n",
              "      <td>PAYMENT</td>\n",
              "      <td>1864.28</td>\n",
              "      <td>C1666544295</td>\n",
              "      <td>21249.0</td>\n",
              "      <td>19384.72</td>\n",
              "      <td>M2044282225</td>\n",
              "      <td>0.0</td>\n",
              "      <td>0.0</td>\n",
              "      <td>0.0</td>\n",
              "      <td>0.0</td>\n",
              "    </tr>\n",
              "    <tr>\n",
              "      <th>2</th>\n",
              "      <td>1</td>\n",
              "      <td>TRANSFER</td>\n",
              "      <td>181.00</td>\n",
              "      <td>C1305486145</td>\n",
              "      <td>181.0</td>\n",
              "      <td>0.00</td>\n",
              "      <td>C553264065</td>\n",
              "      <td>0.0</td>\n",
              "      <td>0.0</td>\n",
              "      <td>1.0</td>\n",
              "      <td>0.0</td>\n",
              "    </tr>\n",
              "    <tr>\n",
              "      <th>3</th>\n",
              "      <td>1</td>\n",
              "      <td>CASH_OUT</td>\n",
              "      <td>181.00</td>\n",
              "      <td>C840083671</td>\n",
              "      <td>181.0</td>\n",
              "      <td>0.00</td>\n",
              "      <td>C38997010</td>\n",
              "      <td>21182.0</td>\n",
              "      <td>0.0</td>\n",
              "      <td>1.0</td>\n",
              "      <td>0.0</td>\n",
              "    </tr>\n",
              "    <tr>\n",
              "      <th>4</th>\n",
              "      <td>1</td>\n",
              "      <td>PAYMENT</td>\n",
              "      <td>11668.14</td>\n",
              "      <td>C2048537720</td>\n",
              "      <td>41554.0</td>\n",
              "      <td>29885.86</td>\n",
              "      <td>M1230701703</td>\n",
              "      <td>0.0</td>\n",
              "      <td>0.0</td>\n",
              "      <td>0.0</td>\n",
              "      <td>0.0</td>\n",
              "    </tr>\n",
              "  </tbody>\n",
              "</table>\n",
              "</div>\n",
              "    <div class=\"colab-df-buttons\">\n",
              "\n",
              "  <div class=\"colab-df-container\">\n",
              "    <button class=\"colab-df-convert\" onclick=\"convertToInteractive('df-26a25a15-a551-4913-9b17-aacbe65bf056')\"\n",
              "            title=\"Convert this dataframe to an interactive table.\"\n",
              "            style=\"display:none;\">\n",
              "\n",
              "  <svg xmlns=\"http://www.w3.org/2000/svg\" height=\"24px\" viewBox=\"0 -960 960 960\">\n",
              "    <path d=\"M120-120v-720h720v720H120Zm60-500h600v-160H180v160Zm220 220h160v-160H400v160Zm0 220h160v-160H400v160ZM180-400h160v-160H180v160Zm440 0h160v-160H620v160ZM180-180h160v-160H180v160Zm440 0h160v-160H620v160Z\"/>\n",
              "  </svg>\n",
              "    </button>\n",
              "\n",
              "  <style>\n",
              "    .colab-df-container {\n",
              "      display:flex;\n",
              "      gap: 12px;\n",
              "    }\n",
              "\n",
              "    .colab-df-convert {\n",
              "      background-color: #E8F0FE;\n",
              "      border: none;\n",
              "      border-radius: 50%;\n",
              "      cursor: pointer;\n",
              "      display: none;\n",
              "      fill: #1967D2;\n",
              "      height: 32px;\n",
              "      padding: 0 0 0 0;\n",
              "      width: 32px;\n",
              "    }\n",
              "\n",
              "    .colab-df-convert:hover {\n",
              "      background-color: #E2EBFA;\n",
              "      box-shadow: 0px 1px 2px rgba(60, 64, 67, 0.3), 0px 1px 3px 1px rgba(60, 64, 67, 0.15);\n",
              "      fill: #174EA6;\n",
              "    }\n",
              "\n",
              "    .colab-df-buttons div {\n",
              "      margin-bottom: 4px;\n",
              "    }\n",
              "\n",
              "    [theme=dark] .colab-df-convert {\n",
              "      background-color: #3B4455;\n",
              "      fill: #D2E3FC;\n",
              "    }\n",
              "\n",
              "    [theme=dark] .colab-df-convert:hover {\n",
              "      background-color: #434B5C;\n",
              "      box-shadow: 0px 1px 3px 1px rgba(0, 0, 0, 0.15);\n",
              "      filter: drop-shadow(0px 1px 2px rgba(0, 0, 0, 0.3));\n",
              "      fill: #FFFFFF;\n",
              "    }\n",
              "  </style>\n",
              "\n",
              "    <script>\n",
              "      const buttonEl =\n",
              "        document.querySelector('#df-26a25a15-a551-4913-9b17-aacbe65bf056 button.colab-df-convert');\n",
              "      buttonEl.style.display =\n",
              "        google.colab.kernel.accessAllowed ? 'block' : 'none';\n",
              "\n",
              "      async function convertToInteractive(key) {\n",
              "        const element = document.querySelector('#df-26a25a15-a551-4913-9b17-aacbe65bf056');\n",
              "        const dataTable =\n",
              "          await google.colab.kernel.invokeFunction('convertToInteractive',\n",
              "                                                    [key], {});\n",
              "        if (!dataTable) return;\n",
              "\n",
              "        const docLinkHtml = 'Like what you see? Visit the ' +\n",
              "          '<a target=\"_blank\" href=https://colab.research.google.com/notebooks/data_table.ipynb>data table notebook</a>'\n",
              "          + ' to learn more about interactive tables.';\n",
              "        element.innerHTML = '';\n",
              "        dataTable['output_type'] = 'display_data';\n",
              "        await google.colab.output.renderOutput(dataTable, element);\n",
              "        const docLink = document.createElement('div');\n",
              "        docLink.innerHTML = docLinkHtml;\n",
              "        element.appendChild(docLink);\n",
              "      }\n",
              "    </script>\n",
              "  </div>\n",
              "\n",
              "\n",
              "<div id=\"df-37fc61c3-c7b4-436e-8127-27b563c4eba6\">\n",
              "  <button class=\"colab-df-quickchart\" onclick=\"quickchart('df-37fc61c3-c7b4-436e-8127-27b563c4eba6')\"\n",
              "            title=\"Suggest charts\"\n",
              "            style=\"display:none;\">\n",
              "\n",
              "<svg xmlns=\"http://www.w3.org/2000/svg\" height=\"24px\"viewBox=\"0 0 24 24\"\n",
              "     width=\"24px\">\n",
              "    <g>\n",
              "        <path d=\"M19 3H5c-1.1 0-2 .9-2 2v14c0 1.1.9 2 2 2h14c1.1 0 2-.9 2-2V5c0-1.1-.9-2-2-2zM9 17H7v-7h2v7zm4 0h-2V7h2v10zm4 0h-2v-4h2v4z\"/>\n",
              "    </g>\n",
              "</svg>\n",
              "  </button>\n",
              "\n",
              "<style>\n",
              "  .colab-df-quickchart {\n",
              "      --bg-color: #E8F0FE;\n",
              "      --fill-color: #1967D2;\n",
              "      --hover-bg-color: #E2EBFA;\n",
              "      --hover-fill-color: #174EA6;\n",
              "      --disabled-fill-color: #AAA;\n",
              "      --disabled-bg-color: #DDD;\n",
              "  }\n",
              "\n",
              "  [theme=dark] .colab-df-quickchart {\n",
              "      --bg-color: #3B4455;\n",
              "      --fill-color: #D2E3FC;\n",
              "      --hover-bg-color: #434B5C;\n",
              "      --hover-fill-color: #FFFFFF;\n",
              "      --disabled-bg-color: #3B4455;\n",
              "      --disabled-fill-color: #666;\n",
              "  }\n",
              "\n",
              "  .colab-df-quickchart {\n",
              "    background-color: var(--bg-color);\n",
              "    border: none;\n",
              "    border-radius: 50%;\n",
              "    cursor: pointer;\n",
              "    display: none;\n",
              "    fill: var(--fill-color);\n",
              "    height: 32px;\n",
              "    padding: 0;\n",
              "    width: 32px;\n",
              "  }\n",
              "\n",
              "  .colab-df-quickchart:hover {\n",
              "    background-color: var(--hover-bg-color);\n",
              "    box-shadow: 0 1px 2px rgba(60, 64, 67, 0.3), 0 1px 3px 1px rgba(60, 64, 67, 0.15);\n",
              "    fill: var(--button-hover-fill-color);\n",
              "  }\n",
              "\n",
              "  .colab-df-quickchart-complete:disabled,\n",
              "  .colab-df-quickchart-complete:disabled:hover {\n",
              "    background-color: var(--disabled-bg-color);\n",
              "    fill: var(--disabled-fill-color);\n",
              "    box-shadow: none;\n",
              "  }\n",
              "\n",
              "  .colab-df-spinner {\n",
              "    border: 2px solid var(--fill-color);\n",
              "    border-color: transparent;\n",
              "    border-bottom-color: var(--fill-color);\n",
              "    animation:\n",
              "      spin 1s steps(1) infinite;\n",
              "  }\n",
              "\n",
              "  @keyframes spin {\n",
              "    0% {\n",
              "      border-color: transparent;\n",
              "      border-bottom-color: var(--fill-color);\n",
              "      border-left-color: var(--fill-color);\n",
              "    }\n",
              "    20% {\n",
              "      border-color: transparent;\n",
              "      border-left-color: var(--fill-color);\n",
              "      border-top-color: var(--fill-color);\n",
              "    }\n",
              "    30% {\n",
              "      border-color: transparent;\n",
              "      border-left-color: var(--fill-color);\n",
              "      border-top-color: var(--fill-color);\n",
              "      border-right-color: var(--fill-color);\n",
              "    }\n",
              "    40% {\n",
              "      border-color: transparent;\n",
              "      border-right-color: var(--fill-color);\n",
              "      border-top-color: var(--fill-color);\n",
              "    }\n",
              "    60% {\n",
              "      border-color: transparent;\n",
              "      border-right-color: var(--fill-color);\n",
              "    }\n",
              "    80% {\n",
              "      border-color: transparent;\n",
              "      border-right-color: var(--fill-color);\n",
              "      border-bottom-color: var(--fill-color);\n",
              "    }\n",
              "    90% {\n",
              "      border-color: transparent;\n",
              "      border-bottom-color: var(--fill-color);\n",
              "    }\n",
              "  }\n",
              "</style>\n",
              "\n",
              "  <script>\n",
              "    async function quickchart(key) {\n",
              "      const quickchartButtonEl =\n",
              "        document.querySelector('#' + key + ' button');\n",
              "      quickchartButtonEl.disabled = true;  // To prevent multiple clicks.\n",
              "      quickchartButtonEl.classList.add('colab-df-spinner');\n",
              "      try {\n",
              "        const charts = await google.colab.kernel.invokeFunction(\n",
              "            'suggestCharts', [key], {});\n",
              "      } catch (error) {\n",
              "        console.error('Error during call to suggestCharts:', error);\n",
              "      }\n",
              "      quickchartButtonEl.classList.remove('colab-df-spinner');\n",
              "      quickchartButtonEl.classList.add('colab-df-quickchart-complete');\n",
              "    }\n",
              "    (() => {\n",
              "      let quickchartButtonEl =\n",
              "        document.querySelector('#df-37fc61c3-c7b4-436e-8127-27b563c4eba6 button');\n",
              "      quickchartButtonEl.style.display =\n",
              "        google.colab.kernel.accessAllowed ? 'block' : 'none';\n",
              "    })();\n",
              "  </script>\n",
              "</div>\n",
              "\n",
              "    </div>\n",
              "  </div>\n"
            ],
            "application/vnd.google.colaboratory.intrinsic+json": {
              "type": "dataframe",
              "variable_name": "a",
              "summary": "{\n  \"name\": \"a\",\n  \"rows\": 28297,\n  \"fields\": [\n    {\n      \"column\": \"step\",\n      \"properties\": {\n        \"dtype\": \"number\",\n        \"std\": 2,\n        \"min\": 1,\n        \"max\": 8,\n        \"num_unique_values\": 8,\n        \"samples\": [\n          2,\n          6,\n          1\n        ],\n        \"semantic_type\": \"\",\n        \"description\": \"\"\n      }\n    },\n    {\n      \"column\": \"type\",\n      \"properties\": {\n        \"dtype\": \"category\",\n        \"num_unique_values\": 5,\n        \"samples\": [\n          \"TRANSFER\",\n          \"CASH_IN\",\n          \"CASH_OUT\"\n        ],\n        \"semantic_type\": \"\",\n        \"description\": \"\"\n      }\n    },\n    {\n      \"column\": \"amount\",\n      \"properties\": {\n        \"dtype\": \"number\",\n        \"std\": 301316.68899474724,\n        \"min\": 1.77,\n        \"max\": 10000000.0,\n        \"num_unique_values\": 28182,\n        \"samples\": [\n          20685.73,\n          294939.52,\n          4824.85\n        ],\n        \"semantic_type\": \"\",\n        \"description\": \"\"\n      }\n    },\n    {\n      \"column\": \"nameOrig\",\n      \"properties\": {\n        \"dtype\": \"string\",\n        \"num_unique_values\": 28297,\n        \"samples\": [\n          \"C196829044\",\n          \"C132372445\",\n          \"C1095234669\"\n        ],\n        \"semantic_type\": \"\",\n        \"description\": \"\"\n      }\n    },\n    {\n      \"column\": \"oldbalanceOrg\",\n      \"properties\": {\n        \"dtype\": \"number\",\n        \"std\": 2126123.314344943,\n        \"min\": 0.0,\n        \"max\": 22352310.12,\n        \"num_unique_values\": 18645,\n        \"samples\": [\n          21034.0,\n          127365.0,\n          11289.0\n        ],\n        \"semantic_type\": \"\",\n        \"description\": \"\"\n      }\n    },\n    {\n      \"column\": \"newbalanceOrig\",\n      \"properties\": {\n        \"dtype\": \"number\",\n        \"std\": 2166615.104241112,\n        \"min\": 0.0,\n        \"max\": 22465998.18,\n        \"num_unique_values\": 14860,\n        \"samples\": [\n          19307.59,\n          150533.69,\n          164806.78\n        ],\n        \"semantic_type\": \"\",\n        \"description\": \"\"\n      }\n    },\n    {\n      \"column\": \"nameDest\",\n      \"properties\": {\n        \"dtype\": \"string\",\n        \"num_unique_values\": 17076,\n        \"samples\": [\n          \"M1938311278\",\n          \"M498068859\",\n          \"M1698866639\"\n        ],\n        \"semantic_type\": \"\",\n        \"description\": \"\"\n      }\n    },\n    {\n      \"column\": \"oldbalanceDest\",\n      \"properties\": {\n        \"dtype\": \"number\",\n        \"std\": 2513869.4096016134,\n        \"min\": 0.0,\n        \"max\": 24955238.07,\n        \"num_unique_values\": 13181,\n        \"samples\": [\n          1188580.73,\n          607649.89,\n          311507.37\n        ],\n        \"semantic_type\": \"\",\n        \"description\": \"\"\n      }\n    },\n    {\n      \"column\": \"newbalanceDest\",\n      \"properties\": {\n        \"dtype\": \"number\",\n        \"std\": 3106440.3718893477,\n        \"min\": 0.0,\n        \"max\": 28783585.38,\n        \"num_unique_values\": 3668,\n        \"samples\": [\n          47409.85,\n          167652.31,\n          467101.75\n        ],\n        \"semantic_type\": \"\",\n        \"description\": \"\"\n      }\n    },\n    {\n      \"column\": \"isFraud\",\n      \"properties\": {\n        \"dtype\": \"number\",\n        \"std\": 0.05440504928735523,\n        \"min\": 0.0,\n        \"max\": 1.0,\n        \"num_unique_values\": 2,\n        \"samples\": [\n          1.0,\n          0.0\n        ],\n        \"semantic_type\": \"\",\n        \"description\": \"\"\n      }\n    },\n    {\n      \"column\": \"isFlaggedFraud\",\n      \"properties\": {\n        \"dtype\": \"number\",\n        \"std\": 0.0,\n        \"min\": 0.0,\n        \"max\": 0.0,\n        \"num_unique_values\": 1,\n        \"samples\": [\n          0.0\n        ],\n        \"semantic_type\": \"\",\n        \"description\": \"\"\n      }\n    }\n  ]\n}"
            }
          },
          "metadata": {},
          "execution_count": 3
        }
      ],
      "source": [
        "\n",
        "a.head(5)"
      ]
    },
    {
      "cell_type": "code",
      "execution_count": null,
      "metadata": {
        "colab": {
          "base_uri": "https://localhost:8080/",
          "height": 206
        },
        "id": "FEZRQIJQHgTD",
        "outputId": "536738d5-0183-41db-ce00-2056fd2e5f9e"
      },
      "outputs": [
        {
          "output_type": "execute_result",
          "data": {
            "text/plain": [
              "       step      type     amount     nameOrig  oldbalanceOrg  newbalanceOrig  \\\n",
              "28292     8  CASH_OUT    7270.37   C457003860            0.0             0.0   \n",
              "28293     8  CASH_OUT  113043.31  C1845952463            0.0             0.0   \n",
              "28294     8  CASH_OUT   89346.62   C140193335            0.0             0.0   \n",
              "28295     8  CASH_OUT  138651.85   C297851161            0.0             0.0   \n",
              "28296     8  CASH_OUT   61553.92  C1612091270            0.0             0.0   \n",
              "\n",
              "          nameDest  oldbalanceDest  newbalanceDest  isFraud  isFlaggedFraud  \n",
              "28292   C219416103      1523685.68      1530956.05      0.0             0.0  \n",
              "28293   C483817115     10085462.79     10014348.15      0.0             0.0  \n",
              "28294  C1326121635       112673.41       202020.02      0.0             0.0  \n",
              "28295  C1034382650       142758.39       281410.24      0.0             0.0  \n",
              "28296     C8733802       242151.60        30370.00      NaN             NaN  "
            ],
            "text/html": [
              "\n",
              "  <div id=\"df-f83891f0-8e15-4c4a-a666-ee1009804ccb\" class=\"colab-df-container\">\n",
              "    <div>\n",
              "<style scoped>\n",
              "    .dataframe tbody tr th:only-of-type {\n",
              "        vertical-align: middle;\n",
              "    }\n",
              "\n",
              "    .dataframe tbody tr th {\n",
              "        vertical-align: top;\n",
              "    }\n",
              "\n",
              "    .dataframe thead th {\n",
              "        text-align: right;\n",
              "    }\n",
              "</style>\n",
              "<table border=\"1\" class=\"dataframe\">\n",
              "  <thead>\n",
              "    <tr style=\"text-align: right;\">\n",
              "      <th></th>\n",
              "      <th>step</th>\n",
              "      <th>type</th>\n",
              "      <th>amount</th>\n",
              "      <th>nameOrig</th>\n",
              "      <th>oldbalanceOrg</th>\n",
              "      <th>newbalanceOrig</th>\n",
              "      <th>nameDest</th>\n",
              "      <th>oldbalanceDest</th>\n",
              "      <th>newbalanceDest</th>\n",
              "      <th>isFraud</th>\n",
              "      <th>isFlaggedFraud</th>\n",
              "    </tr>\n",
              "  </thead>\n",
              "  <tbody>\n",
              "    <tr>\n",
              "      <th>28292</th>\n",
              "      <td>8</td>\n",
              "      <td>CASH_OUT</td>\n",
              "      <td>7270.37</td>\n",
              "      <td>C457003860</td>\n",
              "      <td>0.0</td>\n",
              "      <td>0.0</td>\n",
              "      <td>C219416103</td>\n",
              "      <td>1523685.68</td>\n",
              "      <td>1530956.05</td>\n",
              "      <td>0.0</td>\n",
              "      <td>0.0</td>\n",
              "    </tr>\n",
              "    <tr>\n",
              "      <th>28293</th>\n",
              "      <td>8</td>\n",
              "      <td>CASH_OUT</td>\n",
              "      <td>113043.31</td>\n",
              "      <td>C1845952463</td>\n",
              "      <td>0.0</td>\n",
              "      <td>0.0</td>\n",
              "      <td>C483817115</td>\n",
              "      <td>10085462.79</td>\n",
              "      <td>10014348.15</td>\n",
              "      <td>0.0</td>\n",
              "      <td>0.0</td>\n",
              "    </tr>\n",
              "    <tr>\n",
              "      <th>28294</th>\n",
              "      <td>8</td>\n",
              "      <td>CASH_OUT</td>\n",
              "      <td>89346.62</td>\n",
              "      <td>C140193335</td>\n",
              "      <td>0.0</td>\n",
              "      <td>0.0</td>\n",
              "      <td>C1326121635</td>\n",
              "      <td>112673.41</td>\n",
              "      <td>202020.02</td>\n",
              "      <td>0.0</td>\n",
              "      <td>0.0</td>\n",
              "    </tr>\n",
              "    <tr>\n",
              "      <th>28295</th>\n",
              "      <td>8</td>\n",
              "      <td>CASH_OUT</td>\n",
              "      <td>138651.85</td>\n",
              "      <td>C297851161</td>\n",
              "      <td>0.0</td>\n",
              "      <td>0.0</td>\n",
              "      <td>C1034382650</td>\n",
              "      <td>142758.39</td>\n",
              "      <td>281410.24</td>\n",
              "      <td>0.0</td>\n",
              "      <td>0.0</td>\n",
              "    </tr>\n",
              "    <tr>\n",
              "      <th>28296</th>\n",
              "      <td>8</td>\n",
              "      <td>CASH_OUT</td>\n",
              "      <td>61553.92</td>\n",
              "      <td>C1612091270</td>\n",
              "      <td>0.0</td>\n",
              "      <td>0.0</td>\n",
              "      <td>C8733802</td>\n",
              "      <td>242151.60</td>\n",
              "      <td>30370.00</td>\n",
              "      <td>NaN</td>\n",
              "      <td>NaN</td>\n",
              "    </tr>\n",
              "  </tbody>\n",
              "</table>\n",
              "</div>\n",
              "    <div class=\"colab-df-buttons\">\n",
              "\n",
              "  <div class=\"colab-df-container\">\n",
              "    <button class=\"colab-df-convert\" onclick=\"convertToInteractive('df-f83891f0-8e15-4c4a-a666-ee1009804ccb')\"\n",
              "            title=\"Convert this dataframe to an interactive table.\"\n",
              "            style=\"display:none;\">\n",
              "\n",
              "  <svg xmlns=\"http://www.w3.org/2000/svg\" height=\"24px\" viewBox=\"0 -960 960 960\">\n",
              "    <path d=\"M120-120v-720h720v720H120Zm60-500h600v-160H180v160Zm220 220h160v-160H400v160Zm0 220h160v-160H400v160ZM180-400h160v-160H180v160Zm440 0h160v-160H620v160ZM180-180h160v-160H180v160Zm440 0h160v-160H620v160Z\"/>\n",
              "  </svg>\n",
              "    </button>\n",
              "\n",
              "  <style>\n",
              "    .colab-df-container {\n",
              "      display:flex;\n",
              "      gap: 12px;\n",
              "    }\n",
              "\n",
              "    .colab-df-convert {\n",
              "      background-color: #E8F0FE;\n",
              "      border: none;\n",
              "      border-radius: 50%;\n",
              "      cursor: pointer;\n",
              "      display: none;\n",
              "      fill: #1967D2;\n",
              "      height: 32px;\n",
              "      padding: 0 0 0 0;\n",
              "      width: 32px;\n",
              "    }\n",
              "\n",
              "    .colab-df-convert:hover {\n",
              "      background-color: #E2EBFA;\n",
              "      box-shadow: 0px 1px 2px rgba(60, 64, 67, 0.3), 0px 1px 3px 1px rgba(60, 64, 67, 0.15);\n",
              "      fill: #174EA6;\n",
              "    }\n",
              "\n",
              "    .colab-df-buttons div {\n",
              "      margin-bottom: 4px;\n",
              "    }\n",
              "\n",
              "    [theme=dark] .colab-df-convert {\n",
              "      background-color: #3B4455;\n",
              "      fill: #D2E3FC;\n",
              "    }\n",
              "\n",
              "    [theme=dark] .colab-df-convert:hover {\n",
              "      background-color: #434B5C;\n",
              "      box-shadow: 0px 1px 3px 1px rgba(0, 0, 0, 0.15);\n",
              "      filter: drop-shadow(0px 1px 2px rgba(0, 0, 0, 0.3));\n",
              "      fill: #FFFFFF;\n",
              "    }\n",
              "  </style>\n",
              "\n",
              "    <script>\n",
              "      const buttonEl =\n",
              "        document.querySelector('#df-f83891f0-8e15-4c4a-a666-ee1009804ccb button.colab-df-convert');\n",
              "      buttonEl.style.display =\n",
              "        google.colab.kernel.accessAllowed ? 'block' : 'none';\n",
              "\n",
              "      async function convertToInteractive(key) {\n",
              "        const element = document.querySelector('#df-f83891f0-8e15-4c4a-a666-ee1009804ccb');\n",
              "        const dataTable =\n",
              "          await google.colab.kernel.invokeFunction('convertToInteractive',\n",
              "                                                    [key], {});\n",
              "        if (!dataTable) return;\n",
              "\n",
              "        const docLinkHtml = 'Like what you see? Visit the ' +\n",
              "          '<a target=\"_blank\" href=https://colab.research.google.com/notebooks/data_table.ipynb>data table notebook</a>'\n",
              "          + ' to learn more about interactive tables.';\n",
              "        element.innerHTML = '';\n",
              "        dataTable['output_type'] = 'display_data';\n",
              "        await google.colab.output.renderOutput(dataTable, element);\n",
              "        const docLink = document.createElement('div');\n",
              "        docLink.innerHTML = docLinkHtml;\n",
              "        element.appendChild(docLink);\n",
              "      }\n",
              "    </script>\n",
              "  </div>\n",
              "\n",
              "\n",
              "<div id=\"df-da65c55b-d708-4143-b41c-8d947de633f5\">\n",
              "  <button class=\"colab-df-quickchart\" onclick=\"quickchart('df-da65c55b-d708-4143-b41c-8d947de633f5')\"\n",
              "            title=\"Suggest charts\"\n",
              "            style=\"display:none;\">\n",
              "\n",
              "<svg xmlns=\"http://www.w3.org/2000/svg\" height=\"24px\"viewBox=\"0 0 24 24\"\n",
              "     width=\"24px\">\n",
              "    <g>\n",
              "        <path d=\"M19 3H5c-1.1 0-2 .9-2 2v14c0 1.1.9 2 2 2h14c1.1 0 2-.9 2-2V5c0-1.1-.9-2-2-2zM9 17H7v-7h2v7zm4 0h-2V7h2v10zm4 0h-2v-4h2v4z\"/>\n",
              "    </g>\n",
              "</svg>\n",
              "  </button>\n",
              "\n",
              "<style>\n",
              "  .colab-df-quickchart {\n",
              "      --bg-color: #E8F0FE;\n",
              "      --fill-color: #1967D2;\n",
              "      --hover-bg-color: #E2EBFA;\n",
              "      --hover-fill-color: #174EA6;\n",
              "      --disabled-fill-color: #AAA;\n",
              "      --disabled-bg-color: #DDD;\n",
              "  }\n",
              "\n",
              "  [theme=dark] .colab-df-quickchart {\n",
              "      --bg-color: #3B4455;\n",
              "      --fill-color: #D2E3FC;\n",
              "      --hover-bg-color: #434B5C;\n",
              "      --hover-fill-color: #FFFFFF;\n",
              "      --disabled-bg-color: #3B4455;\n",
              "      --disabled-fill-color: #666;\n",
              "  }\n",
              "\n",
              "  .colab-df-quickchart {\n",
              "    background-color: var(--bg-color);\n",
              "    border: none;\n",
              "    border-radius: 50%;\n",
              "    cursor: pointer;\n",
              "    display: none;\n",
              "    fill: var(--fill-color);\n",
              "    height: 32px;\n",
              "    padding: 0;\n",
              "    width: 32px;\n",
              "  }\n",
              "\n",
              "  .colab-df-quickchart:hover {\n",
              "    background-color: var(--hover-bg-color);\n",
              "    box-shadow: 0 1px 2px rgba(60, 64, 67, 0.3), 0 1px 3px 1px rgba(60, 64, 67, 0.15);\n",
              "    fill: var(--button-hover-fill-color);\n",
              "  }\n",
              "\n",
              "  .colab-df-quickchart-complete:disabled,\n",
              "  .colab-df-quickchart-complete:disabled:hover {\n",
              "    background-color: var(--disabled-bg-color);\n",
              "    fill: var(--disabled-fill-color);\n",
              "    box-shadow: none;\n",
              "  }\n",
              "\n",
              "  .colab-df-spinner {\n",
              "    border: 2px solid var(--fill-color);\n",
              "    border-color: transparent;\n",
              "    border-bottom-color: var(--fill-color);\n",
              "    animation:\n",
              "      spin 1s steps(1) infinite;\n",
              "  }\n",
              "\n",
              "  @keyframes spin {\n",
              "    0% {\n",
              "      border-color: transparent;\n",
              "      border-bottom-color: var(--fill-color);\n",
              "      border-left-color: var(--fill-color);\n",
              "    }\n",
              "    20% {\n",
              "      border-color: transparent;\n",
              "      border-left-color: var(--fill-color);\n",
              "      border-top-color: var(--fill-color);\n",
              "    }\n",
              "    30% {\n",
              "      border-color: transparent;\n",
              "      border-left-color: var(--fill-color);\n",
              "      border-top-color: var(--fill-color);\n",
              "      border-right-color: var(--fill-color);\n",
              "    }\n",
              "    40% {\n",
              "      border-color: transparent;\n",
              "      border-right-color: var(--fill-color);\n",
              "      border-top-color: var(--fill-color);\n",
              "    }\n",
              "    60% {\n",
              "      border-color: transparent;\n",
              "      border-right-color: var(--fill-color);\n",
              "    }\n",
              "    80% {\n",
              "      border-color: transparent;\n",
              "      border-right-color: var(--fill-color);\n",
              "      border-bottom-color: var(--fill-color);\n",
              "    }\n",
              "    90% {\n",
              "      border-color: transparent;\n",
              "      border-bottom-color: var(--fill-color);\n",
              "    }\n",
              "  }\n",
              "</style>\n",
              "\n",
              "  <script>\n",
              "    async function quickchart(key) {\n",
              "      const quickchartButtonEl =\n",
              "        document.querySelector('#' + key + ' button');\n",
              "      quickchartButtonEl.disabled = true;  // To prevent multiple clicks.\n",
              "      quickchartButtonEl.classList.add('colab-df-spinner');\n",
              "      try {\n",
              "        const charts = await google.colab.kernel.invokeFunction(\n",
              "            'suggestCharts', [key], {});\n",
              "      } catch (error) {\n",
              "        console.error('Error during call to suggestCharts:', error);\n",
              "      }\n",
              "      quickchartButtonEl.classList.remove('colab-df-spinner');\n",
              "      quickchartButtonEl.classList.add('colab-df-quickchart-complete');\n",
              "    }\n",
              "    (() => {\n",
              "      let quickchartButtonEl =\n",
              "        document.querySelector('#df-da65c55b-d708-4143-b41c-8d947de633f5 button');\n",
              "      quickchartButtonEl.style.display =\n",
              "        google.colab.kernel.accessAllowed ? 'block' : 'none';\n",
              "    })();\n",
              "  </script>\n",
              "</div>\n",
              "\n",
              "    </div>\n",
              "  </div>\n"
            ],
            "application/vnd.google.colaboratory.intrinsic+json": {
              "type": "dataframe",
              "summary": "{\n  \"name\": \"a\",\n  \"rows\": 5,\n  \"fields\": [\n    {\n      \"column\": \"step\",\n      \"properties\": {\n        \"dtype\": \"number\",\n        \"std\": 0,\n        \"min\": 8,\n        \"max\": 8,\n        \"num_unique_values\": 1,\n        \"samples\": [\n          8\n        ],\n        \"semantic_type\": \"\",\n        \"description\": \"\"\n      }\n    },\n    {\n      \"column\": \"type\",\n      \"properties\": {\n        \"dtype\": \"category\",\n        \"num_unique_values\": 1,\n        \"samples\": [\n          \"CASH_OUT\"\n        ],\n        \"semantic_type\": \"\",\n        \"description\": \"\"\n      }\n    },\n    {\n      \"column\": \"amount\",\n      \"properties\": {\n        \"dtype\": \"number\",\n        \"std\": 50570.86174235446,\n        \"min\": 7270.37,\n        \"max\": 138651.85,\n        \"num_unique_values\": 5,\n        \"samples\": [\n          113043.31\n        ],\n        \"semantic_type\": \"\",\n        \"description\": \"\"\n      }\n    },\n    {\n      \"column\": \"nameOrig\",\n      \"properties\": {\n        \"dtype\": \"string\",\n        \"num_unique_values\": 5,\n        \"samples\": [\n          \"C1845952463\"\n        ],\n        \"semantic_type\": \"\",\n        \"description\": \"\"\n      }\n    },\n    {\n      \"column\": \"oldbalanceOrg\",\n      \"properties\": {\n        \"dtype\": \"number\",\n        \"std\": 0.0,\n        \"min\": 0.0,\n        \"max\": 0.0,\n        \"num_unique_values\": 1,\n        \"samples\": [\n          0.0\n        ],\n        \"semantic_type\": \"\",\n        \"description\": \"\"\n      }\n    },\n    {\n      \"column\": \"newbalanceOrig\",\n      \"properties\": {\n        \"dtype\": \"number\",\n        \"std\": 0.0,\n        \"min\": 0.0,\n        \"max\": 0.0,\n        \"num_unique_values\": 1,\n        \"samples\": [\n          0.0\n        ],\n        \"semantic_type\": \"\",\n        \"description\": \"\"\n      }\n    },\n    {\n      \"column\": \"nameDest\",\n      \"properties\": {\n        \"dtype\": \"string\",\n        \"num_unique_values\": 5,\n        \"samples\": [\n          \"C483817115\"\n        ],\n        \"semantic_type\": \"\",\n        \"description\": \"\"\n      }\n    },\n    {\n      \"column\": \"oldbalanceDest\",\n      \"properties\": {\n        \"dtype\": \"number\",\n        \"std\": 4324791.875862811,\n        \"min\": 112673.41,\n        \"max\": 10085462.79,\n        \"num_unique_values\": 5,\n        \"samples\": [\n          10085462.79\n        ],\n        \"semantic_type\": \"\",\n        \"description\": \"\"\n      }\n    },\n    {\n      \"column\": \"newbalanceDest\",\n      \"properties\": {\n        \"dtype\": \"number\",\n        \"std\": 4291489.2918880535,\n        \"min\": 30370.0,\n        \"max\": 10014348.15,\n        \"num_unique_values\": 5,\n        \"samples\": [\n          10014348.15\n        ],\n        \"semantic_type\": \"\",\n        \"description\": \"\"\n      }\n    },\n    {\n      \"column\": \"isFraud\",\n      \"properties\": {\n        \"dtype\": \"number\",\n        \"std\": 0.0,\n        \"min\": 0.0,\n        \"max\": 0.0,\n        \"num_unique_values\": 1,\n        \"samples\": [\n          0.0\n        ],\n        \"semantic_type\": \"\",\n        \"description\": \"\"\n      }\n    },\n    {\n      \"column\": \"isFlaggedFraud\",\n      \"properties\": {\n        \"dtype\": \"number\",\n        \"std\": 0.0,\n        \"min\": 0.0,\n        \"max\": 0.0,\n        \"num_unique_values\": 1,\n        \"samples\": [\n          0.0\n        ],\n        \"semantic_type\": \"\",\n        \"description\": \"\"\n      }\n    }\n  ]\n}"
            }
          },
          "metadata": {},
          "execution_count": 4
        }
      ],
      "source": [
        "a.tail(5)"
      ]
    },
    {
      "cell_type": "code",
      "execution_count": null,
      "metadata": {
        "colab": {
          "base_uri": "https://localhost:8080/"
        },
        "id": "M_YQfMIsLFsH",
        "outputId": "89535f35-1ee0-423b-c87f-c2888aecc828"
      },
      "outputs": [
        {
          "output_type": "execute_result",
          "data": {
            "text/plain": [
              "(28297, 11)"
            ]
          },
          "metadata": {},
          "execution_count": 5
        }
      ],
      "source": [
        "a.shape"
      ]
    },
    {
      "cell_type": "code",
      "source": [
        "print(a.shape[0])\n",
        "print(a.shape[1])\n"
      ],
      "metadata": {
        "colab": {
          "base_uri": "https://localhost:8080/"
        },
        "id": "mEg8AiS8mRQV",
        "outputId": "78e386bd-47ab-485b-fb8d-99daa3a1fa82"
      },
      "execution_count": null,
      "outputs": [
        {
          "output_type": "stream",
          "name": "stdout",
          "text": [
            "28297\n",
            "11\n"
          ]
        }
      ]
    },
    {
      "cell_type": "code",
      "execution_count": null,
      "metadata": {
        "colab": {
          "base_uri": "https://localhost:8080/",
          "height": 423
        },
        "id": "a9a-1TquIWpL",
        "outputId": "4a944692-856f-4d07-fed8-2cbe2cca3268"
      },
      "outputs": [
        {
          "output_type": "execute_result",
          "data": {
            "text/plain": [
              "        step   type  amount  nameOrig  oldbalanceOrg  newbalanceOrig  \\\n",
              "0      False  False   False     False          False           False   \n",
              "1      False  False   False     False          False           False   \n",
              "2      False  False   False     False          False           False   \n",
              "3      False  False   False     False          False           False   \n",
              "4      False  False   False     False          False           False   \n",
              "...      ...    ...     ...       ...            ...             ...   \n",
              "28292  False  False   False     False          False           False   \n",
              "28293  False  False   False     False          False           False   \n",
              "28294  False  False   False     False          False           False   \n",
              "28295  False  False   False     False          False           False   \n",
              "28296  False  False   False     False          False           False   \n",
              "\n",
              "       nameDest  oldbalanceDest  newbalanceDest  isFraud  isFlaggedFraud  \n",
              "0         False           False           False    False           False  \n",
              "1         False           False           False    False           False  \n",
              "2         False           False           False    False           False  \n",
              "3         False           False           False    False           False  \n",
              "4         False           False           False    False           False  \n",
              "...         ...             ...             ...      ...             ...  \n",
              "28292     False           False           False    False           False  \n",
              "28293     False           False           False    False           False  \n",
              "28294     False           False           False    False           False  \n",
              "28295     False           False           False    False           False  \n",
              "28296     False           False           False     True            True  \n",
              "\n",
              "[28297 rows x 11 columns]"
            ],
            "text/html": [
              "\n",
              "  <div id=\"df-a4451ada-33ad-4692-b326-6210dfdc6721\" class=\"colab-df-container\">\n",
              "    <div>\n",
              "<style scoped>\n",
              "    .dataframe tbody tr th:only-of-type {\n",
              "        vertical-align: middle;\n",
              "    }\n",
              "\n",
              "    .dataframe tbody tr th {\n",
              "        vertical-align: top;\n",
              "    }\n",
              "\n",
              "    .dataframe thead th {\n",
              "        text-align: right;\n",
              "    }\n",
              "</style>\n",
              "<table border=\"1\" class=\"dataframe\">\n",
              "  <thead>\n",
              "    <tr style=\"text-align: right;\">\n",
              "      <th></th>\n",
              "      <th>step</th>\n",
              "      <th>type</th>\n",
              "      <th>amount</th>\n",
              "      <th>nameOrig</th>\n",
              "      <th>oldbalanceOrg</th>\n",
              "      <th>newbalanceOrig</th>\n",
              "      <th>nameDest</th>\n",
              "      <th>oldbalanceDest</th>\n",
              "      <th>newbalanceDest</th>\n",
              "      <th>isFraud</th>\n",
              "      <th>isFlaggedFraud</th>\n",
              "    </tr>\n",
              "  </thead>\n",
              "  <tbody>\n",
              "    <tr>\n",
              "      <th>0</th>\n",
              "      <td>False</td>\n",
              "      <td>False</td>\n",
              "      <td>False</td>\n",
              "      <td>False</td>\n",
              "      <td>False</td>\n",
              "      <td>False</td>\n",
              "      <td>False</td>\n",
              "      <td>False</td>\n",
              "      <td>False</td>\n",
              "      <td>False</td>\n",
              "      <td>False</td>\n",
              "    </tr>\n",
              "    <tr>\n",
              "      <th>1</th>\n",
              "      <td>False</td>\n",
              "      <td>False</td>\n",
              "      <td>False</td>\n",
              "      <td>False</td>\n",
              "      <td>False</td>\n",
              "      <td>False</td>\n",
              "      <td>False</td>\n",
              "      <td>False</td>\n",
              "      <td>False</td>\n",
              "      <td>False</td>\n",
              "      <td>False</td>\n",
              "    </tr>\n",
              "    <tr>\n",
              "      <th>2</th>\n",
              "      <td>False</td>\n",
              "      <td>False</td>\n",
              "      <td>False</td>\n",
              "      <td>False</td>\n",
              "      <td>False</td>\n",
              "      <td>False</td>\n",
              "      <td>False</td>\n",
              "      <td>False</td>\n",
              "      <td>False</td>\n",
              "      <td>False</td>\n",
              "      <td>False</td>\n",
              "    </tr>\n",
              "    <tr>\n",
              "      <th>3</th>\n",
              "      <td>False</td>\n",
              "      <td>False</td>\n",
              "      <td>False</td>\n",
              "      <td>False</td>\n",
              "      <td>False</td>\n",
              "      <td>False</td>\n",
              "      <td>False</td>\n",
              "      <td>False</td>\n",
              "      <td>False</td>\n",
              "      <td>False</td>\n",
              "      <td>False</td>\n",
              "    </tr>\n",
              "    <tr>\n",
              "      <th>4</th>\n",
              "      <td>False</td>\n",
              "      <td>False</td>\n",
              "      <td>False</td>\n",
              "      <td>False</td>\n",
              "      <td>False</td>\n",
              "      <td>False</td>\n",
              "      <td>False</td>\n",
              "      <td>False</td>\n",
              "      <td>False</td>\n",
              "      <td>False</td>\n",
              "      <td>False</td>\n",
              "    </tr>\n",
              "    <tr>\n",
              "      <th>...</th>\n",
              "      <td>...</td>\n",
              "      <td>...</td>\n",
              "      <td>...</td>\n",
              "      <td>...</td>\n",
              "      <td>...</td>\n",
              "      <td>...</td>\n",
              "      <td>...</td>\n",
              "      <td>...</td>\n",
              "      <td>...</td>\n",
              "      <td>...</td>\n",
              "      <td>...</td>\n",
              "    </tr>\n",
              "    <tr>\n",
              "      <th>28292</th>\n",
              "      <td>False</td>\n",
              "      <td>False</td>\n",
              "      <td>False</td>\n",
              "      <td>False</td>\n",
              "      <td>False</td>\n",
              "      <td>False</td>\n",
              "      <td>False</td>\n",
              "      <td>False</td>\n",
              "      <td>False</td>\n",
              "      <td>False</td>\n",
              "      <td>False</td>\n",
              "    </tr>\n",
              "    <tr>\n",
              "      <th>28293</th>\n",
              "      <td>False</td>\n",
              "      <td>False</td>\n",
              "      <td>False</td>\n",
              "      <td>False</td>\n",
              "      <td>False</td>\n",
              "      <td>False</td>\n",
              "      <td>False</td>\n",
              "      <td>False</td>\n",
              "      <td>False</td>\n",
              "      <td>False</td>\n",
              "      <td>False</td>\n",
              "    </tr>\n",
              "    <tr>\n",
              "      <th>28294</th>\n",
              "      <td>False</td>\n",
              "      <td>False</td>\n",
              "      <td>False</td>\n",
              "      <td>False</td>\n",
              "      <td>False</td>\n",
              "      <td>False</td>\n",
              "      <td>False</td>\n",
              "      <td>False</td>\n",
              "      <td>False</td>\n",
              "      <td>False</td>\n",
              "      <td>False</td>\n",
              "    </tr>\n",
              "    <tr>\n",
              "      <th>28295</th>\n",
              "      <td>False</td>\n",
              "      <td>False</td>\n",
              "      <td>False</td>\n",
              "      <td>False</td>\n",
              "      <td>False</td>\n",
              "      <td>False</td>\n",
              "      <td>False</td>\n",
              "      <td>False</td>\n",
              "      <td>False</td>\n",
              "      <td>False</td>\n",
              "      <td>False</td>\n",
              "    </tr>\n",
              "    <tr>\n",
              "      <th>28296</th>\n",
              "      <td>False</td>\n",
              "      <td>False</td>\n",
              "      <td>False</td>\n",
              "      <td>False</td>\n",
              "      <td>False</td>\n",
              "      <td>False</td>\n",
              "      <td>False</td>\n",
              "      <td>False</td>\n",
              "      <td>False</td>\n",
              "      <td>True</td>\n",
              "      <td>True</td>\n",
              "    </tr>\n",
              "  </tbody>\n",
              "</table>\n",
              "<p>28297 rows × 11 columns</p>\n",
              "</div>\n",
              "    <div class=\"colab-df-buttons\">\n",
              "\n",
              "  <div class=\"colab-df-container\">\n",
              "    <button class=\"colab-df-convert\" onclick=\"convertToInteractive('df-a4451ada-33ad-4692-b326-6210dfdc6721')\"\n",
              "            title=\"Convert this dataframe to an interactive table.\"\n",
              "            style=\"display:none;\">\n",
              "\n",
              "  <svg xmlns=\"http://www.w3.org/2000/svg\" height=\"24px\" viewBox=\"0 -960 960 960\">\n",
              "    <path d=\"M120-120v-720h720v720H120Zm60-500h600v-160H180v160Zm220 220h160v-160H400v160Zm0 220h160v-160H400v160ZM180-400h160v-160H180v160Zm440 0h160v-160H620v160ZM180-180h160v-160H180v160Zm440 0h160v-160H620v160Z\"/>\n",
              "  </svg>\n",
              "    </button>\n",
              "\n",
              "  <style>\n",
              "    .colab-df-container {\n",
              "      display:flex;\n",
              "      gap: 12px;\n",
              "    }\n",
              "\n",
              "    .colab-df-convert {\n",
              "      background-color: #E8F0FE;\n",
              "      border: none;\n",
              "      border-radius: 50%;\n",
              "      cursor: pointer;\n",
              "      display: none;\n",
              "      fill: #1967D2;\n",
              "      height: 32px;\n",
              "      padding: 0 0 0 0;\n",
              "      width: 32px;\n",
              "    }\n",
              "\n",
              "    .colab-df-convert:hover {\n",
              "      background-color: #E2EBFA;\n",
              "      box-shadow: 0px 1px 2px rgba(60, 64, 67, 0.3), 0px 1px 3px 1px rgba(60, 64, 67, 0.15);\n",
              "      fill: #174EA6;\n",
              "    }\n",
              "\n",
              "    .colab-df-buttons div {\n",
              "      margin-bottom: 4px;\n",
              "    }\n",
              "\n",
              "    [theme=dark] .colab-df-convert {\n",
              "      background-color: #3B4455;\n",
              "      fill: #D2E3FC;\n",
              "    }\n",
              "\n",
              "    [theme=dark] .colab-df-convert:hover {\n",
              "      background-color: #434B5C;\n",
              "      box-shadow: 0px 1px 3px 1px rgba(0, 0, 0, 0.15);\n",
              "      filter: drop-shadow(0px 1px 2px rgba(0, 0, 0, 0.3));\n",
              "      fill: #FFFFFF;\n",
              "    }\n",
              "  </style>\n",
              "\n",
              "    <script>\n",
              "      const buttonEl =\n",
              "        document.querySelector('#df-a4451ada-33ad-4692-b326-6210dfdc6721 button.colab-df-convert');\n",
              "      buttonEl.style.display =\n",
              "        google.colab.kernel.accessAllowed ? 'block' : 'none';\n",
              "\n",
              "      async function convertToInteractive(key) {\n",
              "        const element = document.querySelector('#df-a4451ada-33ad-4692-b326-6210dfdc6721');\n",
              "        const dataTable =\n",
              "          await google.colab.kernel.invokeFunction('convertToInteractive',\n",
              "                                                    [key], {});\n",
              "        if (!dataTable) return;\n",
              "\n",
              "        const docLinkHtml = 'Like what you see? Visit the ' +\n",
              "          '<a target=\"_blank\" href=https://colab.research.google.com/notebooks/data_table.ipynb>data table notebook</a>'\n",
              "          + ' to learn more about interactive tables.';\n",
              "        element.innerHTML = '';\n",
              "        dataTable['output_type'] = 'display_data';\n",
              "        await google.colab.output.renderOutput(dataTable, element);\n",
              "        const docLink = document.createElement('div');\n",
              "        docLink.innerHTML = docLinkHtml;\n",
              "        element.appendChild(docLink);\n",
              "      }\n",
              "    </script>\n",
              "  </div>\n",
              "\n",
              "\n",
              "<div id=\"df-540422d4-cbf5-4dce-a23c-f6aee61d8f19\">\n",
              "  <button class=\"colab-df-quickchart\" onclick=\"quickchart('df-540422d4-cbf5-4dce-a23c-f6aee61d8f19')\"\n",
              "            title=\"Suggest charts\"\n",
              "            style=\"display:none;\">\n",
              "\n",
              "<svg xmlns=\"http://www.w3.org/2000/svg\" height=\"24px\"viewBox=\"0 0 24 24\"\n",
              "     width=\"24px\">\n",
              "    <g>\n",
              "        <path d=\"M19 3H5c-1.1 0-2 .9-2 2v14c0 1.1.9 2 2 2h14c1.1 0 2-.9 2-2V5c0-1.1-.9-2-2-2zM9 17H7v-7h2v7zm4 0h-2V7h2v10zm4 0h-2v-4h2v4z\"/>\n",
              "    </g>\n",
              "</svg>\n",
              "  </button>\n",
              "\n",
              "<style>\n",
              "  .colab-df-quickchart {\n",
              "      --bg-color: #E8F0FE;\n",
              "      --fill-color: #1967D2;\n",
              "      --hover-bg-color: #E2EBFA;\n",
              "      --hover-fill-color: #174EA6;\n",
              "      --disabled-fill-color: #AAA;\n",
              "      --disabled-bg-color: #DDD;\n",
              "  }\n",
              "\n",
              "  [theme=dark] .colab-df-quickchart {\n",
              "      --bg-color: #3B4455;\n",
              "      --fill-color: #D2E3FC;\n",
              "      --hover-bg-color: #434B5C;\n",
              "      --hover-fill-color: #FFFFFF;\n",
              "      --disabled-bg-color: #3B4455;\n",
              "      --disabled-fill-color: #666;\n",
              "  }\n",
              "\n",
              "  .colab-df-quickchart {\n",
              "    background-color: var(--bg-color);\n",
              "    border: none;\n",
              "    border-radius: 50%;\n",
              "    cursor: pointer;\n",
              "    display: none;\n",
              "    fill: var(--fill-color);\n",
              "    height: 32px;\n",
              "    padding: 0;\n",
              "    width: 32px;\n",
              "  }\n",
              "\n",
              "  .colab-df-quickchart:hover {\n",
              "    background-color: var(--hover-bg-color);\n",
              "    box-shadow: 0 1px 2px rgba(60, 64, 67, 0.3), 0 1px 3px 1px rgba(60, 64, 67, 0.15);\n",
              "    fill: var(--button-hover-fill-color);\n",
              "  }\n",
              "\n",
              "  .colab-df-quickchart-complete:disabled,\n",
              "  .colab-df-quickchart-complete:disabled:hover {\n",
              "    background-color: var(--disabled-bg-color);\n",
              "    fill: var(--disabled-fill-color);\n",
              "    box-shadow: none;\n",
              "  }\n",
              "\n",
              "  .colab-df-spinner {\n",
              "    border: 2px solid var(--fill-color);\n",
              "    border-color: transparent;\n",
              "    border-bottom-color: var(--fill-color);\n",
              "    animation:\n",
              "      spin 1s steps(1) infinite;\n",
              "  }\n",
              "\n",
              "  @keyframes spin {\n",
              "    0% {\n",
              "      border-color: transparent;\n",
              "      border-bottom-color: var(--fill-color);\n",
              "      border-left-color: var(--fill-color);\n",
              "    }\n",
              "    20% {\n",
              "      border-color: transparent;\n",
              "      border-left-color: var(--fill-color);\n",
              "      border-top-color: var(--fill-color);\n",
              "    }\n",
              "    30% {\n",
              "      border-color: transparent;\n",
              "      border-left-color: var(--fill-color);\n",
              "      border-top-color: var(--fill-color);\n",
              "      border-right-color: var(--fill-color);\n",
              "    }\n",
              "    40% {\n",
              "      border-color: transparent;\n",
              "      border-right-color: var(--fill-color);\n",
              "      border-top-color: var(--fill-color);\n",
              "    }\n",
              "    60% {\n",
              "      border-color: transparent;\n",
              "      border-right-color: var(--fill-color);\n",
              "    }\n",
              "    80% {\n",
              "      border-color: transparent;\n",
              "      border-right-color: var(--fill-color);\n",
              "      border-bottom-color: var(--fill-color);\n",
              "    }\n",
              "    90% {\n",
              "      border-color: transparent;\n",
              "      border-bottom-color: var(--fill-color);\n",
              "    }\n",
              "  }\n",
              "</style>\n",
              "\n",
              "  <script>\n",
              "    async function quickchart(key) {\n",
              "      const quickchartButtonEl =\n",
              "        document.querySelector('#' + key + ' button');\n",
              "      quickchartButtonEl.disabled = true;  // To prevent multiple clicks.\n",
              "      quickchartButtonEl.classList.add('colab-df-spinner');\n",
              "      try {\n",
              "        const charts = await google.colab.kernel.invokeFunction(\n",
              "            'suggestCharts', [key], {});\n",
              "      } catch (error) {\n",
              "        console.error('Error during call to suggestCharts:', error);\n",
              "      }\n",
              "      quickchartButtonEl.classList.remove('colab-df-spinner');\n",
              "      quickchartButtonEl.classList.add('colab-df-quickchart-complete');\n",
              "    }\n",
              "    (() => {\n",
              "      let quickchartButtonEl =\n",
              "        document.querySelector('#df-540422d4-cbf5-4dce-a23c-f6aee61d8f19 button');\n",
              "      quickchartButtonEl.style.display =\n",
              "        google.colab.kernel.accessAllowed ? 'block' : 'none';\n",
              "    })();\n",
              "  </script>\n",
              "</div>\n",
              "\n",
              "    </div>\n",
              "  </div>\n"
            ],
            "application/vnd.google.colaboratory.intrinsic+json": {
              "type": "dataframe",
              "summary": "{\n  \"name\": \"a\",\n  \"rows\": 28297,\n  \"fields\": [\n    {\n      \"column\": \"step\",\n      \"properties\": {\n        \"dtype\": \"boolean\",\n        \"num_unique_values\": 1,\n        \"samples\": [\n          false\n        ],\n        \"semantic_type\": \"\",\n        \"description\": \"\"\n      }\n    },\n    {\n      \"column\": \"type\",\n      \"properties\": {\n        \"dtype\": \"boolean\",\n        \"num_unique_values\": 1,\n        \"samples\": [\n          false\n        ],\n        \"semantic_type\": \"\",\n        \"description\": \"\"\n      }\n    },\n    {\n      \"column\": \"amount\",\n      \"properties\": {\n        \"dtype\": \"boolean\",\n        \"num_unique_values\": 1,\n        \"samples\": [\n          false\n        ],\n        \"semantic_type\": \"\",\n        \"description\": \"\"\n      }\n    },\n    {\n      \"column\": \"nameOrig\",\n      \"properties\": {\n        \"dtype\": \"boolean\",\n        \"num_unique_values\": 1,\n        \"samples\": [\n          false\n        ],\n        \"semantic_type\": \"\",\n        \"description\": \"\"\n      }\n    },\n    {\n      \"column\": \"oldbalanceOrg\",\n      \"properties\": {\n        \"dtype\": \"boolean\",\n        \"num_unique_values\": 1,\n        \"samples\": [\n          false\n        ],\n        \"semantic_type\": \"\",\n        \"description\": \"\"\n      }\n    },\n    {\n      \"column\": \"newbalanceOrig\",\n      \"properties\": {\n        \"dtype\": \"boolean\",\n        \"num_unique_values\": 1,\n        \"samples\": [\n          false\n        ],\n        \"semantic_type\": \"\",\n        \"description\": \"\"\n      }\n    },\n    {\n      \"column\": \"nameDest\",\n      \"properties\": {\n        \"dtype\": \"boolean\",\n        \"num_unique_values\": 1,\n        \"samples\": [\n          false\n        ],\n        \"semantic_type\": \"\",\n        \"description\": \"\"\n      }\n    },\n    {\n      \"column\": \"oldbalanceDest\",\n      \"properties\": {\n        \"dtype\": \"boolean\",\n        \"num_unique_values\": 1,\n        \"samples\": [\n          false\n        ],\n        \"semantic_type\": \"\",\n        \"description\": \"\"\n      }\n    },\n    {\n      \"column\": \"newbalanceDest\",\n      \"properties\": {\n        \"dtype\": \"boolean\",\n        \"num_unique_values\": 1,\n        \"samples\": [\n          false\n        ],\n        \"semantic_type\": \"\",\n        \"description\": \"\"\n      }\n    },\n    {\n      \"column\": \"isFraud\",\n      \"properties\": {\n        \"dtype\": \"boolean\",\n        \"num_unique_values\": 2,\n        \"samples\": [\n          true\n        ],\n        \"semantic_type\": \"\",\n        \"description\": \"\"\n      }\n    },\n    {\n      \"column\": \"isFlaggedFraud\",\n      \"properties\": {\n        \"dtype\": \"boolean\",\n        \"num_unique_values\": 2,\n        \"samples\": [\n          true\n        ],\n        \"semantic_type\": \"\",\n        \"description\": \"\"\n      }\n    }\n  ]\n}"
            }
          },
          "metadata": {},
          "execution_count": 7
        }
      ],
      "source": [
        "a.isnull()"
      ]
    },
    {
      "cell_type": "code",
      "execution_count": null,
      "metadata": {
        "colab": {
          "base_uri": "https://localhost:8080/"
        },
        "id": "6F-oSbKbJdA8",
        "outputId": "58586c23-1d94-43cd-ef69-ac036f3f6afc"
      },
      "outputs": [
        {
          "output_type": "execute_result",
          "data": {
            "text/plain": [
              "step              0\n",
              "type              0\n",
              "amount            0\n",
              "nameOrig          0\n",
              "oldbalanceOrg     0\n",
              "newbalanceOrig    0\n",
              "nameDest          0\n",
              "oldbalanceDest    0\n",
              "newbalanceDest    0\n",
              "isFraud           1\n",
              "isFlaggedFraud    1\n",
              "dtype: int64"
            ]
          },
          "metadata": {},
          "execution_count": 8
        }
      ],
      "source": [
        "a.isnull().sum()\n"
      ]
    },
    {
      "cell_type": "code",
      "execution_count": null,
      "metadata": {
        "id": "30FefdJZJh8q"
      },
      "outputs": [],
      "source": [
        "a.dropna(inplace=True)"
      ]
    },
    {
      "cell_type": "code",
      "execution_count": null,
      "metadata": {
        "colab": {
          "base_uri": "https://localhost:8080/"
        },
        "id": "dRrfrgtgJ1fP",
        "outputId": "9992cb0b-a52c-4906-8773-6453dfe5f827"
      },
      "outputs": [
        {
          "output_type": "execute_result",
          "data": {
            "text/plain": [
              "step              0\n",
              "type              0\n",
              "amount            0\n",
              "nameOrig          0\n",
              "oldbalanceOrg     0\n",
              "newbalanceOrig    0\n",
              "nameDest          0\n",
              "oldbalanceDest    0\n",
              "newbalanceDest    0\n",
              "isFraud           0\n",
              "isFlaggedFraud    0\n",
              "dtype: int64"
            ]
          },
          "metadata": {},
          "execution_count": 10
        }
      ],
      "source": [
        "a.isnull().sum()"
      ]
    },
    {
      "cell_type": "code",
      "execution_count": null,
      "metadata": {
        "colab": {
          "base_uri": "https://localhost:8080/"
        },
        "id": "32Vw47HLK-l_",
        "outputId": "c056a269-6f07-4636-ac69-794ce450ea1e"
      },
      "outputs": [
        {
          "output_type": "stream",
          "name": "stdout",
          "text": [
            "<class 'pandas.core.frame.DataFrame'>\n",
            "Index: 28296 entries, 0 to 28295\n",
            "Data columns (total 11 columns):\n",
            " #   Column          Non-Null Count  Dtype  \n",
            "---  ------          --------------  -----  \n",
            " 0   step            28296 non-null  int64  \n",
            " 1   type            28296 non-null  object \n",
            " 2   amount          28296 non-null  float64\n",
            " 3   nameOrig        28296 non-null  object \n",
            " 4   oldbalanceOrg   28296 non-null  float64\n",
            " 5   newbalanceOrig  28296 non-null  float64\n",
            " 6   nameDest        28296 non-null  object \n",
            " 7   oldbalanceDest  28296 non-null  float64\n",
            " 8   newbalanceDest  28296 non-null  float64\n",
            " 9   isFraud         28296 non-null  float64\n",
            " 10  isFlaggedFraud  28296 non-null  float64\n",
            "dtypes: float64(7), int64(1), object(3)\n",
            "memory usage: 2.6+ MB\n"
          ]
        }
      ],
      "source": [
        "a.info()"
      ]
    },
    {
      "cell_type": "code",
      "execution_count": null,
      "metadata": {
        "colab": {
          "base_uri": "https://localhost:8080/"
        },
        "id": "YzDxL_KOMn3k",
        "outputId": "fc1b4a44-b4e1-456d-bafc-80d96be16060"
      },
      "outputs": [
        {
          "output_type": "execute_result",
          "data": {
            "text/plain": [
              "array(['C1231006815', 'C1666544295', 'C1305486145', ..., 'C1845952463',\n",
              "       'C140193335', 'C297851161'], dtype=object)"
            ]
          },
          "metadata": {},
          "execution_count": 12
        }
      ],
      "source": [
        "a['nameOrig'].unique()"
      ]
    },
    {
      "cell_type": "code",
      "execution_count": null,
      "metadata": {
        "colab": {
          "base_uri": "https://localhost:8080/"
        },
        "id": "r01gOY0rMyWl",
        "outputId": "56760306-e678-44d6-e4f2-2ac1b5c1d38e"
      },
      "outputs": [
        {
          "output_type": "execute_result",
          "data": {
            "text/plain": [
              "array(['M1979787155', 'M2044282225', 'C553264065', ..., 'M301121578',\n",
              "       'M1505232216', 'C345691183'], dtype=object)"
            ]
          },
          "metadata": {},
          "execution_count": 13
        }
      ],
      "source": [
        "a['nameDest'].unique()"
      ]
    },
    {
      "cell_type": "code",
      "execution_count": null,
      "metadata": {
        "id": "kflKe2eSRPbR"
      },
      "outputs": [],
      "source": [
        "b=a.values"
      ]
    },
    {
      "cell_type": "code",
      "execution_count": null,
      "metadata": {
        "colab": {
          "base_uri": "https://localhost:8080/"
        },
        "id": "MCJH4xEoSYKs",
        "outputId": "329f16bd-ff61-447f-afba-74efeb35949d"
      },
      "outputs": [
        {
          "output_type": "execute_result",
          "data": {
            "text/plain": [
              "array([[1, 'PAYMENT', 9839.64, ..., 0.0, 0.0, 0.0],\n",
              "       [1, 'PAYMENT', 1864.28, ..., 0.0, 0.0, 0.0],\n",
              "       [1, 'TRANSFER', 181.0, ..., 0.0, 1.0, 0.0],\n",
              "       ...,\n",
              "       [8, 'CASH_OUT', 113043.31, ..., 10014348.15, 0.0, 0.0],\n",
              "       [8, 'CASH_OUT', 89346.62, ..., 202020.02, 0.0, 0.0],\n",
              "       [8, 'CASH_OUT', 138651.85, ..., 281410.24, 0.0, 0.0]], dtype=object)"
            ]
          },
          "metadata": {},
          "execution_count": 15
        }
      ],
      "source": [
        "b"
      ]
    },
    {
      "cell_type": "code",
      "execution_count": null,
      "metadata": {
        "colab": {
          "base_uri": "https://localhost:8080/"
        },
        "id": "Z7iW6jNSSZYh",
        "outputId": "fab3c7c2-cecf-4cf1-de77-6b05593b14ab"
      },
      "outputs": [
        {
          "output_type": "execute_result",
          "data": {
            "text/plain": [
              "step  type      amount      nameOrig     oldbalanceOrg  newbalanceOrig  nameDest     oldbalanceDest  newbalanceDest  isFraud  isFlaggedFraud\n",
              "1     CASH_IN   270.78      C619985571   4184966.65     4185237.43      C875917495   3019.00         0.00            0.0      0.0               1\n",
              "8     CASH_OUT  169512.95   C69643410    188073.98      18561.02        C1624533975  236310.77       394387.32       0.0      0.0               1\n",
              "                170560.35   C216558151   10416.23       0.00            C1730964371  795628.27       4416336.25      0.0      0.0               1\n",
              "                170509.34   C146283475   0.00           0.00            C1898859288  803221.23       896323.73       0.0      0.0               1\n",
              "                170431.05   C949203925   13628.85       0.00            C76005115    22235.00        9082.15         0.0      0.0               1\n",
              "                                                                                                                                               ..\n",
              "7     PAYMENT   6.04        C1819350235  17282.00       17275.96        M951233281   0.00            0.00            0.0      0.0               1\n",
              "                2.39        C1014466471  41086.00       41083.61        M748971195   0.00            0.00            0.0      0.0               1\n",
              "      DEBIT     42806.74    C1882748959  69865.68       27058.94        C329829198   4453895.71      5102121.72      0.0      0.0               1\n",
              "                12510.32    C1054229371  9595.70        0.00            C116289363   14237.75        61080.75        0.0      0.0               1\n",
              "8     TRANSFER  5677662.29  C293394374   0.00           0.00            C1856036778  8427389.99      13688613.94     0.0      0.0               1\n",
              "Name: count, Length: 28296, dtype: int64"
            ]
          },
          "metadata": {},
          "execution_count": 16
        }
      ],
      "source": [
        "a.value_counts()"
      ]
    },
    {
      "cell_type": "code",
      "source": [
        "a.dtypes"
      ],
      "metadata": {
        "colab": {
          "base_uri": "https://localhost:8080/"
        },
        "id": "mkqrVd0JMpv1",
        "outputId": "fa93b661-34ee-48b6-8b8d-0ba3f7e793f0"
      },
      "execution_count": null,
      "outputs": [
        {
          "output_type": "execute_result",
          "data": {
            "text/plain": [
              "step                int64\n",
              "type               object\n",
              "amount            float64\n",
              "nameOrig           object\n",
              "oldbalanceOrg     float64\n",
              "newbalanceOrig    float64\n",
              "nameDest           object\n",
              "oldbalanceDest    float64\n",
              "newbalanceDest    float64\n",
              "isFraud           float64\n",
              "isFlaggedFraud    float64\n",
              "dtype: object"
            ]
          },
          "metadata": {},
          "execution_count": 17
        }
      ]
    },
    {
      "cell_type": "code",
      "execution_count": null,
      "metadata": {
        "colab": {
          "base_uri": "https://localhost:8080/",
          "height": 300
        },
        "id": "1zklzCbEUU80",
        "outputId": "19507e0e-08fa-440d-b333-8692aa497179"
      },
      "outputs": [
        {
          "output_type": "execute_result",
          "data": {
            "text/plain": [
              "               step        amount  oldbalanceOrg  newbalanceOrig  \\\n",
              "count  28296.000000  2.829600e+04   2.829600e+04    2.829600e+04   \n",
              "mean       6.508199  1.357431e+05   7.667297e+05    7.823827e+05   \n",
              "std        2.291113  3.013217e+05   2.126156e+06    2.166648e+06   \n",
              "min        1.000000  1.770000e+00   0.000000e+00    0.000000e+00   \n",
              "25%        6.000000  5.966463e+03   0.000000e+00    0.000000e+00   \n",
              "50%        8.000000  1.950196e+04   1.964727e+04    3.685915e+03   \n",
              "75%        8.000000  1.601118e+05   1.386889e+05    1.407674e+05   \n",
              "max        8.000000  1.000000e+07   2.235231e+07    2.246600e+07   \n",
              "\n",
              "       oldbalanceDest  newbalanceDest       isFraud  isFlaggedFraud  \n",
              "count    2.829600e+04    2.829600e+04  28296.000000         28296.0  \n",
              "mean     8.484026e+05    1.191347e+06      0.002969             0.0  \n",
              "std      2.513911e+06    3.106488e+06      0.054405             0.0  \n",
              "min      0.000000e+00    0.000000e+00      0.000000             0.0  \n",
              "25%      0.000000e+00    0.000000e+00      0.000000             0.0  \n",
              "50%      0.000000e+00    0.000000e+00      0.000000             0.0  \n",
              "75%      3.655721e+05    6.675980e+05      0.000000             0.0  \n",
              "max      2.495524e+07    2.878359e+07      1.000000             0.0  "
            ],
            "text/html": [
              "\n",
              "  <div id=\"df-459459e6-5250-4783-9fee-b2a020c04d7c\" class=\"colab-df-container\">\n",
              "    <div>\n",
              "<style scoped>\n",
              "    .dataframe tbody tr th:only-of-type {\n",
              "        vertical-align: middle;\n",
              "    }\n",
              "\n",
              "    .dataframe tbody tr th {\n",
              "        vertical-align: top;\n",
              "    }\n",
              "\n",
              "    .dataframe thead th {\n",
              "        text-align: right;\n",
              "    }\n",
              "</style>\n",
              "<table border=\"1\" class=\"dataframe\">\n",
              "  <thead>\n",
              "    <tr style=\"text-align: right;\">\n",
              "      <th></th>\n",
              "      <th>step</th>\n",
              "      <th>amount</th>\n",
              "      <th>oldbalanceOrg</th>\n",
              "      <th>newbalanceOrig</th>\n",
              "      <th>oldbalanceDest</th>\n",
              "      <th>newbalanceDest</th>\n",
              "      <th>isFraud</th>\n",
              "      <th>isFlaggedFraud</th>\n",
              "    </tr>\n",
              "  </thead>\n",
              "  <tbody>\n",
              "    <tr>\n",
              "      <th>count</th>\n",
              "      <td>28296.000000</td>\n",
              "      <td>2.829600e+04</td>\n",
              "      <td>2.829600e+04</td>\n",
              "      <td>2.829600e+04</td>\n",
              "      <td>2.829600e+04</td>\n",
              "      <td>2.829600e+04</td>\n",
              "      <td>28296.000000</td>\n",
              "      <td>28296.0</td>\n",
              "    </tr>\n",
              "    <tr>\n",
              "      <th>mean</th>\n",
              "      <td>6.508199</td>\n",
              "      <td>1.357431e+05</td>\n",
              "      <td>7.667297e+05</td>\n",
              "      <td>7.823827e+05</td>\n",
              "      <td>8.484026e+05</td>\n",
              "      <td>1.191347e+06</td>\n",
              "      <td>0.002969</td>\n",
              "      <td>0.0</td>\n",
              "    </tr>\n",
              "    <tr>\n",
              "      <th>std</th>\n",
              "      <td>2.291113</td>\n",
              "      <td>3.013217e+05</td>\n",
              "      <td>2.126156e+06</td>\n",
              "      <td>2.166648e+06</td>\n",
              "      <td>2.513911e+06</td>\n",
              "      <td>3.106488e+06</td>\n",
              "      <td>0.054405</td>\n",
              "      <td>0.0</td>\n",
              "    </tr>\n",
              "    <tr>\n",
              "      <th>min</th>\n",
              "      <td>1.000000</td>\n",
              "      <td>1.770000e+00</td>\n",
              "      <td>0.000000e+00</td>\n",
              "      <td>0.000000e+00</td>\n",
              "      <td>0.000000e+00</td>\n",
              "      <td>0.000000e+00</td>\n",
              "      <td>0.000000</td>\n",
              "      <td>0.0</td>\n",
              "    </tr>\n",
              "    <tr>\n",
              "      <th>25%</th>\n",
              "      <td>6.000000</td>\n",
              "      <td>5.966463e+03</td>\n",
              "      <td>0.000000e+00</td>\n",
              "      <td>0.000000e+00</td>\n",
              "      <td>0.000000e+00</td>\n",
              "      <td>0.000000e+00</td>\n",
              "      <td>0.000000</td>\n",
              "      <td>0.0</td>\n",
              "    </tr>\n",
              "    <tr>\n",
              "      <th>50%</th>\n",
              "      <td>8.000000</td>\n",
              "      <td>1.950196e+04</td>\n",
              "      <td>1.964727e+04</td>\n",
              "      <td>3.685915e+03</td>\n",
              "      <td>0.000000e+00</td>\n",
              "      <td>0.000000e+00</td>\n",
              "      <td>0.000000</td>\n",
              "      <td>0.0</td>\n",
              "    </tr>\n",
              "    <tr>\n",
              "      <th>75%</th>\n",
              "      <td>8.000000</td>\n",
              "      <td>1.601118e+05</td>\n",
              "      <td>1.386889e+05</td>\n",
              "      <td>1.407674e+05</td>\n",
              "      <td>3.655721e+05</td>\n",
              "      <td>6.675980e+05</td>\n",
              "      <td>0.000000</td>\n",
              "      <td>0.0</td>\n",
              "    </tr>\n",
              "    <tr>\n",
              "      <th>max</th>\n",
              "      <td>8.000000</td>\n",
              "      <td>1.000000e+07</td>\n",
              "      <td>2.235231e+07</td>\n",
              "      <td>2.246600e+07</td>\n",
              "      <td>2.495524e+07</td>\n",
              "      <td>2.878359e+07</td>\n",
              "      <td>1.000000</td>\n",
              "      <td>0.0</td>\n",
              "    </tr>\n",
              "  </tbody>\n",
              "</table>\n",
              "</div>\n",
              "    <div class=\"colab-df-buttons\">\n",
              "\n",
              "  <div class=\"colab-df-container\">\n",
              "    <button class=\"colab-df-convert\" onclick=\"convertToInteractive('df-459459e6-5250-4783-9fee-b2a020c04d7c')\"\n",
              "            title=\"Convert this dataframe to an interactive table.\"\n",
              "            style=\"display:none;\">\n",
              "\n",
              "  <svg xmlns=\"http://www.w3.org/2000/svg\" height=\"24px\" viewBox=\"0 -960 960 960\">\n",
              "    <path d=\"M120-120v-720h720v720H120Zm60-500h600v-160H180v160Zm220 220h160v-160H400v160Zm0 220h160v-160H400v160ZM180-400h160v-160H180v160Zm440 0h160v-160H620v160ZM180-180h160v-160H180v160Zm440 0h160v-160H620v160Z\"/>\n",
              "  </svg>\n",
              "    </button>\n",
              "\n",
              "  <style>\n",
              "    .colab-df-container {\n",
              "      display:flex;\n",
              "      gap: 12px;\n",
              "    }\n",
              "\n",
              "    .colab-df-convert {\n",
              "      background-color: #E8F0FE;\n",
              "      border: none;\n",
              "      border-radius: 50%;\n",
              "      cursor: pointer;\n",
              "      display: none;\n",
              "      fill: #1967D2;\n",
              "      height: 32px;\n",
              "      padding: 0 0 0 0;\n",
              "      width: 32px;\n",
              "    }\n",
              "\n",
              "    .colab-df-convert:hover {\n",
              "      background-color: #E2EBFA;\n",
              "      box-shadow: 0px 1px 2px rgba(60, 64, 67, 0.3), 0px 1px 3px 1px rgba(60, 64, 67, 0.15);\n",
              "      fill: #174EA6;\n",
              "    }\n",
              "\n",
              "    .colab-df-buttons div {\n",
              "      margin-bottom: 4px;\n",
              "    }\n",
              "\n",
              "    [theme=dark] .colab-df-convert {\n",
              "      background-color: #3B4455;\n",
              "      fill: #D2E3FC;\n",
              "    }\n",
              "\n",
              "    [theme=dark] .colab-df-convert:hover {\n",
              "      background-color: #434B5C;\n",
              "      box-shadow: 0px 1px 3px 1px rgba(0, 0, 0, 0.15);\n",
              "      filter: drop-shadow(0px 1px 2px rgba(0, 0, 0, 0.3));\n",
              "      fill: #FFFFFF;\n",
              "    }\n",
              "  </style>\n",
              "\n",
              "    <script>\n",
              "      const buttonEl =\n",
              "        document.querySelector('#df-459459e6-5250-4783-9fee-b2a020c04d7c button.colab-df-convert');\n",
              "      buttonEl.style.display =\n",
              "        google.colab.kernel.accessAllowed ? 'block' : 'none';\n",
              "\n",
              "      async function convertToInteractive(key) {\n",
              "        const element = document.querySelector('#df-459459e6-5250-4783-9fee-b2a020c04d7c');\n",
              "        const dataTable =\n",
              "          await google.colab.kernel.invokeFunction('convertToInteractive',\n",
              "                                                    [key], {});\n",
              "        if (!dataTable) return;\n",
              "\n",
              "        const docLinkHtml = 'Like what you see? Visit the ' +\n",
              "          '<a target=\"_blank\" href=https://colab.research.google.com/notebooks/data_table.ipynb>data table notebook</a>'\n",
              "          + ' to learn more about interactive tables.';\n",
              "        element.innerHTML = '';\n",
              "        dataTable['output_type'] = 'display_data';\n",
              "        await google.colab.output.renderOutput(dataTable, element);\n",
              "        const docLink = document.createElement('div');\n",
              "        docLink.innerHTML = docLinkHtml;\n",
              "        element.appendChild(docLink);\n",
              "      }\n",
              "    </script>\n",
              "  </div>\n",
              "\n",
              "\n",
              "<div id=\"df-0883115e-c59e-4ec1-b458-f0435455e36a\">\n",
              "  <button class=\"colab-df-quickchart\" onclick=\"quickchart('df-0883115e-c59e-4ec1-b458-f0435455e36a')\"\n",
              "            title=\"Suggest charts\"\n",
              "            style=\"display:none;\">\n",
              "\n",
              "<svg xmlns=\"http://www.w3.org/2000/svg\" height=\"24px\"viewBox=\"0 0 24 24\"\n",
              "     width=\"24px\">\n",
              "    <g>\n",
              "        <path d=\"M19 3H5c-1.1 0-2 .9-2 2v14c0 1.1.9 2 2 2h14c1.1 0 2-.9 2-2V5c0-1.1-.9-2-2-2zM9 17H7v-7h2v7zm4 0h-2V7h2v10zm4 0h-2v-4h2v4z\"/>\n",
              "    </g>\n",
              "</svg>\n",
              "  </button>\n",
              "\n",
              "<style>\n",
              "  .colab-df-quickchart {\n",
              "      --bg-color: #E8F0FE;\n",
              "      --fill-color: #1967D2;\n",
              "      --hover-bg-color: #E2EBFA;\n",
              "      --hover-fill-color: #174EA6;\n",
              "      --disabled-fill-color: #AAA;\n",
              "      --disabled-bg-color: #DDD;\n",
              "  }\n",
              "\n",
              "  [theme=dark] .colab-df-quickchart {\n",
              "      --bg-color: #3B4455;\n",
              "      --fill-color: #D2E3FC;\n",
              "      --hover-bg-color: #434B5C;\n",
              "      --hover-fill-color: #FFFFFF;\n",
              "      --disabled-bg-color: #3B4455;\n",
              "      --disabled-fill-color: #666;\n",
              "  }\n",
              "\n",
              "  .colab-df-quickchart {\n",
              "    background-color: var(--bg-color);\n",
              "    border: none;\n",
              "    border-radius: 50%;\n",
              "    cursor: pointer;\n",
              "    display: none;\n",
              "    fill: var(--fill-color);\n",
              "    height: 32px;\n",
              "    padding: 0;\n",
              "    width: 32px;\n",
              "  }\n",
              "\n",
              "  .colab-df-quickchart:hover {\n",
              "    background-color: var(--hover-bg-color);\n",
              "    box-shadow: 0 1px 2px rgba(60, 64, 67, 0.3), 0 1px 3px 1px rgba(60, 64, 67, 0.15);\n",
              "    fill: var(--button-hover-fill-color);\n",
              "  }\n",
              "\n",
              "  .colab-df-quickchart-complete:disabled,\n",
              "  .colab-df-quickchart-complete:disabled:hover {\n",
              "    background-color: var(--disabled-bg-color);\n",
              "    fill: var(--disabled-fill-color);\n",
              "    box-shadow: none;\n",
              "  }\n",
              "\n",
              "  .colab-df-spinner {\n",
              "    border: 2px solid var(--fill-color);\n",
              "    border-color: transparent;\n",
              "    border-bottom-color: var(--fill-color);\n",
              "    animation:\n",
              "      spin 1s steps(1) infinite;\n",
              "  }\n",
              "\n",
              "  @keyframes spin {\n",
              "    0% {\n",
              "      border-color: transparent;\n",
              "      border-bottom-color: var(--fill-color);\n",
              "      border-left-color: var(--fill-color);\n",
              "    }\n",
              "    20% {\n",
              "      border-color: transparent;\n",
              "      border-left-color: var(--fill-color);\n",
              "      border-top-color: var(--fill-color);\n",
              "    }\n",
              "    30% {\n",
              "      border-color: transparent;\n",
              "      border-left-color: var(--fill-color);\n",
              "      border-top-color: var(--fill-color);\n",
              "      border-right-color: var(--fill-color);\n",
              "    }\n",
              "    40% {\n",
              "      border-color: transparent;\n",
              "      border-right-color: var(--fill-color);\n",
              "      border-top-color: var(--fill-color);\n",
              "    }\n",
              "    60% {\n",
              "      border-color: transparent;\n",
              "      border-right-color: var(--fill-color);\n",
              "    }\n",
              "    80% {\n",
              "      border-color: transparent;\n",
              "      border-right-color: var(--fill-color);\n",
              "      border-bottom-color: var(--fill-color);\n",
              "    }\n",
              "    90% {\n",
              "      border-color: transparent;\n",
              "      border-bottom-color: var(--fill-color);\n",
              "    }\n",
              "  }\n",
              "</style>\n",
              "\n",
              "  <script>\n",
              "    async function quickchart(key) {\n",
              "      const quickchartButtonEl =\n",
              "        document.querySelector('#' + key + ' button');\n",
              "      quickchartButtonEl.disabled = true;  // To prevent multiple clicks.\n",
              "      quickchartButtonEl.classList.add('colab-df-spinner');\n",
              "      try {\n",
              "        const charts = await google.colab.kernel.invokeFunction(\n",
              "            'suggestCharts', [key], {});\n",
              "      } catch (error) {\n",
              "        console.error('Error during call to suggestCharts:', error);\n",
              "      }\n",
              "      quickchartButtonEl.classList.remove('colab-df-spinner');\n",
              "      quickchartButtonEl.classList.add('colab-df-quickchart-complete');\n",
              "    }\n",
              "    (() => {\n",
              "      let quickchartButtonEl =\n",
              "        document.querySelector('#df-0883115e-c59e-4ec1-b458-f0435455e36a button');\n",
              "      quickchartButtonEl.style.display =\n",
              "        google.colab.kernel.accessAllowed ? 'block' : 'none';\n",
              "    })();\n",
              "  </script>\n",
              "</div>\n",
              "\n",
              "    </div>\n",
              "  </div>\n"
            ],
            "application/vnd.google.colaboratory.intrinsic+json": {
              "type": "dataframe",
              "summary": "{\n  \"name\": \"a\",\n  \"rows\": 8,\n  \"fields\": [\n    {\n      \"column\": \"step\",\n      \"properties\": {\n        \"dtype\": \"number\",\n        \"std\": 10002.13693077158,\n        \"min\": 1.0,\n        \"max\": 28296.0,\n        \"num_unique_values\": 6,\n        \"samples\": [\n          28296.0,\n          6.50819903873339,\n          8.0\n        ],\n        \"semantic_type\": \"\",\n        \"description\": \"\"\n      }\n    },\n    {\n      \"column\": \"amount\",\n      \"properties\": {\n        \"dtype\": \"number\",\n        \"std\": 3504196.476891452,\n        \"min\": 1.77,\n        \"max\": 10000000.0,\n        \"num_unique_values\": 8,\n        \"samples\": [\n          135743.1112651965,\n          19501.96,\n          28296.0\n        ],\n        \"semantic_type\": \"\",\n        \"description\": \"\"\n      }\n    },\n    {\n      \"column\": \"oldbalanceOrg\",\n      \"properties\": {\n        \"dtype\": \"number\",\n        \"std\": 7781914.63886871,\n        \"min\": 0.0,\n        \"max\": 22352310.12,\n        \"num_unique_values\": 7,\n        \"samples\": [\n          28296.0,\n          766729.7436556404,\n          138688.91\n        ],\n        \"semantic_type\": \"\",\n        \"description\": \"\"\n      }\n    },\n    {\n      \"column\": \"newbalanceOrig\",\n      \"properties\": {\n        \"dtype\": \"number\",\n        \"std\": 7821274.926855836,\n        \"min\": 0.0,\n        \"max\": 22465998.18,\n        \"num_unique_values\": 7,\n        \"samples\": [\n          28296.0,\n          782382.7360785976,\n          140767.35\n        ],\n        \"semantic_type\": \"\",\n        \"description\": \"\"\n      }\n    },\n    {\n      \"column\": \"oldbalanceDest\",\n      \"properties\": {\n        \"dtype\": \"number\",\n        \"std\": 8675867.04228409,\n        \"min\": 0.0,\n        \"max\": 24955238.07,\n        \"num_unique_values\": 6,\n        \"samples\": [\n          28296.0,\n          848402.5546388181,\n          24955238.07\n        ],\n        \"semantic_type\": \"\",\n        \"description\": \"\"\n      }\n    },\n    {\n      \"column\": \"newbalanceDest\",\n      \"properties\": {\n        \"dtype\": \"number\",\n        \"std\": 9981393.25893997,\n        \"min\": 0.0,\n        \"max\": 28783585.38,\n        \"num_unique_values\": 6,\n        \"samples\": [\n          28296.0,\n          1191347.1752565734,\n          28783585.38\n        ],\n        \"semantic_type\": \"\",\n        \"description\": \"\"\n      }\n    },\n    {\n      \"column\": \"isFraud\",\n      \"properties\": {\n        \"dtype\": \"number\",\n        \"std\": 10004.093340813015,\n        \"min\": 0.0,\n        \"max\": 28296.0,\n        \"num_unique_values\": 5,\n        \"samples\": [\n          0.0029686174724342664,\n          1.0,\n          0.05440504928735523\n        ],\n        \"semantic_type\": \"\",\n        \"description\": \"\"\n      }\n    },\n    {\n      \"column\": \"isFlaggedFraud\",\n      \"properties\": {\n        \"dtype\": \"number\",\n        \"std\": 10004.146740227274,\n        \"min\": 0.0,\n        \"max\": 28296.0,\n        \"num_unique_values\": 2,\n        \"samples\": [\n          0.0,\n          28296.0\n        ],\n        \"semantic_type\": \"\",\n        \"description\": \"\"\n      }\n    }\n  ]\n}"
            }
          },
          "metadata": {},
          "execution_count": 18
        }
      ],
      "source": [
        "a.describe()"
      ]
    },
    {
      "cell_type": "code",
      "source": [
        "a.describe(include='all').T"
      ],
      "metadata": {
        "colab": {
          "base_uri": "https://localhost:8080/",
          "height": 394
        },
        "id": "7ApTYGvEgjFc",
        "outputId": "391201e1-f95e-40ff-e16f-2ceb19c24973"
      },
      "execution_count": null,
      "outputs": [
        {
          "output_type": "execute_result",
          "data": {
            "text/plain": [
              "                  count unique          top   freq            mean  \\\n",
              "step            28296.0    NaN          NaN    NaN        6.508199   \n",
              "type              28296      5      PAYMENT  13913             NaN   \n",
              "amount          28296.0    NaN          NaN    NaN   135743.111265   \n",
              "nameOrig          28296  28296  C1231006815      1             NaN   \n",
              "oldbalanceOrg   28296.0    NaN          NaN    NaN   766729.743656   \n",
              "newbalanceOrig  28296.0    NaN          NaN    NaN   782382.736079   \n",
              "nameDest          28296  17076   C985934102     71             NaN   \n",
              "oldbalanceDest  28296.0    NaN          NaN    NaN   848402.554639   \n",
              "newbalanceDest  28296.0    NaN          NaN    NaN  1191347.175257   \n",
              "isFraud         28296.0    NaN          NaN    NaN        0.002969   \n",
              "isFlaggedFraud  28296.0    NaN          NaN    NaN             0.0   \n",
              "\n",
              "                           std   min        25%       50%          75%  \\\n",
              "step                  2.291113   1.0        6.0       8.0          8.0   \n",
              "type                       NaN   NaN        NaN       NaN          NaN   \n",
              "amount           301321.690733  1.77  5966.4625  19501.96  160111.7525   \n",
              "nameOrig                   NaN   NaN        NaN       NaN          NaN   \n",
              "oldbalanceOrg   2126155.998887   0.0        0.0  19647.27    138688.91   \n",
              "newbalanceOrig  2166648.397857   0.0        0.0  3685.915    140767.35   \n",
              "nameDest                   NaN   NaN        NaN       NaN          NaN   \n",
              "oldbalanceDest  2513911.248264   0.0        0.0       0.0    365572.14   \n",
              "newbalanceDest  3106487.598267   0.0        0.0       0.0    667597.96   \n",
              "isFraud               0.054405   0.0        0.0       0.0          0.0   \n",
              "isFlaggedFraud             0.0   0.0        0.0       0.0          0.0   \n",
              "\n",
              "                        max  \n",
              "step                    8.0  \n",
              "type                    NaN  \n",
              "amount           10000000.0  \n",
              "nameOrig                NaN  \n",
              "oldbalanceOrg   22352310.12  \n",
              "newbalanceOrig  22465998.18  \n",
              "nameDest                NaN  \n",
              "oldbalanceDest  24955238.07  \n",
              "newbalanceDest  28783585.38  \n",
              "isFraud                 1.0  \n",
              "isFlaggedFraud          0.0  "
            ],
            "text/html": [
              "\n",
              "  <div id=\"df-8d182aec-7c4e-456d-89f6-d4fd2224144e\" class=\"colab-df-container\">\n",
              "    <div>\n",
              "<style scoped>\n",
              "    .dataframe tbody tr th:only-of-type {\n",
              "        vertical-align: middle;\n",
              "    }\n",
              "\n",
              "    .dataframe tbody tr th {\n",
              "        vertical-align: top;\n",
              "    }\n",
              "\n",
              "    .dataframe thead th {\n",
              "        text-align: right;\n",
              "    }\n",
              "</style>\n",
              "<table border=\"1\" class=\"dataframe\">\n",
              "  <thead>\n",
              "    <tr style=\"text-align: right;\">\n",
              "      <th></th>\n",
              "      <th>count</th>\n",
              "      <th>unique</th>\n",
              "      <th>top</th>\n",
              "      <th>freq</th>\n",
              "      <th>mean</th>\n",
              "      <th>std</th>\n",
              "      <th>min</th>\n",
              "      <th>25%</th>\n",
              "      <th>50%</th>\n",
              "      <th>75%</th>\n",
              "      <th>max</th>\n",
              "    </tr>\n",
              "  </thead>\n",
              "  <tbody>\n",
              "    <tr>\n",
              "      <th>step</th>\n",
              "      <td>28296.0</td>\n",
              "      <td>NaN</td>\n",
              "      <td>NaN</td>\n",
              "      <td>NaN</td>\n",
              "      <td>6.508199</td>\n",
              "      <td>2.291113</td>\n",
              "      <td>1.0</td>\n",
              "      <td>6.0</td>\n",
              "      <td>8.0</td>\n",
              "      <td>8.0</td>\n",
              "      <td>8.0</td>\n",
              "    </tr>\n",
              "    <tr>\n",
              "      <th>type</th>\n",
              "      <td>28296</td>\n",
              "      <td>5</td>\n",
              "      <td>PAYMENT</td>\n",
              "      <td>13913</td>\n",
              "      <td>NaN</td>\n",
              "      <td>NaN</td>\n",
              "      <td>NaN</td>\n",
              "      <td>NaN</td>\n",
              "      <td>NaN</td>\n",
              "      <td>NaN</td>\n",
              "      <td>NaN</td>\n",
              "    </tr>\n",
              "    <tr>\n",
              "      <th>amount</th>\n",
              "      <td>28296.0</td>\n",
              "      <td>NaN</td>\n",
              "      <td>NaN</td>\n",
              "      <td>NaN</td>\n",
              "      <td>135743.111265</td>\n",
              "      <td>301321.690733</td>\n",
              "      <td>1.77</td>\n",
              "      <td>5966.4625</td>\n",
              "      <td>19501.96</td>\n",
              "      <td>160111.7525</td>\n",
              "      <td>10000000.0</td>\n",
              "    </tr>\n",
              "    <tr>\n",
              "      <th>nameOrig</th>\n",
              "      <td>28296</td>\n",
              "      <td>28296</td>\n",
              "      <td>C1231006815</td>\n",
              "      <td>1</td>\n",
              "      <td>NaN</td>\n",
              "      <td>NaN</td>\n",
              "      <td>NaN</td>\n",
              "      <td>NaN</td>\n",
              "      <td>NaN</td>\n",
              "      <td>NaN</td>\n",
              "      <td>NaN</td>\n",
              "    </tr>\n",
              "    <tr>\n",
              "      <th>oldbalanceOrg</th>\n",
              "      <td>28296.0</td>\n",
              "      <td>NaN</td>\n",
              "      <td>NaN</td>\n",
              "      <td>NaN</td>\n",
              "      <td>766729.743656</td>\n",
              "      <td>2126155.998887</td>\n",
              "      <td>0.0</td>\n",
              "      <td>0.0</td>\n",
              "      <td>19647.27</td>\n",
              "      <td>138688.91</td>\n",
              "      <td>22352310.12</td>\n",
              "    </tr>\n",
              "    <tr>\n",
              "      <th>newbalanceOrig</th>\n",
              "      <td>28296.0</td>\n",
              "      <td>NaN</td>\n",
              "      <td>NaN</td>\n",
              "      <td>NaN</td>\n",
              "      <td>782382.736079</td>\n",
              "      <td>2166648.397857</td>\n",
              "      <td>0.0</td>\n",
              "      <td>0.0</td>\n",
              "      <td>3685.915</td>\n",
              "      <td>140767.35</td>\n",
              "      <td>22465998.18</td>\n",
              "    </tr>\n",
              "    <tr>\n",
              "      <th>nameDest</th>\n",
              "      <td>28296</td>\n",
              "      <td>17076</td>\n",
              "      <td>C985934102</td>\n",
              "      <td>71</td>\n",
              "      <td>NaN</td>\n",
              "      <td>NaN</td>\n",
              "      <td>NaN</td>\n",
              "      <td>NaN</td>\n",
              "      <td>NaN</td>\n",
              "      <td>NaN</td>\n",
              "      <td>NaN</td>\n",
              "    </tr>\n",
              "    <tr>\n",
              "      <th>oldbalanceDest</th>\n",
              "      <td>28296.0</td>\n",
              "      <td>NaN</td>\n",
              "      <td>NaN</td>\n",
              "      <td>NaN</td>\n",
              "      <td>848402.554639</td>\n",
              "      <td>2513911.248264</td>\n",
              "      <td>0.0</td>\n",
              "      <td>0.0</td>\n",
              "      <td>0.0</td>\n",
              "      <td>365572.14</td>\n",
              "      <td>24955238.07</td>\n",
              "    </tr>\n",
              "    <tr>\n",
              "      <th>newbalanceDest</th>\n",
              "      <td>28296.0</td>\n",
              "      <td>NaN</td>\n",
              "      <td>NaN</td>\n",
              "      <td>NaN</td>\n",
              "      <td>1191347.175257</td>\n",
              "      <td>3106487.598267</td>\n",
              "      <td>0.0</td>\n",
              "      <td>0.0</td>\n",
              "      <td>0.0</td>\n",
              "      <td>667597.96</td>\n",
              "      <td>28783585.38</td>\n",
              "    </tr>\n",
              "    <tr>\n",
              "      <th>isFraud</th>\n",
              "      <td>28296.0</td>\n",
              "      <td>NaN</td>\n",
              "      <td>NaN</td>\n",
              "      <td>NaN</td>\n",
              "      <td>0.002969</td>\n",
              "      <td>0.054405</td>\n",
              "      <td>0.0</td>\n",
              "      <td>0.0</td>\n",
              "      <td>0.0</td>\n",
              "      <td>0.0</td>\n",
              "      <td>1.0</td>\n",
              "    </tr>\n",
              "    <tr>\n",
              "      <th>isFlaggedFraud</th>\n",
              "      <td>28296.0</td>\n",
              "      <td>NaN</td>\n",
              "      <td>NaN</td>\n",
              "      <td>NaN</td>\n",
              "      <td>0.0</td>\n",
              "      <td>0.0</td>\n",
              "      <td>0.0</td>\n",
              "      <td>0.0</td>\n",
              "      <td>0.0</td>\n",
              "      <td>0.0</td>\n",
              "      <td>0.0</td>\n",
              "    </tr>\n",
              "  </tbody>\n",
              "</table>\n",
              "</div>\n",
              "    <div class=\"colab-df-buttons\">\n",
              "\n",
              "  <div class=\"colab-df-container\">\n",
              "    <button class=\"colab-df-convert\" onclick=\"convertToInteractive('df-8d182aec-7c4e-456d-89f6-d4fd2224144e')\"\n",
              "            title=\"Convert this dataframe to an interactive table.\"\n",
              "            style=\"display:none;\">\n",
              "\n",
              "  <svg xmlns=\"http://www.w3.org/2000/svg\" height=\"24px\" viewBox=\"0 -960 960 960\">\n",
              "    <path d=\"M120-120v-720h720v720H120Zm60-500h600v-160H180v160Zm220 220h160v-160H400v160Zm0 220h160v-160H400v160ZM180-400h160v-160H180v160Zm440 0h160v-160H620v160ZM180-180h160v-160H180v160Zm440 0h160v-160H620v160Z\"/>\n",
              "  </svg>\n",
              "    </button>\n",
              "\n",
              "  <style>\n",
              "    .colab-df-container {\n",
              "      display:flex;\n",
              "      gap: 12px;\n",
              "    }\n",
              "\n",
              "    .colab-df-convert {\n",
              "      background-color: #E8F0FE;\n",
              "      border: none;\n",
              "      border-radius: 50%;\n",
              "      cursor: pointer;\n",
              "      display: none;\n",
              "      fill: #1967D2;\n",
              "      height: 32px;\n",
              "      padding: 0 0 0 0;\n",
              "      width: 32px;\n",
              "    }\n",
              "\n",
              "    .colab-df-convert:hover {\n",
              "      background-color: #E2EBFA;\n",
              "      box-shadow: 0px 1px 2px rgba(60, 64, 67, 0.3), 0px 1px 3px 1px rgba(60, 64, 67, 0.15);\n",
              "      fill: #174EA6;\n",
              "    }\n",
              "\n",
              "    .colab-df-buttons div {\n",
              "      margin-bottom: 4px;\n",
              "    }\n",
              "\n",
              "    [theme=dark] .colab-df-convert {\n",
              "      background-color: #3B4455;\n",
              "      fill: #D2E3FC;\n",
              "    }\n",
              "\n",
              "    [theme=dark] .colab-df-convert:hover {\n",
              "      background-color: #434B5C;\n",
              "      box-shadow: 0px 1px 3px 1px rgba(0, 0, 0, 0.15);\n",
              "      filter: drop-shadow(0px 1px 2px rgba(0, 0, 0, 0.3));\n",
              "      fill: #FFFFFF;\n",
              "    }\n",
              "  </style>\n",
              "\n",
              "    <script>\n",
              "      const buttonEl =\n",
              "        document.querySelector('#df-8d182aec-7c4e-456d-89f6-d4fd2224144e button.colab-df-convert');\n",
              "      buttonEl.style.display =\n",
              "        google.colab.kernel.accessAllowed ? 'block' : 'none';\n",
              "\n",
              "      async function convertToInteractive(key) {\n",
              "        const element = document.querySelector('#df-8d182aec-7c4e-456d-89f6-d4fd2224144e');\n",
              "        const dataTable =\n",
              "          await google.colab.kernel.invokeFunction('convertToInteractive',\n",
              "                                                    [key], {});\n",
              "        if (!dataTable) return;\n",
              "\n",
              "        const docLinkHtml = 'Like what you see? Visit the ' +\n",
              "          '<a target=\"_blank\" href=https://colab.research.google.com/notebooks/data_table.ipynb>data table notebook</a>'\n",
              "          + ' to learn more about interactive tables.';\n",
              "        element.innerHTML = '';\n",
              "        dataTable['output_type'] = 'display_data';\n",
              "        await google.colab.output.renderOutput(dataTable, element);\n",
              "        const docLink = document.createElement('div');\n",
              "        docLink.innerHTML = docLinkHtml;\n",
              "        element.appendChild(docLink);\n",
              "      }\n",
              "    </script>\n",
              "  </div>\n",
              "\n",
              "\n",
              "<div id=\"df-180e1049-0850-4cf3-ac39-2feb17b1aeb9\">\n",
              "  <button class=\"colab-df-quickchart\" onclick=\"quickchart('df-180e1049-0850-4cf3-ac39-2feb17b1aeb9')\"\n",
              "            title=\"Suggest charts\"\n",
              "            style=\"display:none;\">\n",
              "\n",
              "<svg xmlns=\"http://www.w3.org/2000/svg\" height=\"24px\"viewBox=\"0 0 24 24\"\n",
              "     width=\"24px\">\n",
              "    <g>\n",
              "        <path d=\"M19 3H5c-1.1 0-2 .9-2 2v14c0 1.1.9 2 2 2h14c1.1 0 2-.9 2-2V5c0-1.1-.9-2-2-2zM9 17H7v-7h2v7zm4 0h-2V7h2v10zm4 0h-2v-4h2v4z\"/>\n",
              "    </g>\n",
              "</svg>\n",
              "  </button>\n",
              "\n",
              "<style>\n",
              "  .colab-df-quickchart {\n",
              "      --bg-color: #E8F0FE;\n",
              "      --fill-color: #1967D2;\n",
              "      --hover-bg-color: #E2EBFA;\n",
              "      --hover-fill-color: #174EA6;\n",
              "      --disabled-fill-color: #AAA;\n",
              "      --disabled-bg-color: #DDD;\n",
              "  }\n",
              "\n",
              "  [theme=dark] .colab-df-quickchart {\n",
              "      --bg-color: #3B4455;\n",
              "      --fill-color: #D2E3FC;\n",
              "      --hover-bg-color: #434B5C;\n",
              "      --hover-fill-color: #FFFFFF;\n",
              "      --disabled-bg-color: #3B4455;\n",
              "      --disabled-fill-color: #666;\n",
              "  }\n",
              "\n",
              "  .colab-df-quickchart {\n",
              "    background-color: var(--bg-color);\n",
              "    border: none;\n",
              "    border-radius: 50%;\n",
              "    cursor: pointer;\n",
              "    display: none;\n",
              "    fill: var(--fill-color);\n",
              "    height: 32px;\n",
              "    padding: 0;\n",
              "    width: 32px;\n",
              "  }\n",
              "\n",
              "  .colab-df-quickchart:hover {\n",
              "    background-color: var(--hover-bg-color);\n",
              "    box-shadow: 0 1px 2px rgba(60, 64, 67, 0.3), 0 1px 3px 1px rgba(60, 64, 67, 0.15);\n",
              "    fill: var(--button-hover-fill-color);\n",
              "  }\n",
              "\n",
              "  .colab-df-quickchart-complete:disabled,\n",
              "  .colab-df-quickchart-complete:disabled:hover {\n",
              "    background-color: var(--disabled-bg-color);\n",
              "    fill: var(--disabled-fill-color);\n",
              "    box-shadow: none;\n",
              "  }\n",
              "\n",
              "  .colab-df-spinner {\n",
              "    border: 2px solid var(--fill-color);\n",
              "    border-color: transparent;\n",
              "    border-bottom-color: var(--fill-color);\n",
              "    animation:\n",
              "      spin 1s steps(1) infinite;\n",
              "  }\n",
              "\n",
              "  @keyframes spin {\n",
              "    0% {\n",
              "      border-color: transparent;\n",
              "      border-bottom-color: var(--fill-color);\n",
              "      border-left-color: var(--fill-color);\n",
              "    }\n",
              "    20% {\n",
              "      border-color: transparent;\n",
              "      border-left-color: var(--fill-color);\n",
              "      border-top-color: var(--fill-color);\n",
              "    }\n",
              "    30% {\n",
              "      border-color: transparent;\n",
              "      border-left-color: var(--fill-color);\n",
              "      border-top-color: var(--fill-color);\n",
              "      border-right-color: var(--fill-color);\n",
              "    }\n",
              "    40% {\n",
              "      border-color: transparent;\n",
              "      border-right-color: var(--fill-color);\n",
              "      border-top-color: var(--fill-color);\n",
              "    }\n",
              "    60% {\n",
              "      border-color: transparent;\n",
              "      border-right-color: var(--fill-color);\n",
              "    }\n",
              "    80% {\n",
              "      border-color: transparent;\n",
              "      border-right-color: var(--fill-color);\n",
              "      border-bottom-color: var(--fill-color);\n",
              "    }\n",
              "    90% {\n",
              "      border-color: transparent;\n",
              "      border-bottom-color: var(--fill-color);\n",
              "    }\n",
              "  }\n",
              "</style>\n",
              "\n",
              "  <script>\n",
              "    async function quickchart(key) {\n",
              "      const quickchartButtonEl =\n",
              "        document.querySelector('#' + key + ' button');\n",
              "      quickchartButtonEl.disabled = true;  // To prevent multiple clicks.\n",
              "      quickchartButtonEl.classList.add('colab-df-spinner');\n",
              "      try {\n",
              "        const charts = await google.colab.kernel.invokeFunction(\n",
              "            'suggestCharts', [key], {});\n",
              "      } catch (error) {\n",
              "        console.error('Error during call to suggestCharts:', error);\n",
              "      }\n",
              "      quickchartButtonEl.classList.remove('colab-df-spinner');\n",
              "      quickchartButtonEl.classList.add('colab-df-quickchart-complete');\n",
              "    }\n",
              "    (() => {\n",
              "      let quickchartButtonEl =\n",
              "        document.querySelector('#df-180e1049-0850-4cf3-ac39-2feb17b1aeb9 button');\n",
              "      quickchartButtonEl.style.display =\n",
              "        google.colab.kernel.accessAllowed ? 'block' : 'none';\n",
              "    })();\n",
              "  </script>\n",
              "</div>\n",
              "\n",
              "    </div>\n",
              "  </div>\n"
            ],
            "application/vnd.google.colaboratory.intrinsic+json": {
              "type": "dataframe",
              "summary": "{\n  \"name\": \"a\",\n  \"rows\": 11,\n  \"fields\": [\n    {\n      \"column\": \"count\",\n      \"properties\": {\n        \"dtype\": \"date\",\n        \"min\": 28296.0,\n        \"max\": 28296.0,\n        \"num_unique_values\": 1,\n        \"samples\": [\n          28296.0\n        ],\n        \"semantic_type\": \"\",\n        \"description\": \"\"\n      }\n    },\n    {\n      \"column\": \"unique\",\n      \"properties\": {\n        \"dtype\": \"date\",\n        \"min\": 5,\n        \"max\": 28296,\n        \"num_unique_values\": 3,\n        \"samples\": [\n          5\n        ],\n        \"semantic_type\": \"\",\n        \"description\": \"\"\n      }\n    },\n    {\n      \"column\": \"top\",\n      \"properties\": {\n        \"dtype\": \"category\",\n        \"num_unique_values\": 3,\n        \"samples\": [\n          \"PAYMENT\"\n        ],\n        \"semantic_type\": \"\",\n        \"description\": \"\"\n      }\n    },\n    {\n      \"column\": \"freq\",\n      \"properties\": {\n        \"dtype\": \"date\",\n        \"min\": \"1\",\n        \"max\": \"13913\",\n        \"num_unique_values\": 3,\n        \"samples\": [\n          \"13913\"\n        ],\n        \"semantic_type\": \"\",\n        \"description\": \"\"\n      }\n    },\n    {\n      \"column\": \"mean\",\n      \"properties\": {\n        \"dtype\": \"date\",\n        \"min\": 0.0,\n        \"max\": 1191347.1752565734,\n        \"num_unique_values\": 8,\n        \"samples\": [\n          135743.1112651965\n        ],\n        \"semantic_type\": \"\",\n        \"description\": \"\"\n      }\n    },\n    {\n      \"column\": \"std\",\n      \"properties\": {\n        \"dtype\": \"date\",\n        \"min\": 0.0,\n        \"max\": 3106487.598266699,\n        \"num_unique_values\": 8,\n        \"samples\": [\n          301321.6907330364\n        ],\n        \"semantic_type\": \"\",\n        \"description\": \"\"\n      }\n    },\n    {\n      \"column\": \"min\",\n      \"properties\": {\n        \"dtype\": \"date\",\n        \"min\": 0.0,\n        \"max\": 1.77,\n        \"num_unique_values\": 3,\n        \"samples\": [\n          1.0\n        ],\n        \"semantic_type\": \"\",\n        \"description\": \"\"\n      }\n    },\n    {\n      \"column\": \"25%\",\n      \"properties\": {\n        \"dtype\": \"date\",\n        \"min\": 0.0,\n        \"max\": 5966.462500000001,\n        \"num_unique_values\": 3,\n        \"samples\": [\n          6.0\n        ],\n        \"semantic_type\": \"\",\n        \"description\": \"\"\n      }\n    },\n    {\n      \"column\": \"50%\",\n      \"properties\": {\n        \"dtype\": \"date\",\n        \"min\": 0.0,\n        \"max\": 19647.27,\n        \"num_unique_values\": 5,\n        \"samples\": [\n          19501.96\n        ],\n        \"semantic_type\": \"\",\n        \"description\": \"\"\n      }\n    },\n    {\n      \"column\": \"75%\",\n      \"properties\": {\n        \"dtype\": \"date\",\n        \"min\": 0.0,\n        \"max\": 667597.96,\n        \"num_unique_values\": 7,\n        \"samples\": [\n          8.0\n        ],\n        \"semantic_type\": \"\",\n        \"description\": \"\"\n      }\n    },\n    {\n      \"column\": \"max\",\n      \"properties\": {\n        \"dtype\": \"date\",\n        \"min\": 0.0,\n        \"max\": 28783585.38,\n        \"num_unique_values\": 8,\n        \"samples\": [\n          10000000.0\n        ],\n        \"semantic_type\": \"\",\n        \"description\": \"\"\n      }\n    }\n  ]\n}"
            }
          },
          "metadata": {},
          "execution_count": 19
        }
      ]
    },
    {
      "cell_type": "code",
      "source": [
        "a.columns"
      ],
      "metadata": {
        "colab": {
          "base_uri": "https://localhost:8080/"
        },
        "id": "naFMbQ4IMfIo",
        "outputId": "88bee626-b8ca-491b-e8ae-d6e028c7b093"
      },
      "execution_count": null,
      "outputs": [
        {
          "output_type": "execute_result",
          "data": {
            "text/plain": [
              "Index(['step', 'type', 'amount', 'nameOrig', 'oldbalanceOrg', 'newbalanceOrig',\n",
              "       'nameDest', 'oldbalanceDest', 'newbalanceDest', 'isFraud',\n",
              "       'isFlaggedFraud'],\n",
              "      dtype='object')"
            ]
          },
          "metadata": {},
          "execution_count": 20
        }
      ]
    },
    {
      "cell_type": "code",
      "source": [
        "fraud=a[a['isFraud']==1]\n",
        "normal=a[a['isFraud']==0]"
      ],
      "metadata": {
        "id": "n_l0JlXOJIXt"
      },
      "execution_count": null,
      "outputs": []
    },
    {
      "cell_type": "code",
      "source": [
        "\n",
        "fraud.shape"
      ],
      "metadata": {
        "colab": {
          "base_uri": "https://localhost:8080/"
        },
        "id": "CMx_i4SFJN4w",
        "outputId": "154ca517-afbc-4cb7-fbbe-81c1eefeeb97"
      },
      "execution_count": null,
      "outputs": [
        {
          "output_type": "execute_result",
          "data": {
            "text/plain": [
              "(84, 11)"
            ]
          },
          "metadata": {},
          "execution_count": 22
        }
      ]
    },
    {
      "cell_type": "code",
      "source": [
        "normal.shape"
      ],
      "metadata": {
        "colab": {
          "base_uri": "https://localhost:8080/"
        },
        "id": "VDL0XcWXJPRf",
        "outputId": "2a74d221-d227-409d-f87c-196653f0ced5"
      },
      "execution_count": null,
      "outputs": [
        {
          "output_type": "execute_result",
          "data": {
            "text/plain": [
              "(28212, 11)"
            ]
          },
          "metadata": {},
          "execution_count": 23
        }
      ]
    },
    {
      "cell_type": "markdown",
      "source": [
        "## **NORMALIZATION**"
      ],
      "metadata": {
        "id": "FDVXHb6nK028"
      }
    },
    {
      "cell_type": "code",
      "source": [
        "numerical_features = ['step', 'amount', 'oldbalanceOrg', 'newbalanceOrig',\n",
        "      'oldbalanceDest', 'newbalanceDest']\n",
        "X = a[numerical_features]\n",
        "\n",
        "# Normalize each feature\n",
        "normalized_data = X.copy()\n",
        "for feature in numerical_features:\n",
        "    mean = X[feature].mean()\n",
        "    std = X[feature].std()\n",
        "    normalized_data[feature] = (X[feature] - mean) / std\n",
        "print(normalized_data)"
      ],
      "metadata": {
        "id": "CPvdbY37JKTS",
        "colab": {
          "base_uri": "https://localhost:8080/"
        },
        "outputId": "2d75f38f-0147-4e85-a7e1-020e7fdd67d6"
      },
      "execution_count": null,
      "outputs": [
        {
          "output_type": "stream",
          "name": "stdout",
          "text": [
            "           step    amount  oldbalanceOrg  newbalanceOrig  oldbalanceDest  \\\n",
            "0     -2.404158 -0.417837      -0.280597       -0.287119       -0.337483   \n",
            "1     -2.404158 -0.444305      -0.350624       -0.352156       -0.337483   \n",
            "2     -2.404158 -0.449892      -0.360533       -0.361103       -0.337483   \n",
            "3     -2.404158 -0.449892      -0.360533       -0.361103       -0.329057   \n",
            "4     -2.404158 -0.411769      -0.341074       -0.347309       -0.337483   \n",
            "...         ...       ...            ...             ...             ...   \n",
            "28291  0.651125 -0.189524      -0.360618       -0.361103        6.535419   \n",
            "28292  0.651125 -0.426364      -0.360618       -0.361103        0.268619   \n",
            "28293  0.651125 -0.075334      -0.360618       -0.361103        3.674378   \n",
            "28294  0.651125 -0.153977      -0.360618       -0.361103       -0.292663   \n",
            "28295  0.651125  0.009653      -0.360618       -0.361103       -0.280696   \n",
            "\n",
            "       newbalanceDest  \n",
            "0           -0.383503  \n",
            "1           -0.383503  \n",
            "2           -0.383503  \n",
            "3           -0.383503  \n",
            "4           -0.383503  \n",
            "...               ...  \n",
            "28291        5.203675  \n",
            "28292        0.109322  \n",
            "28293        2.840185  \n",
            "28294       -0.318471  \n",
            "28295       -0.292915  \n",
            "\n",
            "[28296 rows x 6 columns]\n"
          ]
        }
      ]
    },
    {
      "cell_type": "markdown",
      "source": [
        "# **SMOTE**"
      ],
      "metadata": {
        "id": "E0-aQxf_jL0z"
      }
    },
    {
      "cell_type": "code",
      "source": [
        "x=a.drop([\"isFraud\"],axis=1)\n",
        "y=a[\"isFraud\"]"
      ],
      "metadata": {
        "id": "vU2ze23cBN4f"
      },
      "execution_count": null,
      "outputs": []
    },
    {
      "cell_type": "code",
      "source": [
        "#SMOTE\n",
        "x['type'] = x['type'].astype('category').cat.codes\n",
        "x['nameOrig'] = x['nameOrig'].astype('category').cat.codes\n",
        "x['nameDest'] = x['nameDest'].astype('category').cat.codes\n",
        "y=a[\"isFraud\"]\n",
        "from imblearn.over_sampling import SMOTE\n",
        "smote=SMOTE(sampling_strategy='minority')\n",
        "x,y=smote.fit_resample(x,y)\n",
        "y.value_counts()"
      ],
      "metadata": {
        "colab": {
          "base_uri": "https://localhost:8080/"
        },
        "id": "nZN8TByv7MW-",
        "outputId": "1ecfb3e7-34b4-474e-fb86-ef9af8a1b18d"
      },
      "execution_count": null,
      "outputs": [
        {
          "output_type": "execute_result",
          "data": {
            "text/plain": [
              "isFraud\n",
              "0.0    28212\n",
              "1.0    28212\n",
              "Name: count, dtype: int64"
            ]
          },
          "metadata": {},
          "execution_count": 26
        }
      ]
    },
    {
      "cell_type": "markdown",
      "source": [
        "# **FEATURE EXTRACTION**"
      ],
      "metadata": {
        "id": "U4BkU6F_jPIA"
      }
    },
    {
      "cell_type": "code",
      "source": [
        "#Correlation\n",
        "correlation_matrix = normalized_data.corr()\n",
        "correlation_matrix"
      ],
      "metadata": {
        "colab": {
          "base_uri": "https://localhost:8080/",
          "height": 237
        },
        "id": "acFtwQ1N_f0z",
        "outputId": "101dfa45-5ee2-4409-ffe2-452e7e1362ab"
      },
      "execution_count": null,
      "outputs": [
        {
          "output_type": "execute_result",
          "data": {
            "text/plain": [
              "                    step    amount  oldbalanceOrg  newbalanceOrig  \\\n",
              "step            1.000000  0.072190      -0.041729       -0.042128   \n",
              "amount          0.072190  1.000000       0.037237        0.022196   \n",
              "oldbalanceOrg  -0.041729  0.037237       1.000000        0.997933   \n",
              "newbalanceOrig -0.042128  0.022196       0.997933        1.000000   \n",
              "oldbalanceDest -0.000994  0.320885       0.144480        0.148961   \n",
              "newbalanceDest  0.027308  0.428225       0.109216        0.110357   \n",
              "\n",
              "                oldbalanceDest  newbalanceDest  \n",
              "step                 -0.000994        0.027308  \n",
              "amount                0.320885        0.428225  \n",
              "oldbalanceOrg         0.144480        0.109216  \n",
              "newbalanceOrig        0.148961        0.110357  \n",
              "oldbalanceDest        1.000000        0.918069  \n",
              "newbalanceDest        0.918069        1.000000  "
            ],
            "text/html": [
              "\n",
              "  <div id=\"df-d1a73f00-4b3f-4e7e-983d-eae920e3e86f\" class=\"colab-df-container\">\n",
              "    <div>\n",
              "<style scoped>\n",
              "    .dataframe tbody tr th:only-of-type {\n",
              "        vertical-align: middle;\n",
              "    }\n",
              "\n",
              "    .dataframe tbody tr th {\n",
              "        vertical-align: top;\n",
              "    }\n",
              "\n",
              "    .dataframe thead th {\n",
              "        text-align: right;\n",
              "    }\n",
              "</style>\n",
              "<table border=\"1\" class=\"dataframe\">\n",
              "  <thead>\n",
              "    <tr style=\"text-align: right;\">\n",
              "      <th></th>\n",
              "      <th>step</th>\n",
              "      <th>amount</th>\n",
              "      <th>oldbalanceOrg</th>\n",
              "      <th>newbalanceOrig</th>\n",
              "      <th>oldbalanceDest</th>\n",
              "      <th>newbalanceDest</th>\n",
              "    </tr>\n",
              "  </thead>\n",
              "  <tbody>\n",
              "    <tr>\n",
              "      <th>step</th>\n",
              "      <td>1.000000</td>\n",
              "      <td>0.072190</td>\n",
              "      <td>-0.041729</td>\n",
              "      <td>-0.042128</td>\n",
              "      <td>-0.000994</td>\n",
              "      <td>0.027308</td>\n",
              "    </tr>\n",
              "    <tr>\n",
              "      <th>amount</th>\n",
              "      <td>0.072190</td>\n",
              "      <td>1.000000</td>\n",
              "      <td>0.037237</td>\n",
              "      <td>0.022196</td>\n",
              "      <td>0.320885</td>\n",
              "      <td>0.428225</td>\n",
              "    </tr>\n",
              "    <tr>\n",
              "      <th>oldbalanceOrg</th>\n",
              "      <td>-0.041729</td>\n",
              "      <td>0.037237</td>\n",
              "      <td>1.000000</td>\n",
              "      <td>0.997933</td>\n",
              "      <td>0.144480</td>\n",
              "      <td>0.109216</td>\n",
              "    </tr>\n",
              "    <tr>\n",
              "      <th>newbalanceOrig</th>\n",
              "      <td>-0.042128</td>\n",
              "      <td>0.022196</td>\n",
              "      <td>0.997933</td>\n",
              "      <td>1.000000</td>\n",
              "      <td>0.148961</td>\n",
              "      <td>0.110357</td>\n",
              "    </tr>\n",
              "    <tr>\n",
              "      <th>oldbalanceDest</th>\n",
              "      <td>-0.000994</td>\n",
              "      <td>0.320885</td>\n",
              "      <td>0.144480</td>\n",
              "      <td>0.148961</td>\n",
              "      <td>1.000000</td>\n",
              "      <td>0.918069</td>\n",
              "    </tr>\n",
              "    <tr>\n",
              "      <th>newbalanceDest</th>\n",
              "      <td>0.027308</td>\n",
              "      <td>0.428225</td>\n",
              "      <td>0.109216</td>\n",
              "      <td>0.110357</td>\n",
              "      <td>0.918069</td>\n",
              "      <td>1.000000</td>\n",
              "    </tr>\n",
              "  </tbody>\n",
              "</table>\n",
              "</div>\n",
              "    <div class=\"colab-df-buttons\">\n",
              "\n",
              "  <div class=\"colab-df-container\">\n",
              "    <button class=\"colab-df-convert\" onclick=\"convertToInteractive('df-d1a73f00-4b3f-4e7e-983d-eae920e3e86f')\"\n",
              "            title=\"Convert this dataframe to an interactive table.\"\n",
              "            style=\"display:none;\">\n",
              "\n",
              "  <svg xmlns=\"http://www.w3.org/2000/svg\" height=\"24px\" viewBox=\"0 -960 960 960\">\n",
              "    <path d=\"M120-120v-720h720v720H120Zm60-500h600v-160H180v160Zm220 220h160v-160H400v160Zm0 220h160v-160H400v160ZM180-400h160v-160H180v160Zm440 0h160v-160H620v160ZM180-180h160v-160H180v160Zm440 0h160v-160H620v160Z\"/>\n",
              "  </svg>\n",
              "    </button>\n",
              "\n",
              "  <style>\n",
              "    .colab-df-container {\n",
              "      display:flex;\n",
              "      gap: 12px;\n",
              "    }\n",
              "\n",
              "    .colab-df-convert {\n",
              "      background-color: #E8F0FE;\n",
              "      border: none;\n",
              "      border-radius: 50%;\n",
              "      cursor: pointer;\n",
              "      display: none;\n",
              "      fill: #1967D2;\n",
              "      height: 32px;\n",
              "      padding: 0 0 0 0;\n",
              "      width: 32px;\n",
              "    }\n",
              "\n",
              "    .colab-df-convert:hover {\n",
              "      background-color: #E2EBFA;\n",
              "      box-shadow: 0px 1px 2px rgba(60, 64, 67, 0.3), 0px 1px 3px 1px rgba(60, 64, 67, 0.15);\n",
              "      fill: #174EA6;\n",
              "    }\n",
              "\n",
              "    .colab-df-buttons div {\n",
              "      margin-bottom: 4px;\n",
              "    }\n",
              "\n",
              "    [theme=dark] .colab-df-convert {\n",
              "      background-color: #3B4455;\n",
              "      fill: #D2E3FC;\n",
              "    }\n",
              "\n",
              "    [theme=dark] .colab-df-convert:hover {\n",
              "      background-color: #434B5C;\n",
              "      box-shadow: 0px 1px 3px 1px rgba(0, 0, 0, 0.15);\n",
              "      filter: drop-shadow(0px 1px 2px rgba(0, 0, 0, 0.3));\n",
              "      fill: #FFFFFF;\n",
              "    }\n",
              "  </style>\n",
              "\n",
              "    <script>\n",
              "      const buttonEl =\n",
              "        document.querySelector('#df-d1a73f00-4b3f-4e7e-983d-eae920e3e86f button.colab-df-convert');\n",
              "      buttonEl.style.display =\n",
              "        google.colab.kernel.accessAllowed ? 'block' : 'none';\n",
              "\n",
              "      async function convertToInteractive(key) {\n",
              "        const element = document.querySelector('#df-d1a73f00-4b3f-4e7e-983d-eae920e3e86f');\n",
              "        const dataTable =\n",
              "          await google.colab.kernel.invokeFunction('convertToInteractive',\n",
              "                                                    [key], {});\n",
              "        if (!dataTable) return;\n",
              "\n",
              "        const docLinkHtml = 'Like what you see? Visit the ' +\n",
              "          '<a target=\"_blank\" href=https://colab.research.google.com/notebooks/data_table.ipynb>data table notebook</a>'\n",
              "          + ' to learn more about interactive tables.';\n",
              "        element.innerHTML = '';\n",
              "        dataTable['output_type'] = 'display_data';\n",
              "        await google.colab.output.renderOutput(dataTable, element);\n",
              "        const docLink = document.createElement('div');\n",
              "        docLink.innerHTML = docLinkHtml;\n",
              "        element.appendChild(docLink);\n",
              "      }\n",
              "    </script>\n",
              "  </div>\n",
              "\n",
              "\n",
              "<div id=\"df-5c1bc327-9576-409a-82ce-ddabc65a3934\">\n",
              "  <button class=\"colab-df-quickchart\" onclick=\"quickchart('df-5c1bc327-9576-409a-82ce-ddabc65a3934')\"\n",
              "            title=\"Suggest charts\"\n",
              "            style=\"display:none;\">\n",
              "\n",
              "<svg xmlns=\"http://www.w3.org/2000/svg\" height=\"24px\"viewBox=\"0 0 24 24\"\n",
              "     width=\"24px\">\n",
              "    <g>\n",
              "        <path d=\"M19 3H5c-1.1 0-2 .9-2 2v14c0 1.1.9 2 2 2h14c1.1 0 2-.9 2-2V5c0-1.1-.9-2-2-2zM9 17H7v-7h2v7zm4 0h-2V7h2v10zm4 0h-2v-4h2v4z\"/>\n",
              "    </g>\n",
              "</svg>\n",
              "  </button>\n",
              "\n",
              "<style>\n",
              "  .colab-df-quickchart {\n",
              "      --bg-color: #E8F0FE;\n",
              "      --fill-color: #1967D2;\n",
              "      --hover-bg-color: #E2EBFA;\n",
              "      --hover-fill-color: #174EA6;\n",
              "      --disabled-fill-color: #AAA;\n",
              "      --disabled-bg-color: #DDD;\n",
              "  }\n",
              "\n",
              "  [theme=dark] .colab-df-quickchart {\n",
              "      --bg-color: #3B4455;\n",
              "      --fill-color: #D2E3FC;\n",
              "      --hover-bg-color: #434B5C;\n",
              "      --hover-fill-color: #FFFFFF;\n",
              "      --disabled-bg-color: #3B4455;\n",
              "      --disabled-fill-color: #666;\n",
              "  }\n",
              "\n",
              "  .colab-df-quickchart {\n",
              "    background-color: var(--bg-color);\n",
              "    border: none;\n",
              "    border-radius: 50%;\n",
              "    cursor: pointer;\n",
              "    display: none;\n",
              "    fill: var(--fill-color);\n",
              "    height: 32px;\n",
              "    padding: 0;\n",
              "    width: 32px;\n",
              "  }\n",
              "\n",
              "  .colab-df-quickchart:hover {\n",
              "    background-color: var(--hover-bg-color);\n",
              "    box-shadow: 0 1px 2px rgba(60, 64, 67, 0.3), 0 1px 3px 1px rgba(60, 64, 67, 0.15);\n",
              "    fill: var(--button-hover-fill-color);\n",
              "  }\n",
              "\n",
              "  .colab-df-quickchart-complete:disabled,\n",
              "  .colab-df-quickchart-complete:disabled:hover {\n",
              "    background-color: var(--disabled-bg-color);\n",
              "    fill: var(--disabled-fill-color);\n",
              "    box-shadow: none;\n",
              "  }\n",
              "\n",
              "  .colab-df-spinner {\n",
              "    border: 2px solid var(--fill-color);\n",
              "    border-color: transparent;\n",
              "    border-bottom-color: var(--fill-color);\n",
              "    animation:\n",
              "      spin 1s steps(1) infinite;\n",
              "  }\n",
              "\n",
              "  @keyframes spin {\n",
              "    0% {\n",
              "      border-color: transparent;\n",
              "      border-bottom-color: var(--fill-color);\n",
              "      border-left-color: var(--fill-color);\n",
              "    }\n",
              "    20% {\n",
              "      border-color: transparent;\n",
              "      border-left-color: var(--fill-color);\n",
              "      border-top-color: var(--fill-color);\n",
              "    }\n",
              "    30% {\n",
              "      border-color: transparent;\n",
              "      border-left-color: var(--fill-color);\n",
              "      border-top-color: var(--fill-color);\n",
              "      border-right-color: var(--fill-color);\n",
              "    }\n",
              "    40% {\n",
              "      border-color: transparent;\n",
              "      border-right-color: var(--fill-color);\n",
              "      border-top-color: var(--fill-color);\n",
              "    }\n",
              "    60% {\n",
              "      border-color: transparent;\n",
              "      border-right-color: var(--fill-color);\n",
              "    }\n",
              "    80% {\n",
              "      border-color: transparent;\n",
              "      border-right-color: var(--fill-color);\n",
              "      border-bottom-color: var(--fill-color);\n",
              "    }\n",
              "    90% {\n",
              "      border-color: transparent;\n",
              "      border-bottom-color: var(--fill-color);\n",
              "    }\n",
              "  }\n",
              "</style>\n",
              "\n",
              "  <script>\n",
              "    async function quickchart(key) {\n",
              "      const quickchartButtonEl =\n",
              "        document.querySelector('#' + key + ' button');\n",
              "      quickchartButtonEl.disabled = true;  // To prevent multiple clicks.\n",
              "      quickchartButtonEl.classList.add('colab-df-spinner');\n",
              "      try {\n",
              "        const charts = await google.colab.kernel.invokeFunction(\n",
              "            'suggestCharts', [key], {});\n",
              "      } catch (error) {\n",
              "        console.error('Error during call to suggestCharts:', error);\n",
              "      }\n",
              "      quickchartButtonEl.classList.remove('colab-df-spinner');\n",
              "      quickchartButtonEl.classList.add('colab-df-quickchart-complete');\n",
              "    }\n",
              "    (() => {\n",
              "      let quickchartButtonEl =\n",
              "        document.querySelector('#df-5c1bc327-9576-409a-82ce-ddabc65a3934 button');\n",
              "      quickchartButtonEl.style.display =\n",
              "        google.colab.kernel.accessAllowed ? 'block' : 'none';\n",
              "    })();\n",
              "  </script>\n",
              "</div>\n",
              "\n",
              "  <div id=\"id_29921f92-3901-4e48-9443-a9883fcaf53f\">\n",
              "    <style>\n",
              "      .colab-df-generate {\n",
              "        background-color: #E8F0FE;\n",
              "        border: none;\n",
              "        border-radius: 50%;\n",
              "        cursor: pointer;\n",
              "        display: none;\n",
              "        fill: #1967D2;\n",
              "        height: 32px;\n",
              "        padding: 0 0 0 0;\n",
              "        width: 32px;\n",
              "      }\n",
              "\n",
              "      .colab-df-generate:hover {\n",
              "        background-color: #E2EBFA;\n",
              "        box-shadow: 0px 1px 2px rgba(60, 64, 67, 0.3), 0px 1px 3px 1px rgba(60, 64, 67, 0.15);\n",
              "        fill: #174EA6;\n",
              "      }\n",
              "\n",
              "      [theme=dark] .colab-df-generate {\n",
              "        background-color: #3B4455;\n",
              "        fill: #D2E3FC;\n",
              "      }\n",
              "\n",
              "      [theme=dark] .colab-df-generate:hover {\n",
              "        background-color: #434B5C;\n",
              "        box-shadow: 0px 1px 3px 1px rgba(0, 0, 0, 0.15);\n",
              "        filter: drop-shadow(0px 1px 2px rgba(0, 0, 0, 0.3));\n",
              "        fill: #FFFFFF;\n",
              "      }\n",
              "    </style>\n",
              "    <button class=\"colab-df-generate\" onclick=\"generateWithVariable('correlation_matrix')\"\n",
              "            title=\"Generate code using this dataframe.\"\n",
              "            style=\"display:none;\">\n",
              "\n",
              "  <svg xmlns=\"http://www.w3.org/2000/svg\" height=\"24px\"viewBox=\"0 0 24 24\"\n",
              "       width=\"24px\">\n",
              "    <path d=\"M7,19H8.4L18.45,9,17,7.55,7,17.6ZM5,21V16.75L18.45,3.32a2,2,0,0,1,2.83,0l1.4,1.43a1.91,1.91,0,0,1,.58,1.4,1.91,1.91,0,0,1-.58,1.4L9.25,21ZM18.45,9,17,7.55Zm-12,3A5.31,5.31,0,0,0,4.9,8.1,5.31,5.31,0,0,0,1,6.5,5.31,5.31,0,0,0,4.9,4.9,5.31,5.31,0,0,0,6.5,1,5.31,5.31,0,0,0,8.1,4.9,5.31,5.31,0,0,0,12,6.5,5.46,5.46,0,0,0,6.5,12Z\"/>\n",
              "  </svg>\n",
              "    </button>\n",
              "    <script>\n",
              "      (() => {\n",
              "      const buttonEl =\n",
              "        document.querySelector('#id_29921f92-3901-4e48-9443-a9883fcaf53f button.colab-df-generate');\n",
              "      buttonEl.style.display =\n",
              "        google.colab.kernel.accessAllowed ? 'block' : 'none';\n",
              "\n",
              "      buttonEl.onclick = () => {\n",
              "        google.colab.notebook.generateWithVariable('correlation_matrix');\n",
              "      }\n",
              "      })();\n",
              "    </script>\n",
              "  </div>\n",
              "\n",
              "    </div>\n",
              "  </div>\n"
            ],
            "application/vnd.google.colaboratory.intrinsic+json": {
              "type": "dataframe",
              "variable_name": "correlation_matrix",
              "summary": "{\n  \"name\": \"correlation_matrix\",\n  \"rows\": 6,\n  \"fields\": [\n    {\n      \"column\": \"step\",\n      \"properties\": {\n        \"dtype\": \"number\",\n        \"std\": 0.4093628040741049,\n        \"min\": -0.042128441465120264,\n        \"max\": 1.0,\n        \"num_unique_values\": 6,\n        \"samples\": [\n          1.0,\n          0.0721902007817277,\n          0.02730778698380745\n        ],\n        \"semantic_type\": \"\",\n        \"description\": \"\"\n      }\n    },\n    {\n      \"column\": \"amount\",\n      \"properties\": {\n        \"dtype\": \"number\",\n        \"std\": 0.3752086922451033,\n        \"min\": 0.022196259903536637,\n        \"max\": 1.0,\n        \"num_unique_values\": 6,\n        \"samples\": [\n          0.0721902007817277,\n          1.0,\n          0.42822454198698934\n        ],\n        \"semantic_type\": \"\",\n        \"description\": \"\"\n      }\n    },\n    {\n      \"column\": \"oldbalanceOrg\",\n      \"properties\": {\n        \"dtype\": \"number\",\n        \"std\": 0.4878926579528718,\n        \"min\": -0.04172902830218229,\n        \"max\": 1.0,\n        \"num_unique_values\": 6,\n        \"samples\": [\n          -0.04172902830218229,\n          0.037237383435763084,\n          0.10921564642928847\n        ],\n        \"semantic_type\": \"\",\n        \"description\": \"\"\n      }\n    },\n    {\n      \"column\": \"newbalanceOrig\",\n      \"properties\": {\n        \"dtype\": \"number\",\n        \"std\": 0.48953849059769355,\n        \"min\": -0.042128441465120264,\n        \"max\": 1.0,\n        \"num_unique_values\": 6,\n        \"samples\": [\n          -0.042128441465120264,\n          0.022196259903536637,\n          0.11035657779393605\n        ],\n        \"semantic_type\": \"\",\n        \"description\": \"\"\n      }\n    },\n    {\n      \"column\": \"oldbalanceDest\",\n      \"properties\": {\n        \"dtype\": \"number\",\n        \"std\": 0.4291582351944123,\n        \"min\": -0.0009936290644583202,\n        \"max\": 1.0,\n        \"num_unique_values\": 6,\n        \"samples\": [\n          -0.0009936290644583202,\n          0.32088468136785625,\n          0.91806888521615\n        ],\n        \"semantic_type\": \"\",\n        \"description\": \"\"\n      }\n    },\n    {\n      \"column\": \"newbalanceDest\",\n      \"properties\": {\n        \"dtype\": \"number\",\n        \"std\": 0.43135159742371704,\n        \"min\": 0.02730778698380745,\n        \"max\": 1.0,\n        \"num_unique_values\": 6,\n        \"samples\": [\n          0.02730778698380745,\n          0.42822454198698934,\n          1.0\n        ],\n        \"semantic_type\": \"\",\n        \"description\": \"\"\n      }\n    }\n  ]\n}"
            }
          },
          "metadata": {},
          "execution_count": 27
        }
      ]
    },
    {
      "cell_type": "code",
      "source": [
        "plt.figure(figsize=(8, 10))\n",
        "sns.heatmap(correlation_matrix, annot=True, cmap='coolwarm', fmt=\".2f\", linewidths=.5)\n",
        "plt.title('Correlation Matrix of Normalized Features')\n",
        "plt.show()"
      ],
      "metadata": {
        "id": "SqTGberpGkPk",
        "outputId": "c73f5220-6e7d-4706-fbda-c7a2327d9e59",
        "colab": {
          "base_uri": "https://localhost:8080/",
          "height": 954
        }
      },
      "execution_count": null,
      "outputs": [
        {
          "output_type": "display_data",
          "data": {
            "text/plain": [
              "<Figure size 800x1000 with 2 Axes>"
            ],
            "image/png": "[encoded data removed]"
          },
          "metadata": {}
        }
      ]
    },
    {
      "cell_type": "code",
      "source": [
        "#Regression\n",
        "y = a['isFraud']\n",
        "for feature in normalized_data.columns:\n",
        "    plt.figure(figsize=(8, 6))\n",
        "    sns.regplot(x=normalized_data[feature], y=y, scatter_kws={'alpha':0.5})\n",
        "    plt.title(f\"Regression Plot: {feature} vs. Target Variable\")\n",
        "    plt.xlabel(feature)\n",
        "    plt.ylabel(\"Target Variable\")\n",
        "    plt.show()"
      ],
      "metadata": {
        "colab": {
          "base_uri": "https://localhost:8080/",
          "height": 1000
        },
        "id": "Ig4lG_UuA8LX",
        "outputId": "3d5b162d-6d62-4c14-ac1e-cbe95dc1fb0d"
      },
      "execution_count": null,
      "outputs": [
        {
          "output_type": "display_data",
          "data": {
            "text/plain": [
              "<Figure size 800x600 with 1 Axes>"
            ],
            "image/png": "[encoded data removed]"
          },
          "metadata": {}
        },
        {
          "output_type": "display_data",
          "data": {
            "text/plain": [
              "<Figure size 800x600 with 1 Axes>"
            ],
            "image/png": "[encoded data removed]"
          },
          "metadata": {}
        },
        {
          "output_type": "display_data",
          "data": {
            "text/plain": [
              "<Figure size 800x600 with 1 Axes>"
            ],
            "image/png": "[encoded data removed]"
          },
          "metadata": {}
        },
        {
          "output_type": "display_data",
          "data": {
            "text/plain": [
              "<Figure size 800x600 with 1 Axes>"
            ],
            "image/png": "[encoded data removed]"
          },
          "metadata": {}
        },
        {
          "output_type": "display_data",
          "data": {
            "text/plain": [
              "<Figure size 800x600 with 1 Axes>"
            ],
            "image/png": "[encoded data removed]"
          },
          "metadata": {}
        },
        {
          "output_type": "display_data",
          "data": {
            "text/plain": [
              "<Figure size 800x600 with 1 Axes>"
            ],
            "image/png": "[encoded data removed]"
          },
          "metadata": {}
        }
      ]
    },
    {
      "cell_type": "code",
      "source": [
        "#row mean,median,mode....\n",
        "features = pd.DataFrame()\n",
        "features['mean'] = normalized_data.mean(axis=1)\n",
        "features['median'] = normalized_data.median(axis=1)\n",
        "features['mode'] = normalized_data.mode(axis=1)[0]\n",
        "features['skewness'] = normalized_data.skew(axis=1)\n",
        "features['kurtosis'] = normalized_data.kurtosis(axis=1)\n",
        "\n",
        "print(features)\n",
        "\n"
      ],
      "metadata": {
        "colab": {
          "base_uri": "https://localhost:8080/"
        },
        "id": "wlu4a1FOWppG",
        "outputId": "271b0c90-0bb6-4617-be7f-5a5d543b9d49"
      },
      "execution_count": null,
      "outputs": [
        {
          "output_type": "stream",
          "name": "stdout",
          "text": [
            "           mean    median      mode  skewness  kurtosis\n",
            "0     -0.685116 -0.360493 -2.404158 -2.427494  5.915765\n",
            "1     -0.712038 -0.367829 -2.404158 -2.437820  5.954444\n",
            "2     -0.716112 -0.372303 -2.404158 -2.437699  5.953983\n",
            "3     -0.714708 -0.372303 -2.404158 -2.436517  5.949531\n",
            "4     -0.704216 -0.365406 -2.404158 -2.442915  5.974649\n",
            "...         ...       ...       ...       ...       ...\n",
            "28291  1.913162  0.230800 -0.361103  0.987146 -1.429366\n",
            "28292 -0.019836 -0.125648 -0.426364  0.660369 -1.104012\n",
            "28293  1.061439  0.287895 -0.361103  0.889229 -1.404218\n",
            "28294 -0.139284 -0.305567 -0.361103  2.258044  5.196627\n",
            "28295 -0.105759 -0.286805 -0.361103  1.891806  3.451585\n",
            "\n",
            "[28296 rows x 5 columns]\n"
          ]
        }
      ]
    },
    {
      "cell_type": "code",
      "source": [
        "result = pd.concat([normalized_data, features], axis=1)\n",
        "\n",
        "print(result)"
      ],
      "metadata": {
        "colab": {
          "base_uri": "https://localhost:8080/"
        },
        "id": "V2awwu60ZUZ-",
        "outputId": "43c73f89-b367-4cb7-9229-a1d3a86aa7ec"
      },
      "execution_count": null,
      "outputs": [
        {
          "output_type": "stream",
          "name": "stdout",
          "text": [
            "           step    amount  oldbalanceOrg  newbalanceOrig  oldbalanceDest  \\\n",
            "0     -2.404158 -0.417837      -0.280597       -0.287119       -0.337483   \n",
            "1     -2.404158 -0.444305      -0.350624       -0.352156       -0.337483   \n",
            "2     -2.404158 -0.449892      -0.360533       -0.361103       -0.337483   \n",
            "3     -2.404158 -0.449892      -0.360533       -0.361103       -0.329057   \n",
            "4     -2.404158 -0.411769      -0.341074       -0.347309       -0.337483   \n",
            "...         ...       ...            ...             ...             ...   \n",
            "28291  0.651125 -0.189524      -0.360618       -0.361103        6.535419   \n",
            "28292  0.651125 -0.426364      -0.360618       -0.361103        0.268619   \n",
            "28293  0.651125 -0.075334      -0.360618       -0.361103        3.674378   \n",
            "28294  0.651125 -0.153977      -0.360618       -0.361103       -0.292663   \n",
            "28295  0.651125  0.009653      -0.360618       -0.361103       -0.280696   \n",
            "\n",
            "       newbalanceDest      mean    median      mode  skewness  kurtosis  \n",
            "0           -0.383503 -0.685116 -0.360493 -2.404158 -2.427494  5.915765  \n",
            "1           -0.383503 -0.712038 -0.367829 -2.404158 -2.437820  5.954444  \n",
            "2           -0.383503 -0.716112 -0.372303 -2.404158 -2.437699  5.953983  \n",
            "3           -0.383503 -0.714708 -0.372303 -2.404158 -2.436517  5.949531  \n",
            "4           -0.383503 -0.704216 -0.365406 -2.404158 -2.442915  5.974649  \n",
            "...               ...       ...       ...       ...       ...       ...  \n",
            "28291        5.203675  1.913162  0.230800 -0.361103  0.987146 -1.429366  \n",
            "28292        0.109322 -0.019836 -0.125648 -0.426364  0.660369 -1.104012  \n",
            "28293        2.840185  1.061439  0.287895 -0.361103  0.889229 -1.404218  \n",
            "28294       -0.318471 -0.139284 -0.305567 -0.361103  2.258044  5.196627  \n",
            "28295       -0.292915 -0.105759 -0.286805 -0.361103  1.891806  3.451585  \n",
            "\n",
            "[28296 rows x 11 columns]\n"
          ]
        }
      ]
    },
    {
      "cell_type": "code",
      "source": [
        "me = normalized_data.mean()\n",
        "me"
      ],
      "metadata": {
        "colab": {
          "base_uri": "https://localhost:8080/"
        },
        "id": "2ldCEZkkDpyp",
        "outputId": "ff364d40-488d-4d4a-8430-ef78fb626f72"
      },
      "execution_count": null,
      "outputs": [
        {
          "output_type": "execute_result",
          "data": {
            "text/plain": [
              "step              3.214217e-17\n",
              "amount            8.035541e-18\n",
              "oldbalanceOrg    -4.017771e-18\n",
              "newbalanceOrig    3.214217e-17\n",
              "oldbalanceDest    2.059107e-17\n",
              "newbalanceDest   -1.406220e-17\n",
              "dtype: float64"
            ]
          },
          "metadata": {},
          "execution_count": 32
        }
      ]
    },
    {
      "cell_type": "code",
      "source": [
        "med=normalized_data.median()"
      ],
      "metadata": {
        "id": "Rdum20c7BrP-"
      },
      "execution_count": null,
      "outputs": []
    },
    {
      "cell_type": "code",
      "source": [
        "med"
      ],
      "metadata": {
        "colab": {
          "base_uri": "https://localhost:8080/"
        },
        "id": "MnObxB6uCPtF",
        "outputId": "24f3b94f-2833-48ba-9f7f-4b210cc714db"
      },
      "execution_count": null,
      "outputs": [
        {
          "output_type": "execute_result",
          "data": {
            "text/plain": [
              "step              0.651125\n",
              "amount           -0.385771\n",
              "oldbalanceOrg    -0.351377\n",
              "newbalanceOrig   -0.359402\n",
              "oldbalanceDest   -0.337483\n",
              "newbalanceDest   -0.383503\n",
              "dtype: float64"
            ]
          },
          "metadata": {},
          "execution_count": 34
        }
      ]
    },
    {
      "cell_type": "code",
      "source": [
        "std=normalized_data.std()\n",
        "std"
      ],
      "metadata": {
        "id": "l8tGovBiD6X2",
        "colab": {
          "base_uri": "https://localhost:8080/"
        },
        "outputId": "2b02a989-d0ff-4dab-c5b5-649ca0682aa6"
      },
      "execution_count": null,
      "outputs": [
        {
          "output_type": "execute_result",
          "data": {
            "text/plain": [
              "step              1.0\n",
              "amount            1.0\n",
              "oldbalanceOrg     1.0\n",
              "newbalanceOrig    1.0\n",
              "oldbalanceDest    1.0\n",
              "newbalanceDest    1.0\n",
              "dtype: float64"
            ]
          },
          "metadata": {},
          "execution_count": 35
        }
      ]
    },
    {
      "cell_type": "code",
      "source": [
        "plt.figure(figsize=(8, 6))\n",
        "plt.bar(std.index, std.values, color='pink')\n",
        "plt.xlabel('Columns')\n",
        "plt.ylabel('Standard Deviation')\n",
        "plt.title('Standard Deviation  for each columns')\n",
        "plt.xticks(rotation=45)\n",
        "plt.tight_layout()\n",
        "plt.show()"
      ],
      "metadata": {
        "colab": {
          "base_uri": "https://localhost:8080/",
          "height": 607
        },
        "id": "TmPrpbGYExi9",
        "outputId": "7d988e48-c733-4ac4-fed6-f59993878036"
      },
      "execution_count": null,
      "outputs": [
        {
          "output_type": "display_data",
          "data": {
            "text/plain": [
              "<Figure size 800x600 with 1 Axes>"
            ],
            "image/png": "[encoded data removed]"
          },
          "metadata": {}
        }
      ]
    },
    {
      "cell_type": "code",
      "source": [
        "k=normalized_data.kurtosis()\n",
        "k"
      ],
      "metadata": {
        "colab": {
          "base_uri": "https://localhost:8080/"
        },
        "id": "jhc60oSKFv2C",
        "outputId": "c8033754-a81a-4e88-faea-545511c6303d"
      },
      "execution_count": null,
      "outputs": [
        {
          "output_type": "execute_result",
          "data": {
            "text/plain": [
              "step                0.966909\n",
              "amount            119.096012\n",
              "oldbalanceOrg      18.749716\n",
              "newbalanceOrig     18.064397\n",
              "oldbalanceDest     22.597710\n",
              "newbalanceDest     16.560782\n",
              "dtype: float64"
            ]
          },
          "metadata": {},
          "execution_count": 37
        }
      ]
    },
    {
      "cell_type": "code",
      "source": [
        "plt.figure(figsize=(8, 6))\n",
        "plt.bar(k.index, k.values, color='violet')\n",
        "plt.xlabel('Columns')\n",
        "plt.ylabel('Kurtosis')\n",
        "plt.title('Kurtosis for each columns')\n",
        "plt.xticks(rotation=45)\n",
        "plt.tight_layout()\n",
        "plt.show()"
      ],
      "metadata": {
        "colab": {
          "base_uri": "https://localhost:8080/",
          "height": 607
        },
        "id": "5UMumqu3F-ZP",
        "outputId": "4e20c15e-c64f-478b-cd4e-eb673b825de3"
      },
      "execution_count": null,
      "outputs": [
        {
          "output_type": "display_data",
          "data": {
            "text/plain": [
              "<Figure size 800x600 with 1 Axes>"
            ],
            "image/png": "[encoded data removed]"
          },
          "metadata": {}
        }
      ]
    },
    {
      "cell_type": "code",
      "source": [
        "s=normalized_data.skew()\n",
        "s"
      ],
      "metadata": {
        "colab": {
          "base_uri": "https://localhost:8080/"
        },
        "id": "TlLsr2YAGjbK",
        "outputId": "2a611438-a561-43d4-b0df-6a2a62a89101"
      },
      "execution_count": null,
      "outputs": [
        {
          "output_type": "execute_result",
          "data": {
            "text/plain": [
              "step             -1.564788\n",
              "amount            7.286521\n",
              "oldbalanceOrg     3.888311\n",
              "newbalanceOrig    3.825314\n",
              "oldbalanceDest    4.479413\n",
              "newbalanceDest    3.838239\n",
              "dtype: float64"
            ]
          },
          "metadata": {},
          "execution_count": 39
        }
      ]
    },
    {
      "cell_type": "code",
      "source": [
        "plt.figure(figsize=(8, 6))\n",
        "plt.bar(s.index, s.values, color='orange')\n",
        "plt.xlabel('Columns')\n",
        "plt.ylabel('Skewness')\n",
        "plt.title('Skewness Distribution Across columns')\n",
        "plt.xticks(rotation=45)\n",
        "plt.tight_layout()\n",
        "plt.show()"
      ],
      "metadata": {
        "colab": {
          "base_uri": "https://localhost:8080/",
          "height": 607
        },
        "id": "D9HpaoncGqb6",
        "outputId": "72c81109-672d-4474-862d-e3108d35c97a"
      },
      "execution_count": null,
      "outputs": [
        {
          "output_type": "display_data",
          "data": {
            "text/plain": [
              "<Figure size 800x600 with 1 Axes>"
            ],
            "image/png": "[encoded data removed]"
          },
          "metadata": {}
        }
      ]
    },
    {
      "cell_type": "markdown",
      "source": [
        "# **FEATURE SELECTION**"
      ],
      "metadata": {
        "id": "j3XKfVrOjYqc"
      }
    },
    {
      "cell_type": "code",
      "source": [
        "from sklearn.preprocessing import MinMaxScaler\n",
        "from sklearn.feature_selection import SelectKBest, chi2\n",
        "y = a['isFraud']\n",
        "scaler = MinMaxScaler()\n",
        "result_scaled = scaler.fit_transform(result)\n"
      ],
      "metadata": {
        "id": "d1oPIeD7IWdu"
      },
      "execution_count": null,
      "outputs": []
    },
    {
      "cell_type": "code",
      "source": [
        "chi2_selector = SelectKBest(chi2, k='all')\n",
        "chi2_selector.fit(result_scaled, y)\n",
        "\n",
        "chi2_scores = pd.Series(chi2_selector.scores_, index=result.columns)\n",
        "print(\"Chi-Square Scores:\\n\", chi2_scores)"
      ],
      "metadata": {
        "colab": {
          "base_uri": "https://localhost:8080/"
        },
        "id": "ypl3bWUgIp0v",
        "outputId": "0b29fd9e-63bf-4af8-a52d-d07883475398"
      },
      "execution_count": null,
      "outputs": [
        {
          "output_type": "stream",
          "name": "stdout",
          "text": [
            "Chi-Square Scores:\n",
            " step               8.812037\n",
            "amount            12.719981\n",
            "oldbalanceOrg      0.133632\n",
            "newbalanceOrig     2.678207\n",
            "oldbalanceDest     1.628093\n",
            "newbalanceDest     0.600311\n",
            "mean               0.020437\n",
            "median             0.984487\n",
            "mode               2.733890\n",
            "skewness           2.165765\n",
            "kurtosis           2.213198\n",
            "dtype: float64\n"
          ]
        }
      ]
    },
    {
      "cell_type": "code",
      "source": [
        "k = 10\n",
        "top_k_features = chi2_scores.nlargest(k).index\n",
        "print(\"\\nTop\", k, \"Features:\\n\", top_k_features)"
      ],
      "metadata": {
        "colab": {
          "base_uri": "https://localhost:8080/"
        },
        "id": "qNqbP6ZNwILe",
        "outputId": "c59cd20a-7e41-4fcf-810e-22b05e6a7eba"
      },
      "execution_count": null,
      "outputs": [
        {
          "output_type": "stream",
          "name": "stdout",
          "text": [
            "\n",
            "Top 10 Features:\n",
            " Index(['amount', 'step', 'mode', 'newbalanceOrig', 'kurtosis', 'skewness',\n",
            "       'oldbalanceDest', 'median', 'newbalanceDest', 'oldbalanceOrg'],\n",
            "      dtype='object')\n"
          ]
        }
      ]
    },
    {
      "cell_type": "code",
      "source": [
        "X_selected = result[top_k_features]\n",
        "X_selected"
      ],
      "metadata": {
        "colab": {
          "base_uri": "https://localhost:8080/",
          "height": 423
        },
        "id": "_vG01gxewQY0",
        "outputId": "8b339416-38bd-4c42-8a4e-3df52a621d31"
      },
      "execution_count": null,
      "outputs": [
        {
          "output_type": "execute_result",
          "data": {
            "text/plain": [
              "         amount      step      mode  newbalanceOrig  kurtosis  skewness  \\\n",
              "0     -0.417837 -2.404158 -2.404158       -0.287119  5.915765 -2.427494   \n",
              "1     -0.444305 -2.404158 -2.404158       -0.352156  5.954444 -2.437820   \n",
              "2     -0.449892 -2.404158 -2.404158       -0.361103  5.953983 -2.437699   \n",
              "3     -0.449892 -2.404158 -2.404158       -0.361103  5.949531 -2.436517   \n",
              "4     -0.411769 -2.404158 -2.404158       -0.347309  5.974649 -2.442915   \n",
              "...         ...       ...       ...             ...       ...       ...   \n",
              "28291 -0.189524  0.651125 -0.361103       -0.361103 -1.429366  0.987146   \n",
              "28292 -0.426364  0.651125 -0.426364       -0.361103 -1.104012  0.660369   \n",
              "28293 -0.075334  0.651125 -0.361103       -0.361103 -1.404218  0.889229   \n",
              "28294 -0.153977  0.651125 -0.361103       -0.361103  5.196627  2.258044   \n",
              "28295  0.009653  0.651125 -0.361103       -0.361103  3.451585  1.891806   \n",
              "\n",
              "       oldbalanceDest    median  newbalanceDest  oldbalanceOrg  \n",
              "0           -0.337483 -0.360493       -0.383503      -0.280597  \n",
              "1           -0.337483 -0.367829       -0.383503      -0.350624  \n",
              "2           -0.337483 -0.372303       -0.383503      -0.360533  \n",
              "3           -0.329057 -0.372303       -0.383503      -0.360533  \n",
              "4           -0.337483 -0.365406       -0.383503      -0.341074  \n",
              "...               ...       ...             ...            ...  \n",
              "28291        6.535419  0.230800        5.203675      -0.360618  \n",
              "28292        0.268619 -0.125648        0.109322      -0.360618  \n",
              "28293        3.674378  0.287895        2.840185      -0.360618  \n",
              "28294       -0.292663 -0.305567       -0.318471      -0.360618  \n",
              "28295       -0.280696 -0.286805       -0.292915      -0.360618  \n",
              "\n",
              "[28296 rows x 10 columns]"
            ],
            "text/html": [
              "\n",
              "  <div id=\"df-b9040e36-e5e5-4513-8044-6a5057f9e38d\" class=\"colab-df-container\">\n",
              "    <div>\n",
              "<style scoped>\n",
              "    .dataframe tbody tr th:only-of-type {\n",
              "        vertical-align: middle;\n",
              "    }\n",
              "\n",
              "    .dataframe tbody tr th {\n",
              "        vertical-align: top;\n",
              "    }\n",
              "\n",
              "    .dataframe thead th {\n",
              "        text-align: right;\n",
              "    }\n",
              "</style>\n",
              "<table border=\"1\" class=\"dataframe\">\n",
              "  <thead>\n",
              "    <tr style=\"text-align: right;\">\n",
              "      <th></th>\n",
              "      <th>amount</th>\n",
              "      <th>step</th>\n",
              "      <th>mode</th>\n",
              "      <th>newbalanceOrig</th>\n",
              "      <th>kurtosis</th>\n",
              "      <th>skewness</th>\n",
              "      <th>oldbalanceDest</th>\n",
              "      <th>median</th>\n",
              "      <th>newbalanceDest</th>\n",
              "      <th>oldbalanceOrg</th>\n",
              "    </tr>\n",
              "  </thead>\n",
              "  <tbody>\n",
              "    <tr>\n",
              "      <th>0</th>\n",
              "      <td>-0.417837</td>\n",
              "      <td>-2.404158</td>\n",
              "      <td>-2.404158</td>\n",
              "      <td>-0.287119</td>\n",
              "      <td>5.915765</td>\n",
              "      <td>-2.427494</td>\n",
              "      <td>-0.337483</td>\n",
              "      <td>-0.360493</td>\n",
              "      <td>-0.383503</td>\n",
              "      <td>-0.280597</td>\n",
              "    </tr>\n",
              "    <tr>\n",
              "      <th>1</th>\n",
              "      <td>-0.444305</td>\n",
              "      <td>-2.404158</td>\n",
              "      <td>-2.404158</td>\n",
              "      <td>-0.352156</td>\n",
              "      <td>5.954444</td>\n",
              "      <td>-2.437820</td>\n",
              "      <td>-0.337483</td>\n",
              "      <td>-0.367829</td>\n",
              "      <td>-0.383503</td>\n",
              "      <td>-0.350624</td>\n",
              "    </tr>\n",
              "    <tr>\n",
              "      <th>2</th>\n",
              "      <td>-0.449892</td>\n",
              "      <td>-2.404158</td>\n",
              "      <td>-2.404158</td>\n",
              "      <td>-0.361103</td>\n",
              "      <td>5.953983</td>\n",
              "      <td>-2.437699</td>\n",
              "      <td>-0.337483</td>\n",
              "      <td>-0.372303</td>\n",
              "      <td>-0.383503</td>\n",
              "      <td>-0.360533</td>\n",
              "    </tr>\n",
              "    <tr>\n",
              "      <th>3</th>\n",
              "      <td>-0.449892</td>\n",
              "      <td>-2.404158</td>\n",
              "      <td>-2.404158</td>\n",
              "      <td>-0.361103</td>\n",
              "      <td>5.949531</td>\n",
              "      <td>-2.436517</td>\n",
              "      <td>-0.329057</td>\n",
              "      <td>-0.372303</td>\n",
              "      <td>-0.383503</td>\n",
              "      <td>-0.360533</td>\n",
              "    </tr>\n",
              "    <tr>\n",
              "      <th>4</th>\n",
              "      <td>-0.411769</td>\n",
              "      <td>-2.404158</td>\n",
              "      <td>-2.404158</td>\n",
              "      <td>-0.347309</td>\n",
              "      <td>5.974649</td>\n",
              "      <td>-2.442915</td>\n",
              "      <td>-0.337483</td>\n",
              "      <td>-0.365406</td>\n",
              "      <td>-0.383503</td>\n",
              "      <td>-0.341074</td>\n",
              "    </tr>\n",
              "    <tr>\n",
              "      <th>...</th>\n",
              "      <td>...</td>\n",
              "      <td>...</td>\n",
              "      <td>...</td>\n",
              "      <td>...</td>\n",
              "      <td>...</td>\n",
              "      <td>...</td>\n",
              "      <td>...</td>\n",
              "      <td>...</td>\n",
              "      <td>...</td>\n",
              "      <td>...</td>\n",
              "    </tr>\n",
              "    <tr>\n",
              "      <th>28291</th>\n",
              "      <td>-0.189524</td>\n",
              "      <td>0.651125</td>\n",
              "      <td>-0.361103</td>\n",
              "      <td>-0.361103</td>\n",
              "      <td>-1.429366</td>\n",
              "      <td>0.987146</td>\n",
              "      <td>6.535419</td>\n",
              "      <td>0.230800</td>\n",
              "      <td>5.203675</td>\n",
              "      <td>-0.360618</td>\n",
              "    </tr>\n",
              "    <tr>\n",
              "      <th>28292</th>\n",
              "      <td>-0.426364</td>\n",
              "      <td>0.651125</td>\n",
              "      <td>-0.426364</td>\n",
              "      <td>-0.361103</td>\n",
              "      <td>-1.104012</td>\n",
              "      <td>0.660369</td>\n",
              "      <td>0.268619</td>\n",
              "      <td>-0.125648</td>\n",
              "      <td>0.109322</td>\n",
              "      <td>-0.360618</td>\n",
              "    </tr>\n",
              "    <tr>\n",
              "      <th>28293</th>\n",
              "      <td>-0.075334</td>\n",
              "      <td>0.651125</td>\n",
              "      <td>-0.361103</td>\n",
              "      <td>-0.361103</td>\n",
              "      <td>-1.404218</td>\n",
              "      <td>0.889229</td>\n",
              "      <td>3.674378</td>\n",
              "      <td>0.287895</td>\n",
              "      <td>2.840185</td>\n",
              "      <td>-0.360618</td>\n",
              "    </tr>\n",
              "    <tr>\n",
              "      <th>28294</th>\n",
              "      <td>-0.153977</td>\n",
              "      <td>0.651125</td>\n",
              "      <td>-0.361103</td>\n",
              "      <td>-0.361103</td>\n",
              "      <td>5.196627</td>\n",
              "      <td>2.258044</td>\n",
              "      <td>-0.292663</td>\n",
              "      <td>-0.305567</td>\n",
              "      <td>-0.318471</td>\n",
              "      <td>-0.360618</td>\n",
              "    </tr>\n",
              "    <tr>\n",
              "      <th>28295</th>\n",
              "      <td>0.009653</td>\n",
              "      <td>0.651125</td>\n",
              "      <td>-0.361103</td>\n",
              "      <td>-0.361103</td>\n",
              "      <td>3.451585</td>\n",
              "      <td>1.891806</td>\n",
              "      <td>-0.280696</td>\n",
              "      <td>-0.286805</td>\n",
              "      <td>-0.292915</td>\n",
              "      <td>-0.360618</td>\n",
              "    </tr>\n",
              "  </tbody>\n",
              "</table>\n",
              "<p>28296 rows × 10 columns</p>\n",
              "</div>\n",
              "    <div class=\"colab-df-buttons\">\n",
              "\n",
              "  <div class=\"colab-df-container\">\n",
              "    <button class=\"colab-df-convert\" onclick=\"convertToInteractive('df-b9040e36-e5e5-4513-8044-6a5057f9e38d')\"\n",
              "            title=\"Convert this dataframe to an interactive table.\"\n",
              "            style=\"display:none;\">\n",
              "\n",
              "  <svg xmlns=\"http://www.w3.org/2000/svg\" height=\"24px\" viewBox=\"0 -960 960 960\">\n",
              "    <path d=\"M120-120v-720h720v720H120Zm60-500h600v-160H180v160Zm220 220h160v-160H400v160Zm0 220h160v-160H400v160ZM180-400h160v-160H180v160Zm440 0h160v-160H620v160ZM180-180h160v-160H180v160Zm440 0h160v-160H620v160Z\"/>\n",
              "  </svg>\n",
              "    </button>\n",
              "\n",
              "  <style>\n",
              "    .colab-df-container {\n",
              "      display:flex;\n",
              "      gap: 12px;\n",
              "    }\n",
              "\n",
              "    .colab-df-convert {\n",
              "      background-color: #E8F0FE;\n",
              "      border: none;\n",
              "      border-radius: 50%;\n",
              "      cursor: pointer;\n",
              "      display: none;\n",
              "      fill: #1967D2;\n",
              "      height: 32px;\n",
              "      padding: 0 0 0 0;\n",
              "      width: 32px;\n",
              "    }\n",
              "\n",
              "    .colab-df-convert:hover {\n",
              "      background-color: #E2EBFA;\n",
              "      box-shadow: 0px 1px 2px rgba(60, 64, 67, 0.3), 0px 1px 3px 1px rgba(60, 64, 67, 0.15);\n",
              "      fill: #174EA6;\n",
              "    }\n",
              "\n",
              "    .colab-df-buttons div {\n",
              "      margin-bottom: 4px;\n",
              "    }\n",
              "\n",
              "    [theme=dark] .colab-df-convert {\n",
              "      background-color: #3B4455;\n",
              "      fill: #D2E3FC;\n",
              "    }\n",
              "\n",
              "    [theme=dark] .colab-df-convert:hover {\n",
              "      background-color: #434B5C;\n",
              "      box-shadow: 0px 1px 3px 1px rgba(0, 0, 0, 0.15);\n",
              "      filter: drop-shadow(0px 1px 2px rgba(0, 0, 0, 0.3));\n",
              "      fill: #FFFFFF;\n",
              "    }\n",
              "  </style>\n",
              "\n",
              "    <script>\n",
              "      const buttonEl =\n",
              "        document.querySelector('#df-b9040e36-e5e5-4513-8044-6a5057f9e38d button.colab-df-convert');\n",
              "      buttonEl.style.display =\n",
              "        google.colab.kernel.accessAllowed ? 'block' : 'none';\n",
              "\n",
              "      async function convertToInteractive(key) {\n",
              "        const element = document.querySelector('#df-b9040e36-e5e5-4513-8044-6a5057f9e38d');\n",
              "        const dataTable =\n",
              "          await google.colab.kernel.invokeFunction('convertToInteractive',\n",
              "                                                    [key], {});\n",
              "        if (!dataTable) return;\n",
              "\n",
              "        const docLinkHtml = 'Like what you see? Visit the ' +\n",
              "          '<a target=\"_blank\" href=https://colab.research.google.com/notebooks/data_table.ipynb>data table notebook</a>'\n",
              "          + ' to learn more about interactive tables.';\n",
              "        element.innerHTML = '';\n",
              "        dataTable['output_type'] = 'display_data';\n",
              "        await google.colab.output.renderOutput(dataTable, element);\n",
              "        const docLink = document.createElement('div');\n",
              "        docLink.innerHTML = docLinkHtml;\n",
              "        element.appendChild(docLink);\n",
              "      }\n",
              "    </script>\n",
              "  </div>\n",
              "\n",
              "\n",
              "<div id=\"df-50c91b88-4faa-46e7-b4d0-e2052b711ade\">\n",
              "  <button class=\"colab-df-quickchart\" onclick=\"quickchart('df-50c91b88-4faa-46e7-b4d0-e2052b711ade')\"\n",
              "            title=\"Suggest charts\"\n",
              "            style=\"display:none;\">\n",
              "\n",
              "<svg xmlns=\"http://www.w3.org/2000/svg\" height=\"24px\"viewBox=\"0 0 24 24\"\n",
              "     width=\"24px\">\n",
              "    <g>\n",
              "        <path d=\"M19 3H5c-1.1 0-2 .9-2 2v14c0 1.1.9 2 2 2h14c1.1 0 2-.9 2-2V5c0-1.1-.9-2-2-2zM9 17H7v-7h2v7zm4 0h-2V7h2v10zm4 0h-2v-4h2v4z\"/>\n",
              "    </g>\n",
              "</svg>\n",
              "  </button>\n",
              "\n",
              "<style>\n",
              "  .colab-df-quickchart {\n",
              "      --bg-color: #E8F0FE;\n",
              "      --fill-color: #1967D2;\n",
              "      --hover-bg-color: #E2EBFA;\n",
              "      --hover-fill-color: #174EA6;\n",
              "      --disabled-fill-color: #AAA;\n",
              "      --disabled-bg-color: #DDD;\n",
              "  }\n",
              "\n",
              "  [theme=dark] .colab-df-quickchart {\n",
              "      --bg-color: #3B4455;\n",
              "      --fill-color: #D2E3FC;\n",
              "      --hover-bg-color: #434B5C;\n",
              "      --hover-fill-color: #FFFFFF;\n",
              "      --disabled-bg-color: #3B4455;\n",
              "      --disabled-fill-color: #666;\n",
              "  }\n",
              "\n",
              "  .colab-df-quickchart {\n",
              "    background-color: var(--bg-color);\n",
              "    border: none;\n",
              "    border-radius: 50%;\n",
              "    cursor: pointer;\n",
              "    display: none;\n",
              "    fill: var(--fill-color);\n",
              "    height: 32px;\n",
              "    padding: 0;\n",
              "    width: 32px;\n",
              "  }\n",
              "\n",
              "  .colab-df-quickchart:hover {\n",
              "    background-color: var(--hover-bg-color);\n",
              "    box-shadow: 0 1px 2px rgba(60, 64, 67, 0.3), 0 1px 3px 1px rgba(60, 64, 67, 0.15);\n",
              "    fill: var(--button-hover-fill-color);\n",
              "  }\n",
              "\n",
              "  .colab-df-quickchart-complete:disabled,\n",
              "  .colab-df-quickchart-complete:disabled:hover {\n",
              "    background-color: var(--disabled-bg-color);\n",
              "    fill: var(--disabled-fill-color);\n",
              "    box-shadow: none;\n",
              "  }\n",
              "\n",
              "  .colab-df-spinner {\n",
              "    border: 2px solid var(--fill-color);\n",
              "    border-color: transparent;\n",
              "    border-bottom-color: var(--fill-color);\n",
              "    animation:\n",
              "      spin 1s steps(1) infinite;\n",
              "  }\n",
              "\n",
              "  @keyframes spin {\n",
              "    0% {\n",
              "      border-color: transparent;\n",
              "      border-bottom-color: var(--fill-color);\n",
              "      border-left-color: var(--fill-color);\n",
              "    }\n",
              "    20% {\n",
              "      border-color: transparent;\n",
              "      border-left-color: var(--fill-color);\n",
              "      border-top-color: var(--fill-color);\n",
              "    }\n",
              "    30% {\n",
              "      border-color: transparent;\n",
              "      border-left-color: var(--fill-color);\n",
              "      border-top-color: var(--fill-color);\n",
              "      border-right-color: var(--fill-color);\n",
              "    }\n",
              "    40% {\n",
              "      border-color: transparent;\n",
              "      border-right-color: var(--fill-color);\n",
              "      border-top-color: var(--fill-color);\n",
              "    }\n",
              "    60% {\n",
              "      border-color: transparent;\n",
              "      border-right-color: var(--fill-color);\n",
              "    }\n",
              "    80% {\n",
              "      border-color: transparent;\n",
              "      border-right-color: var(--fill-color);\n",
              "      border-bottom-color: var(--fill-color);\n",
              "    }\n",
              "    90% {\n",
              "      border-color: transparent;\n",
              "      border-bottom-color: var(--fill-color);\n",
              "    }\n",
              "  }\n",
              "</style>\n",
              "\n",
              "  <script>\n",
              "    async function quickchart(key) {\n",
              "      const quickchartButtonEl =\n",
              "        document.querySelector('#' + key + ' button');\n",
              "      quickchartButtonEl.disabled = true;  // To prevent multiple clicks.\n",
              "      quickchartButtonEl.classList.add('colab-df-spinner');\n",
              "      try {\n",
              "        const charts = await google.colab.kernel.invokeFunction(\n",
              "            'suggestCharts', [key], {});\n",
              "      } catch (error) {\n",
              "        console.error('Error during call to suggestCharts:', error);\n",
              "      }\n",
              "      quickchartButtonEl.classList.remove('colab-df-spinner');\n",
              "      quickchartButtonEl.classList.add('colab-df-quickchart-complete');\n",
              "    }\n",
              "    (() => {\n",
              "      let quickchartButtonEl =\n",
              "        document.querySelector('#df-50c91b88-4faa-46e7-b4d0-e2052b711ade button');\n",
              "      quickchartButtonEl.style.display =\n",
              "        google.colab.kernel.accessAllowed ? 'block' : 'none';\n",
              "    })();\n",
              "  </script>\n",
              "</div>\n",
              "\n",
              "  <div id=\"id_2374c727-d4fc-4954-ac4f-46c8e6b79b9b\">\n",
              "    <style>\n",
              "      .colab-df-generate {\n",
              "        background-color: #E8F0FE;\n",
              "        border: none;\n",
              "        border-radius: 50%;\n",
              "        cursor: pointer;\n",
              "        display: none;\n",
              "        fill: #1967D2;\n",
              "        height: 32px;\n",
              "        padding: 0 0 0 0;\n",
              "        width: 32px;\n",
              "      }\n",
              "\n",
              "      .colab-df-generate:hover {\n",
              "        background-color: #E2EBFA;\n",
              "        box-shadow: 0px 1px 2px rgba(60, 64, 67, 0.3), 0px 1px 3px 1px rgba(60, 64, 67, 0.15);\n",
              "        fill: #174EA6;\n",
              "      }\n",
              "\n",
              "      [theme=dark] .colab-df-generate {\n",
              "        background-color: #3B4455;\n",
              "        fill: #D2E3FC;\n",
              "      }\n",
              "\n",
              "      [theme=dark] .colab-df-generate:hover {\n",
              "        background-color: #434B5C;\n",
              "        box-shadow: 0px 1px 3px 1px rgba(0, 0, 0, 0.15);\n",
              "        filter: drop-shadow(0px 1px 2px rgba(0, 0, 0, 0.3));\n",
              "        fill: #FFFFFF;\n",
              "      }\n",
              "    </style>\n",
              "    <button class=\"colab-df-generate\" onclick=\"generateWithVariable('X_selected')\"\n",
              "            title=\"Generate code using this dataframe.\"\n",
              "            style=\"display:none;\">\n",
              "\n",
              "  <svg xmlns=\"http://www.w3.org/2000/svg\" height=\"24px\"viewBox=\"0 0 24 24\"\n",
              "       width=\"24px\">\n",
              "    <path d=\"M7,19H8.4L18.45,9,17,7.55,7,17.6ZM5,21V16.75L18.45,3.32a2,2,0,0,1,2.83,0l1.4,1.43a1.91,1.91,0,0,1,.58,1.4,1.91,1.91,0,0,1-.58,1.4L9.25,21ZM18.45,9,17,7.55Zm-12,3A5.31,5.31,0,0,0,4.9,8.1,5.31,5.31,0,0,0,1,6.5,5.31,5.31,0,0,0,4.9,4.9,5.31,5.31,0,0,0,6.5,1,5.31,5.31,0,0,0,8.1,4.9,5.31,5.31,0,0,0,12,6.5,5.46,5.46,0,0,0,6.5,12Z\"/>\n",
              "  </svg>\n",
              "    </button>\n",
              "    <script>\n",
              "      (() => {\n",
              "      const buttonEl =\n",
              "        document.querySelector('#id_2374c727-d4fc-4954-ac4f-46c8e6b79b9b button.colab-df-generate');\n",
              "      buttonEl.style.display =\n",
              "        google.colab.kernel.accessAllowed ? 'block' : 'none';\n",
              "\n",
              "      buttonEl.onclick = () => {\n",
              "        google.colab.notebook.generateWithVariable('X_selected');\n",
              "      }\n",
              "      })();\n",
              "    </script>\n",
              "  </div>\n",
              "\n",
              "    </div>\n",
              "  </div>\n"
            ],
            "application/vnd.google.colaboratory.intrinsic+json": {
              "type": "dataframe",
              "variable_name": "X_selected",
              "summary": "{\n  \"name\": \"X_selected\",\n  \"rows\": 28296,\n  \"fields\": [\n    {\n      \"column\": \"amount\",\n      \"properties\": {\n        \"dtype\": \"number\",\n        \"std\": 1.0,\n        \"min\": -0.45048645829304074,\n        \"max\": 32.736630624691045,\n        \"num_unique_values\": 28181,\n        \"samples\": [\n          -0.44228668351416806,\n          -0.4041805320052382,\n          -0.4453865267339765\n        ],\n        \"semantic_type\": \"\",\n        \"description\": \"\"\n      }\n    },\n    {\n      \"column\": \"step\",\n      \"properties\": {\n        \"dtype\": \"number\",\n        \"std\": 1.0000000000000002,\n        \"min\": -2.404158458337637,\n        \"max\": 0.6511249637068415,\n        \"num_unique_values\": 8,\n        \"samples\": [\n          -1.9676893980455685,\n          -0.22181315687729522,\n          -2.404158458337637\n        ],\n        \"semantic_type\": \"\",\n        \"description\": \"\"\n      }\n    },\n    {\n      \"column\": \"mode\",\n      \"properties\": {\n        \"dtype\": \"number\",\n        \"std\": 0.6679481035207255,\n        \"min\": -2.404158458337637,\n        \"max\": 0.6511249637068415,\n        \"num_unique_values\": 13726,\n        \"samples\": [\n          -0.43455255725750663,\n          -0.43968079743245325,\n          0.03686318999399431\n        ],\n        \"semantic_type\": \"\",\n        \"description\": \"\"\n      }\n    },\n    {\n      \"column\": \"newbalanceOrig\",\n      \"properties\": {\n        \"dtype\": \"number\",\n        \"std\": 1.0,\n        \"min\": -0.36110276907531336,\n        \"max\": 10.007906896833228,\n        \"num_unique_values\": 14860,\n        \"samples\": [\n          -0.35219149855301696,\n          -0.291625095564041,\n          -0.2850374600186889\n        ],\n        \"semantic_type\": \"\",\n        \"description\": \"\"\n      }\n    },\n    {\n      \"column\": \"kurtosis\",\n      \"properties\": {\n        \"dtype\": \"number\",\n        \"std\": 3.2088130579547474,\n        \"min\": -3.3212525072458354,\n        \"max\": 5.995082456627095,\n        \"num_unique_values\": 28295,\n        \"samples\": [\n          4.478796714612685,\n          5.813664675908237,\n          5.773100837738797\n        ],\n        \"semantic_type\": \"\",\n        \"description\": \"\"\n      }\n    },\n    {\n      \"column\": \"skewness\",\n      \"properties\": {\n        \"dtype\": \"number\",\n        \"std\": 1.6235418025054835,\n        \"min\": -2.447979812942893,\n        \"max\": 2.448189675038255,\n        \"num_unique_values\": 28295,\n        \"samples\": [\n          2.0250202263115327,\n          2.399620442746856,\n          2.388257993785446\n        ],\n        \"semantic_type\": \"\",\n        \"description\": \"\"\n      }\n    },\n    {\n      \"column\": \"oldbalanceDest\",\n      \"properties\": {\n        \"dtype\": \"number\",\n        \"std\": 1.0,\n        \"min\": -0.33748309739444304,\n        \"max\": 9.589374140399617,\n        \"num_unique_values\": 13180,\n        \"samples\": [\n          0.13531829160481038,\n          -0.09576816397360291,\n          -0.21356966559961293\n        ],\n        \"semantic_type\": \"\",\n        \"description\": \"\"\n      }\n    },\n    {\n      \"column\": \"median\",\n      \"properties\": {\n        \"dtype\": \"number\",\n        \"std\": 0.4538230725888051,\n        \"min\": -0.372302862303301,\n        \"max\": 6.92720025233477,\n        \"num_unique_values\": 23283,\n        \"samples\": [\n          0.4801100391504045,\n          -0.22108800418701968,\n          3.923261732483843\n        ],\n        \"semantic_type\": \"\",\n        \"description\": \"\"\n      }\n    },\n    {\n      \"column\": \"newbalanceDest\",\n      \"properties\": {\n        \"dtype\": \"number\",\n        \"std\": 1.0,\n        \"min\": -0.3835029555312886,\n        \"max\": 8.882133706292224,\n        \"num_unique_values\": 3667,\n        \"samples\": [\n          0.13013140788618746,\n          -0.11485470132108404,\n          -0.3188209042937065\n        ],\n        \"semantic_type\": \"\",\n        \"description\": \"\"\n      }\n    },\n    {\n      \"column\": \"oldbalanceOrg\",\n      \"properties\": {\n        \"dtype\": \"number\",\n        \"std\": 1.0,\n        \"min\": -0.3606178211086936,\n        \"max\": 10.152397278303518,\n        \"num_unique_values\": 18645,\n        \"samples\": [\n          -0.3507248499386499,\n          -0.30071393820137127,\n          -0.35530823893038116\n        ],\n        \"semantic_type\": \"\",\n        \"description\": \"\"\n      }\n    }\n  ]\n}"
            }
          },
          "metadata": {},
          "execution_count": 44
        }
      ]
    },
    {
      "cell_type": "code",
      "source": [
        "chi2_scores.sort_values().plot(kind='bar', figsize=(10, 6))\n",
        "plt.title('Chi-Square Scores')\n",
        "plt.show()"
      ],
      "metadata": {
        "colab": {
          "base_uri": "https://localhost:8080/",
          "height": 646
        },
        "id": "XLGbjD-lvaRz",
        "outputId": "8d4be4c9-4fb4-41e8-b0f4-929ed66c8f7d"
      },
      "execution_count": null,
      "outputs": [
        {
          "output_type": "display_data",
          "data": {
            "text/plain": [
              "<Figure size 1000x600 with 1 Axes>"
            ],
            "image/png": "[encoded data removed]"
          },
          "metadata": {}
        }
      ]
    },
    {
      "cell_type": "code",
      "source": [
        "#ANOVA\n",
        "import warnings\n",
        "warnings.filterwarnings('ignore')\n",
        "from sklearn.feature_selection import SelectKBest, f_classif\n",
        "anova_selector = SelectKBest(f_classif, k='all')\n",
        "anova_selector.fit(result, y)\n",
        "anova_scores = pd.Series(anova_selector.scores_, index=result.columns)\n",
        "print(\"ANOVA F-test Scores:\\n\", anova_scores)\n",
        "anova_scores.sort_values().plot(kind='bar', figsize=(10, 6))\n",
        "plt.title('ANOVA F-test Scores')\n",
        "plt.show()\n"
      ],
      "metadata": {
        "colab": {
          "base_uri": "https://localhost:8080/",
          "height": 872
        },
        "id": "hPABg1gyyGQR",
        "outputId": "c39f1d38-ffd5-471d-d776-db9e8930f53c"
      },
      "execution_count": null,
      "outputs": [
        {
          "output_type": "stream",
          "name": "stdout",
          "text": [
            "ANOVA F-test Scores:\n",
            " step               64.873926\n",
            "amount            191.448107\n",
            "oldbalanceOrg       0.506615\n",
            "newbalanceOrig     10.031153\n",
            "oldbalanceDest      5.455210\n",
            "newbalanceDest      2.133231\n",
            "mean                0.297777\n",
            "median              8.534214\n",
            "mode               32.527077\n",
            "skewness           13.661464\n",
            "kurtosis           12.713717\n",
            "dtype: float64\n"
          ]
        },
        {
          "output_type": "display_data",
          "data": {
            "text/plain": [
              "<Figure size 1000x600 with 1 Axes>"
            ],
            "image/png": "[encoded data removed]"
          },
          "metadata": {}
        }
      ]
    },
    {
      "cell_type": "code",
      "source": [
        "#Variance Threshold\n",
        "from sklearn.feature_selection import VarianceThreshold\n",
        "var_threshold = VarianceThreshold(threshold=0.1)\n",
        "var_threshold.fit(result)\n",
        "var_support = var_threshold.get_support(indices=True)\n",
        "var_scores = pd.Series(var_threshold.variances_, index=result.columns)\n",
        "print(\"Variance Scores:\\n\", var_scores)\n",
        "var_scores.sort_values().plot(kind='bar', figsize=(10, 6))\n",
        "plt.title('Variance Scores')\n",
        "plt.show()"
      ],
      "metadata": {
        "colab": {
          "base_uri": "https://localhost:8080/",
          "height": 872
        },
        "id": "1rgUFYJnyOtJ",
        "outputId": "47e1863e-f681-4566-b84a-b8c8d40b9d71"
      },
      "execution_count": null,
      "outputs": [
        {
          "output_type": "stream",
          "name": "stdout",
          "text": [
            "Variance Scores:\n",
            " step               0.999965\n",
            "amount             0.999965\n",
            "oldbalanceOrg      0.999965\n",
            "newbalanceOrig     0.999965\n",
            "oldbalanceDest     0.999965\n",
            "newbalanceDest     0.999965\n",
            "mean               0.347332\n",
            "median             0.205948\n",
            "mode               0.446139\n",
            "skewness           2.635795\n",
            "kurtosis          10.296117\n",
            "dtype: float64\n"
          ]
        },
        {
          "output_type": "display_data",
          "data": {
            "text/plain": [
              "<Figure size 1000x600 with 1 Axes>"
            ],
            "image/png": "[encoded data removed]"
          },
          "metadata": {}
        }
      ]
    },
    {
      "cell_type": "markdown",
      "source": [
        "# **CLASSIFICATION**"
      ],
      "metadata": {
        "id": "UzDmzKPxjh0P"
      }
    },
    {
      "cell_type": "markdown",
      "source": [
        "**CNN**"
      ],
      "metadata": {
        "id": "g7MjlZOZNdSS"
      }
    },
    {
      "cell_type": "code",
      "source": [
        "import numpy as np\n",
        "import pandas as pd\n",
        "from sklearn.model_selection import train_test_split\n",
        "from sklearn.preprocessing import StandardScaler\n",
        "from tensorflow.keras.models import Sequential\n",
        "from tensorflow.keras.layers import Conv1D, MaxPooling1D, Flatten, Dense\n",
        "from tensorflow.keras.utils import to_categorical"
      ],
      "metadata": {
        "id": "H_h7PggUMqch"
      },
      "execution_count": null,
      "outputs": []
    },
    {
      "cell_type": "code",
      "source": [
        "top_k_features = chi2_scores.nlargest(k).index\n",
        "X = result[top_k_features]\n",
        "y=a['isFraud']"
      ],
      "metadata": {
        "id": "CNOvpznXM6YK"
      },
      "execution_count": null,
      "outputs": []
    },
    {
      "cell_type": "code",
      "source": [
        "X_train, X_test, y_train, y_test = train_test_split(X, y, test_size=0.2, random_state=42)"
      ],
      "metadata": {
        "id": "FCJrEJctM-aA"
      },
      "execution_count": null,
      "outputs": []
    },
    {
      "cell_type": "code",
      "source": [
        "scaler_cnn = StandardScaler()\n",
        "X_train_cnn_scaled = scaler_cnn.fit_transform(X_train)\n",
        "X_test_cnn_scaled = scaler_cnn.transform(X_test)\n",
        "\n",
        "X_train_cnn_reshaped = X_train_cnn_scaled.reshape(X_train_cnn_scaled.shape[0], X_train_cnn_scaled.shape[1], 1)\n",
        "X_test_cnn_reshaped = X_test_cnn_scaled.reshape(X_test_cnn_scaled.shape[0], X_test_cnn_scaled.shape[1], 1)\n",
        "y_train_encoded = to_categorical(y_train)\n",
        "y_test_encoded = to_categorical(y_test)\n",
        "\n",
        "# Build the CNN model\n",
        "model = Sequential()\n",
        "model.add(Conv1D(32, kernel_size=3, activation='relu', input_shape=(X_train_cnn_reshaped.shape[1], 1)))\n",
        "model.add(MaxPooling1D(pool_size=2))\n",
        "model.add(Conv1D(64, kernel_size=3, activation='relu'))\n",
        "model.add(MaxPooling1D(pool_size=2))\n",
        "model.add(Flatten())\n",
        "model.add(Dense(128, activation='relu'))\n",
        "model.add(Dense(y_train_encoded.shape[1], activation='softmax'))"
      ],
      "metadata": {
        "id": "sJ9t2WU3NHjY"
      },
      "execution_count": null,
      "outputs": []
    },
    {
      "cell_type": "code",
      "source": [
        "model.compile(loss='categorical_crossentropy', optimizer='adam', metrics=['accuracy'])\n",
        "model.fit(X_train_cnn_reshaped, y_train_encoded, epochs=10, batch_size=32, validation_split=0.2)"
      ],
      "metadata": {
        "colab": {
          "base_uri": "https://localhost:8080/"
        },
        "id": "BIMS9ccsNLZo",
        "outputId": "5cd6d107-5b5e-490d-86bf-e8469f1cc256"
      },
      "execution_count": null,
      "outputs": [
        {
          "output_type": "stream",
          "name": "stdout",
          "text": [
            "Epoch 1/10\n",
            "566/566 [==============================] - 4s 4ms/step - loss: 0.0284 - accuracy: 0.9971 - val_loss: 0.0319 - val_accuracy: 0.9971\n",
            "Epoch 2/10\n",
            "566/566 [==============================] - 3s 5ms/step - loss: 0.0194 - accuracy: 0.9971 - val_loss: 0.0197 - val_accuracy: 0.9971\n",
            "Epoch 3/10\n",
            "566/566 [==============================] - 2s 3ms/step - loss: 0.0186 - accuracy: 0.9971 - val_loss: 0.0163 - val_accuracy: 0.9978\n",
            "Epoch 4/10\n",
            "566/566 [==============================] - 2s 3ms/step - loss: 0.0176 - accuracy: 0.9970 - val_loss: 0.0157 - val_accuracy: 0.9976\n",
            "Epoch 5/10\n",
            "566/566 [==============================] - 2s 3ms/step - loss: 0.0174 - accuracy: 0.9970 - val_loss: 0.0149 - val_accuracy: 0.9973\n",
            "Epoch 6/10\n",
            "566/566 [==============================] - 2s 3ms/step - loss: 0.0175 - accuracy: 0.9971 - val_loss: 0.0156 - val_accuracy: 0.9973\n",
            "Epoch 7/10\n",
            "566/566 [==============================] - 2s 3ms/step - loss: 0.0168 - accuracy: 0.9972 - val_loss: 0.0171 - val_accuracy: 0.9973\n",
            "Epoch 8/10\n",
            "566/566 [==============================] - 2s 3ms/step - loss: 0.0167 - accuracy: 0.9971 - val_loss: 0.0160 - val_accuracy: 0.9976\n",
            "Epoch 9/10\n",
            "566/566 [==============================] - 3s 5ms/step - loss: 0.0166 - accuracy: 0.9972 - val_loss: 0.0208 - val_accuracy: 0.9976\n",
            "Epoch 10/10\n",
            "566/566 [==============================] - 2s 4ms/step - loss: 0.0169 - accuracy: 0.9971 - val_loss: 0.0172 - val_accuracy: 0.9973\n"
          ]
        },
        {
          "output_type": "execute_result",
          "data": {
            "text/plain": [
              "<keras.src.callbacks.History at 0x7dc99c6e5e10>"
            ]
          },
          "metadata": {},
          "execution_count": 52
        }
      ]
    },
    {
      "cell_type": "code",
      "source": [
        "from sklearn.metrics import accuracy_score, precision_score, recall_score, f1_score, confusion_matrix, matthews_corrcoef\n",
        "\n",
        "y_pred_probs = model.predict(X_test_cnn_reshaped)\n",
        "y_pred = np.argmax(y_pred_probs, axis=1)\n",
        "y_true = np.argmax(y_test_encoded, axis=1)\n",
        "\n",
        "# Calculate Metrics\n",
        "accuracy = accuracy_score(y_true, y_pred)\n",
        "precision = precision_score(y_true, y_pred)\n",
        "sensitivity = recall_score(y_true, y_pred)  # Also known as recall\n",
        "f_measure = f1_score(y_true, y_pred)\n",
        "MCC = matthews_corrcoef(y_true, y_pred)\n",
        "\n",
        "# Calculate metrics based on confusion matrix\n",
        "tn, fp, fn, tp = confusion_matrix(y_true, y_pred).ravel()\n",
        "specificity = tn / (tn + fp)\n",
        "NPV = tn / (tn + fn)\n",
        "FPR = fp / (fp + tn)\n",
        "FNR = fn / (fn + tp)\n",
        "\n",
        "# Print Metrics\n",
        "print(f\"Accuracy: {accuracy}\")\n",
        "print(f\"Precision: {precision}\")\n",
        "print(f\"Sensitivity (Recall): {sensitivity}\")\n",
        "print(f\"Specificity: {specificity}\")\n",
        "print(f\"F-Measure: {f_measure}\")\n",
        "print(f\"Matthew's Correlation Coefficient (MCC): {MCC}\")\n",
        "print(f\"Negative Prediction Value (NPV): {NPV}\")\n",
        "print(f\"False Positive Rate (FPR): {FPR}\")\n",
        "print(f\"False Negative Rate (FNR): {FNR}\")"
      ],
      "metadata": {
        "colab": {
          "base_uri": "https://localhost:8080/"
        },
        "id": "9Ct37qCTKAQN",
        "outputId": "1faf3620-47a8-41b6-b68e-def6ab09455b"
      },
      "execution_count": null,
      "outputs": [
        {
          "output_type": "stream",
          "name": "stdout",
          "text": [
            "177/177 [==============================] - 0s 1ms/step\n",
            "Accuracy: 0.9969964664310954\n",
            "Precision: 0.6666666666666666\n",
            "Sensitivity (Recall): 0.1111111111111111\n",
            "Specificity: 0.999822757887274\n",
            "F-Measure: 0.1904761904761905\n",
            "Matthew's Correlation Coefficient (MCC): 0.2713708760821389\n",
            "Negative Prediction Value (NPV): 0.99717164574863\n",
            "False Positive Rate (FPR): 0.0001772421127259837\n",
            "False Negative Rate (FNR): 0.8888888888888888\n"
          ]
        }
      ]
    },
    {
      "cell_type": "code",
      "source": [
        "from sklearn.metrics import confusion_matrix, classification_report\n",
        "y_pred_proba = model.predict(X_test_cnn_reshaped)\n",
        "y_pred = np.argmax(y_pred_proba, axis=1)  # Get class with highest probability\n",
        "\n",
        "# Confusion Matrix\n",
        "cm = confusion_matrix(y_test, y_pred)\n",
        "print(\"Confusion Matrix:\")\n",
        "print(cm)\n",
        "\n",
        "# Classification Report\n",
        "print(\"\\nClassification Report (sklearn):\")\n",
        "print(classification_report(y_test, y_pred))"
      ],
      "metadata": {
        "colab": {
          "base_uri": "https://localhost:8080/"
        },
        "id": "wBceZb9T-NzA",
        "outputId": "4de94fa3-a5e8-41b0-dee1-db0489f7bb13"
      },
      "execution_count": null,
      "outputs": [
        {
          "output_type": "stream",
          "name": "stdout",
          "text": [
            "177/177 [==============================] - 0s 2ms/step\n",
            "Confusion Matrix:\n",
            "[[5641    1]\n",
            " [  16    2]]\n",
            "\n",
            "Classification Report (sklearn):\n",
            "              precision    recall  f1-score   support\n",
            "\n",
            "         0.0       1.00      1.00      1.00      5642\n",
            "         1.0       0.67      0.11      0.19        18\n",
            "\n",
            "    accuracy                           1.00      5660\n",
            "   macro avg       0.83      0.56      0.59      5660\n",
            "weighted avg       1.00      1.00      1.00      5660\n",
            "\n"
          ]
        }
      ]
    },
    {
      "cell_type": "code",
      "source": [
        "def calculate_metrics(cm):\n",
        "    tn, fp, fn, tp = cm.ravel()\n",
        "\n",
        "    # Calculate metrics\n",
        "    accuracy = (tp + tn) / (tp + tn + fp + fn)\n",
        "    precision = tp / (tp + fp) if (tp + fp) != 0 else 0  # Handle potential division by zero\n",
        "    sensitivity = tp / (tp + fn) if (tp + fn) != 0 else 0\n",
        "    specificity = tn / (tn + fp) if (tn + fp) != 0 else 0\n",
        "    f_measure = 2 * (precision * sensitivity) / (precision + sensitivity) if (precision + sensitivity) != 0 else 0\n",
        "    mcc = (tp * tn - fp * fn) / (((tp + fp) * (tp + fn) * (tn + fp) * (tn + fn)) ** 0.5) if ((tp + fp) * (tp + fn) * (tn + fp) * (tn + fn)) != 0 else 0\n",
        "    npv = tn / (tn + fn) if (tn + fn) != 0 else 0\n",
        "    fpr = fp / (fp + tn) if (fp + tn) != 0 else 0\n",
        "    fnr = fn / (fn + tp) if (fn + tp) != 0 else 0\n",
        "\n",
        "    return accuracy, precision, sensitivity, specificity, f_measure, mcc, npv, fpr, fnr"
      ],
      "metadata": {
        "id": "MrI4Y9wfDsg5"
      },
      "execution_count": null,
      "outputs": []
    },
    {
      "cell_type": "code",
      "source": [
        "metrics_cnn= calculate_metrics(cm)\n",
        "accuracy, precision, sensitivity, specificity, f_measure, mcc, npv, fpr, fnr = metrics_cnn\n",
        "\n",
        "print(\"CNN Metrics:\")\n",
        "print(f\"Accuracy: {accuracy}\")\n",
        "print(f\"Precision: {precision:.4f}\")\n",
        "print(f\"Sensitivity (Recall): {sensitivity:.4f}\")\n",
        "print(f\"Specificity: {specificity:.4f}\")\n",
        "print(f\"F-Measure: {f_measure:.4f}\")\n",
        "print(f\"Matthew's Correlation Coefficient (MCC): {mcc:.4f}\")\n",
        "print(f\"Negative Prediction Value (NPV): {npv:.4f}\")\n",
        "print(f\"False Positive Rate (FPR): {fpr:.4f}\")\n",
        "print(f\"False Negative Rate (FNR): {fnr:.4f}\")\n",
        "print()"
      ],
      "metadata": {
        "colab": {
          "base_uri": "https://localhost:8080/"
        },
        "id": "WCayA7jN5DB-",
        "outputId": "5e736376-3e44-4330-fdaa-69bc4ebf6bb5"
      },
      "execution_count": null,
      "outputs": [
        {
          "output_type": "stream",
          "name": "stdout",
          "text": [
            "CNN Metrics:\n",
            "Accuracy: 0.9969964664310954\n",
            "Precision: 0.6667\n",
            "Sensitivity (Recall): 0.1111\n",
            "Specificity: 0.9998\n",
            "F-Measure: 0.1905\n",
            "Matthew's Correlation Coefficient (MCC): 0.2714\n",
            "Negative Prediction Value (NPV): 0.9972\n",
            "False Positive Rate (FPR): 0.0002\n",
            "False Negative Rate (FNR): 0.8889\n",
            "\n"
          ]
        }
      ]
    },
    {
      "cell_type": "markdown",
      "source": [
        "**KNN**"
      ],
      "metadata": {
        "id": "gKVHk9jHS6V-"
      }
    },
    {
      "cell_type": "code",
      "source": [
        "from sklearn.model_selection import train_test_split\n",
        "from sklearn.preprocessing import StandardScaler\n",
        "from sklearn.neighbors import KNeighborsClassifier\n",
        "from sklearn.metrics import confusion_matrix, classification_report\n",
        "from tensorflow.keras.utils import to_categorical  # For consistency with CNN format\n",
        "\n",
        "\n",
        "X_train, X_test, y_train, y_test = train_test_split(\n",
        "    X, y, test_size=0.2, random_state=42)\n",
        "\n",
        "\n",
        "scaler_knn = StandardScaler()\n",
        "X_train_knn_scaled = scaler_knn.fit_transform(X_train)\n",
        "X_test_knn_scaled = scaler_knn.transform(X_test)\n",
        "\n",
        "X_train_knn_reshaped = X_train_knn_scaled.reshape(X_train_knn_scaled.shape[0], X_train_knn_scaled.shape[1], 1)\n",
        "X_test_knn_reshaped = X_test_knn_scaled.reshape(X_test_knn_scaled.shape[0], X_test_knn_scaled.shape[1], 1)\n",
        "\n",
        "\n",
        "y_train_encoded = to_categorical(y_train)\n",
        "y_test_encoded = to_categorical(y_test)\n",
        "\n",
        "# Build the KNN model\n",
        "knn = KNeighborsClassifier(n_neighbors=5)\n",
        "knn.fit(X_train_knn_scaled, y_train)\n",
        "\n",
        "# Prediction (using the scaled, not reshaped, test data)\n",
        "y_pred_knn = knn.predict(X_test_knn_scaled)\n",
        "\n",
        "cm_knn = confusion_matrix(y_test, y_pred)\n",
        "print(\"Confusion Matrix:\")\n",
        "print(cm_knn)\n",
        "\n",
        "\n",
        "print(\"\\nClassification Report (sklearn):\")\n",
        "print(classification_report(y_test, y_pred))\n"
      ],
      "metadata": {
        "colab": {
          "base_uri": "https://localhost:8080/"
        },
        "id": "Zf29nPbIROmL",
        "outputId": "e2f2c5e6-3d2c-4879-f4fd-270f1e49cdcb"
      },
      "execution_count": null,
      "outputs": [
        {
          "output_type": "stream",
          "name": "stdout",
          "text": [
            "Confusion Matrix:\n",
            "[[5641    1]\n",
            " [  16    2]]\n",
            "\n",
            "Classification Report (sklearn):\n",
            "              precision    recall  f1-score   support\n",
            "\n",
            "         0.0       1.00      1.00      1.00      5642\n",
            "         1.0       0.67      0.11      0.19        18\n",
            "\n",
            "    accuracy                           1.00      5660\n",
            "   macro avg       0.83      0.56      0.59      5660\n",
            "weighted avg       1.00      1.00      1.00      5660\n",
            "\n"
          ]
        }
      ]
    },
    {
      "cell_type": "code",
      "source": [
        "def calculate_metrics(cm_knn):\n",
        "    tn, fp, fn, tp = cm_knn.ravel()\n",
        "\n",
        "    # Calculate metrics\n",
        "    accuracy = (tp + tn) / (tp + tn + fp + fn)\n",
        "    precision = tp / (tp + fp) if (tp + fp) != 0 else 0  # Handle potential division by zero\n",
        "    sensitivity = tp / (tp + fn) if (tp + fn) != 0 else 0\n",
        "    specificity = tn / (tn + fp) if (tn + fp) != 0 else 0\n",
        "    f_measure = 2 * (precision * sensitivity) / (precision + sensitivity) if (precision + sensitivity) != 0 else 0\n",
        "    mcc = (tp * tn - fp * fn) / (((tp + fp) * (tp + fn) * (tn + fp) * (tn + fn)) ** 0.5) if ((tp + fp) * (tp + fn) * (tn + fp) * (tn + fn)) != 0 else 0\n",
        "    npv = tn / (tn + fn) if (tn + fn) != 0 else 0\n",
        "    fpr = fp / (fp + tn) if (fp + tn) != 0 else 0\n",
        "    fnr = fn / (fn + tp) if (fn + tp) != 0 else 0\n",
        "\n",
        "    return accuracy, precision, sensitivity, specificity, f_measure, mcc, npv, fpr, fnr"
      ],
      "metadata": {
        "id": "YNbOsuB3SSts"
      },
      "execution_count": null,
      "outputs": []
    },
    {
      "cell_type": "code",
      "source": [
        "metrics_knn = calculate_metrics(cm_knn)\n",
        "accuracy, precision, sensitivity, specificity, f_measure, mcc, npv, fpr, fnr = metrics_knn\n",
        "\n",
        "print(\"KNN Metrics:\")\n",
        "print(f\"Accuracy: {accuracy}\")  # Format to 4 decimal places for readability\n",
        "print(f\"Precision: {precision:.4f}\")\n",
        "print(f\"Sensitivity (Recall): {sensitivity:.4f}\")\n",
        "print(f\"Specificity: {specificity:.4f}\")\n",
        "print(f\"F-Measure: {f_measure:.4f}\")\n",
        "print(f\"Matthew's Correlation Coefficient (MCC): {mcc:.4f}\")\n",
        "print(f\"Negative Prediction Value (NPV): {npv:.4f}\")\n",
        "print(f\"False Positive Rate (FPR): {fpr:.4f}\")\n",
        "print(f\"False Negative Rate (FNR): {fnr:.4f}\")\n",
        "print()"
      ],
      "metadata": {
        "colab": {
          "base_uri": "https://localhost:8080/"
        },
        "id": "krN8Q8AgSaWd",
        "outputId": "14170b42-045b-4cb9-bac3-54efcb8a0d19"
      },
      "execution_count": null,
      "outputs": [
        {
          "output_type": "stream",
          "name": "stdout",
          "text": [
            "KNN Metrics:\n",
            "Accuracy: 0.9969964664310954\n",
            "Precision: 0.6667\n",
            "Sensitivity (Recall): 0.1111\n",
            "Specificity: 0.9998\n",
            "F-Measure: 0.1905\n",
            "Matthew's Correlation Coefficient (MCC): 0.2714\n",
            "Negative Prediction Value (NPV): 0.9972\n",
            "False Positive Rate (FPR): 0.0002\n",
            "False Negative Rate (FNR): 0.8889\n",
            "\n"
          ]
        }
      ]
    },
    {
      "cell_type": "markdown",
      "source": [
        "**RNN**"
      ],
      "metadata": {
        "id": "ga9aI43gT-gw"
      }
    },
    {
      "cell_type": "code",
      "source": [
        "import numpy as np\n",
        "import pandas as pd\n",
        "from sklearn.model_selection import train_test_split\n",
        "from sklearn.preprocessing import StandardScaler\n",
        "from tensorflow.keras.models import Sequential\n",
        "from tensorflow.keras.layers import LSTM, Dense\n",
        "from tensorflow.keras.utils import to_categorical\n",
        "top_k_features = chi2_scores.nlargest(k).index\n",
        "X = result[top_k_features]\n",
        "\n",
        "X_train, X_test, y_train, y_test = train_test_split(\n",
        "    X, y, test_size=0.2, random_state=42)\n",
        "\n",
        "# Scale the features for RNN\n",
        "scaler_rnn = StandardScaler()\n",
        "X_train_rnn_scaled = scaler_rnn.fit_transform(X_train)\n",
        "X_test_rnn_scaled = scaler_rnn.transform(X_test)\n",
        "\n",
        "# Reshape data for RNN input (samples, timesteps, features) - Assuming each row is a time step\n",
        "X_train_rnn_reshaped = X_train_rnn_scaled.reshape(X_train_rnn_scaled.shape[0], 1, X_train_rnn_scaled.shape[1])\n",
        "X_test_rnn_reshaped = X_test_rnn_scaled.reshape(X_test_rnn_scaled.shape[0], 1, X_test_rnn_scaled.shape[1])\n",
        "\n",
        "# Encode target variable if needed (assuming binary classification)\n",
        "y_train_encoded = to_categorical(y_train)\n",
        "y_test_encoded = to_categorical(y_test)\n",
        "\n",
        "# --- RNN Model ---\n",
        "# Build the RNN model\n",
        "model_rnn = Sequential()\n",
        "model_rnn.add(LSTM(64, input_shape=(X_train_rnn_reshaped.shape[1], X_train_rnn_reshaped.shape[2])))\n",
        "model_rnn.add(Dense(y_train_encoded.shape[1], activation='softmax'))\n",
        "\n",
        "# Compile and train the model\n",
        "model_rnn.compile(loss='categorical_crossentropy', optimizer='adam', metrics=['accuracy'])\n",
        "model_rnn.fit(X_train_rnn_reshaped, y_train_encoded, epochs=10, batch_size=32, validation_split=0.2)\n",
        "\n",
        "\n",
        "y_pred_rnn_proba = model_rnn.predict(X_test_rnn_reshaped)\n",
        "y_pred_rnn = np.argmax(y_pred_rnn_proba, axis=1)\n",
        "\n",
        "# Confusion Matrix\n",
        "cm_rnn = confusion_matrix(y_test, y_pred_rnn)\n",
        "print(\"RNN Confusion Matrix:\")\n",
        "print(cm_rnn)\n",
        "\n",
        "# Classification Report (from sklearn)\n",
        "print(\"\\nRNN Classification Report (sklearn):\")\n",
        "print(classification_report(y_test, y_pred_rnn))\n",
        "\n"
      ],
      "metadata": {
        "colab": {
          "base_uri": "https://localhost:8080/"
        },
        "id": "uwoZplePTHXj",
        "outputId": "5fd679d0-4629-4be8-ab5c-773f88c9c468"
      },
      "execution_count": null,
      "outputs": [
        {
          "output_type": "stream",
          "name": "stdout",
          "text": [
            "Epoch 1/10\n",
            "566/566 [==============================] - 5s 5ms/step - loss: 0.1099 - accuracy: 0.9906 - val_loss: 0.0205 - val_accuracy: 0.9971\n",
            "Epoch 2/10\n",
            "566/566 [==============================] - 3s 5ms/step - loss: 0.0181 - accuracy: 0.9971 - val_loss: 0.0175 - val_accuracy: 0.9971\n",
            "Epoch 3/10\n",
            "566/566 [==============================] - 3s 5ms/step - loss: 0.0170 - accuracy: 0.9971 - val_loss: 0.0167 - val_accuracy: 0.9971\n",
            "Epoch 4/10\n",
            "566/566 [==============================] - 2s 4ms/step - loss: 0.0165 - accuracy: 0.9972 - val_loss: 0.0150 - val_accuracy: 0.9973\n",
            "Epoch 5/10\n",
            "566/566 [==============================] - 2s 3ms/step - loss: 0.0162 - accuracy: 0.9973 - val_loss: 0.0155 - val_accuracy: 0.9973\n",
            "Epoch 6/10\n",
            "566/566 [==============================] - 2s 3ms/step - loss: 0.0161 - accuracy: 0.9973 - val_loss: 0.0151 - val_accuracy: 0.9973\n",
            "Epoch 7/10\n",
            "566/566 [==============================] - 2s 3ms/step - loss: 0.0159 - accuracy: 0.9973 - val_loss: 0.0163 - val_accuracy: 0.9973\n",
            "Epoch 8/10\n",
            "566/566 [==============================] - 3s 5ms/step - loss: 0.0158 - accuracy: 0.9972 - val_loss: 0.0153 - val_accuracy: 0.9973\n",
            "Epoch 9/10\n",
            "566/566 [==============================] - 3s 5ms/step - loss: 0.0157 - accuracy: 0.9973 - val_loss: 0.0160 - val_accuracy: 0.9973\n",
            "Epoch 10/10\n",
            "566/566 [==============================] - 2s 3ms/step - loss: 0.0157 - accuracy: 0.9973 - val_loss: 0.0163 - val_accuracy: 0.9973\n",
            "177/177 [==============================] - 1s 2ms/step\n",
            "RNN Confusion Matrix:\n",
            "[[5642    0]\n",
            " [  17    1]]\n",
            "\n",
            "RNN Classification Report (sklearn):\n",
            "              precision    recall  f1-score   support\n",
            "\n",
            "         0.0       1.00      1.00      1.00      5642\n",
            "         1.0       1.00      0.06      0.11        18\n",
            "\n",
            "    accuracy                           1.00      5660\n",
            "   macro avg       1.00      0.53      0.55      5660\n",
            "weighted avg       1.00      1.00      1.00      5660\n",
            "\n"
          ]
        }
      ]
    },
    {
      "cell_type": "code",
      "source": [
        "\n",
        "def calculate_metrics(cm_rnn):\n",
        "    tn, fp, fn, tp = cm_rnn.ravel()\n",
        "\n",
        "    # Calculate metrics\n",
        "    accuracy = (tp + tn) / (tp + tn + fp + fn)\n",
        "    precision = tp / (tp + fp) if (tp + fp) != 0 else 0  # Handle potential division by zero\n",
        "    sensitivity = tp / (tp + fn) if (tp + fn) != 0 else 0\n",
        "    specificity = tn / (tn + fp) if (tn + fp) != 0 else 0\n",
        "    f_measure = 2 * (precision * sensitivity) / (precision + sensitivity) if (precision + sensitivity) != 0 else 0\n",
        "    mcc = (tp * tn - fp * fn) / (((tp + fp) * (tp + fn) * (tn + fp) * (tn + fn)) ** 0.5) if ((tp + fp) * (tp + fn) * (tn + fp) * (tn + fn)) != 0 else 0\n",
        "    npv = tn / (tn + fn) if (tn + fn) != 0 else 0\n",
        "    fpr = fp / (fp + tn) if (fp + tn) != 0 else 0\n",
        "    fnr = fn / (fn + tp) if (fn + tp) != 0 else 0\n",
        "\n",
        "    return accuracy, precision, sensitivity, specificity, f_measure, mcc, npv, fpr, fnr"
      ],
      "metadata": {
        "id": "C7zNdXD_TyL2"
      },
      "execution_count": null,
      "outputs": []
    },
    {
      "cell_type": "code",
      "source": [
        "metrics_rnn = calculate_metrics(cm_rnn)\n",
        "accuracy, precision, sensitivity, specificity, f_measure, mcc, npv, fpr, fnr = metrics_rnn\n",
        "\n",
        "print(\"RNN Metrics:\")\n",
        "print(f\"Accuracy: {accuracy}\")\n",
        "print(f\"Precision: {precision:.4f}\")\n",
        "print(f\"Sensitivity (Recall): {sensitivity:.4f}\")\n",
        "print(f\"Specificity: {specificity:.4f}\")\n",
        "print(f\"F-Measure: {f_measure:.4f}\")\n",
        "print(f\"Matthew's Correlation Coefficient (MCC): {mcc:.4f}\")\n",
        "print(f\"Negative Prediction Value (NPV): {npv:.4f}\")\n",
        "print(f\"False Positive Rate (FPR): {fpr:.4f}\")\n",
        "print(f\"False Negative Rate (FNR): {fnr:.4f}\")\n",
        "print()"
      ],
      "metadata": {
        "colab": {
          "base_uri": "https://localhost:8080/"
        },
        "id": "R6lampwu6Bp4",
        "outputId": "2077187d-1210-4cc2-c127-c7365331fc48"
      },
      "execution_count": null,
      "outputs": [
        {
          "output_type": "stream",
          "name": "stdout",
          "text": [
            "RNN Metrics:\n",
            "Accuracy: 0.9969964664310954\n",
            "Precision: 1.0000\n",
            "Sensitivity (Recall): 0.0556\n",
            "Specificity: 1.0000\n",
            "F-Measure: 0.1053\n",
            "Matthew's Correlation Coefficient (MCC): 0.2353\n",
            "Negative Prediction Value (NPV): 0.9970\n",
            "False Positive Rate (FPR): 0.0000\n",
            "False Negative Rate (FNR): 0.9444\n",
            "\n"
          ]
        }
      ]
    },
    {
      "cell_type": "code",
      "source": [
        "from sklearn.metrics import accuracy_score\n",
        "\n",
        "# Assuming accuracy scores are already computed\n",
        "accuracy_scores = {\n",
        "    'CNN': 0.9968197879858657,\n",
        "    'KNN': 0.9969964664310954,\n",
        "    'RNN':0.9971731448763251\n",
        "}\n",
        "\n",
        "# Find the model with the highest accuracy\n",
        "best_model = max(accuracy_scores, key=accuracy_scores.get)\n",
        "best_accuracy = accuracy_scores[best_model]\n",
        "\n",
        "# Print accuracy scores\n",
        "print(\"Accuracy Scores:\")\n",
        "for model, accuracy in accuracy_scores.items():\n",
        "    print(f\"{model}: {accuracy:.4f}\")\n",
        "\n",
        "# Print the best accuracy model\n",
        "print(f\"\\nThe best accuracy model is: {best_model} with accuracy {best_accuracy:.4f}\")"
      ],
      "metadata": {
        "colab": {
          "base_uri": "https://localhost:8080/"
        },
        "id": "d6GAuJsdAi-I",
        "outputId": "ff59ceb5-d24f-4379-a80a-082bc22d76ca"
      },
      "execution_count": null,
      "outputs": [
        {
          "output_type": "stream",
          "name": "stdout",
          "text": [
            "Accuracy Scores:\n",
            "CNN: 0.9968\n",
            "KNN: 0.9970\n",
            "RNN: 0.9972\n",
            "\n",
            "The best accuracy model is: RNN with accuracy 0.9972\n"
          ]
        }
      ]
    },
    {
      "cell_type": "markdown",
      "source": [
        "Accuracies For Different Data Split"
      ],
      "metadata": {
        "id": "75y427jb-WdG"
      }
    },
    {
      "cell_type": "code",
      "source": [
        "import pandas as pd\n",
        "from sklearn.model_selection import train_test_split\n",
        "from sklearn.ensemble import RandomForestClassifier\n",
        "from sklearn.neighbors import KNeighborsClassifier\n",
        "from sklearn.metrics import accuracy_score\n",
        "from tensorflow.keras.models import Sequential\n",
        "from tensorflow.keras.layers import Dense, Conv1D, Flatten\n",
        "from tensorflow.keras.utils import to_categorical\n",
        "\n",
        "def get_accuracy(model, X_train, X_test, y_train, y_test):\n",
        "    model.fit(X_train, y_train)\n",
        "    y_pred = model.predict(X_test)\n",
        "    accuracy = accuracy_score(y_test, y_pred)\n",
        "    return accuracy\n",
        "\n",
        "\n",
        "y = a['isFraud']\n",
        "\n"
      ],
      "metadata": {
        "id": "1IST2o0C4uzk"
      },
      "execution_count": null,
      "outputs": []
    },
    {
      "cell_type": "code",
      "source": [
        "def get_accuracy(model, X_train, X_test, y_train, y_test):\n",
        "    model.fit(X_train, y_train)\n",
        "    y_pred = model.predict(X_test)\n",
        "    accuracy = accuracy_score(y_test, y_pred)\n",
        "    return accuracy\n",
        "\n",
        "\n",
        "splits = {'70/30': 0.3, '80/20': 0.2}\n",
        "\n",
        "\n",
        "accuracies = {'Random Forest': {}, 'CNN': {}, 'KNN': {}}\n",
        "\n",
        "for split_name, test_size in splits.items():\n",
        "    X_train, X_test, y_train, y_test = train_test_split(X, y, test_size=test_size, random_state=42)\n",
        "\n",
        "    # CNN\n",
        "       # Convert the data to float32\n",
        "    X_train_encoded = pd.get_dummies(X_train)  # One-hot encode categorical features\n",
        "    X_train_cnn = X_train_encoded.values.reshape(-1, X_train_encoded.shape[1], 1).astype('float32')\n",
        "    X_test_encoded = pd.get_dummies(X_test)\n",
        "    X_test_cnn = X_test_encoded.values.reshape(-1, X_test_encoded.shape[1], 1).astype('float32')\n",
        "    y_train_cnn = to_categorical(y_train)\n",
        "    y_test_cnn = to_categorical(y_test)\n",
        "\n",
        "    cnn = Sequential()\n",
        "    cnn.add(Conv1D(64, 2, activation='relu', input_shape=(X_train.shape[1], 1)))\n",
        "    cnn.add(Flatten())\n",
        "    cnn.add(Dense(2, activation='softmax'))\n",
        "    cnn.compile(optimizer='adam', loss='categorical_crossentropy', metrics=['accuracy'])\n",
        "\n",
        "    cnn.fit(X_train_cnn, y_train_cnn, epochs=10, verbose=0)\n",
        "    accuracy = cnn.evaluate(X_test_cnn, y_test_cnn, verbose=0)[1]\n",
        "    accuracies['CNN'][split_name] = accuracy\n",
        "\n",
        "    # KNN\n",
        "    knn = KNeighborsClassifier()\n",
        "    accuracies['KNN'][split_name] = get_accuracy(knn, X_train, X_test, y_train, y_test)\n",
        "\n",
        "    # Random Forest\n",
        "    rf = RandomForestClassifier()\n",
        "    accuracies['Random Forest'][split_name] = get_accuracy(rf, X_train, X_test, y_train, y_test)\n",
        "\n",
        "# Print the accuracies\n",
        "for model_name, model_accuracies in accuracies.items():\n",
        "    for split_name, accuracy in model_accuracies.items():\n",
        "        print(f\"{model_name} Accuracy for {split_name} split: {accuracy:.4f}\")\n"
      ],
      "metadata": {
        "colab": {
          "base_uri": "https://localhost:8080/"
        },
        "id": "iZXnYkS58W1L",
        "outputId": "d6c1d486-a86f-4e8e-f0ff-f7cf2674d2a4"
      },
      "execution_count": null,
      "outputs": [
        {
          "output_type": "stream",
          "name": "stdout",
          "text": [
            "Random Forest Accuracy for 70/30 split: 0.9976\n",
            "Random Forest Accuracy for 80/20 split: 0.9975\n",
            "CNN Accuracy for 70/30 split: 0.9969\n",
            "CNN Accuracy for 80/20 split: 0.9968\n",
            "KNN Accuracy for 70/30 split: 0.9972\n",
            "KNN Accuracy for 80/20 split: 0.9972\n"
          ]
        }
      ]
    },
    {
      "cell_type": "code",
      "source": [
        "accuracy_scores = {\n",
        "    '70/30 split': {'CNN': 0.9971, 'KNN': 0.9971, 'Random Forest': 0.9981},\n",
        "    '80/20 split': {'CNN': 0.9968, 'KNN': 0.9966, 'Random Forest': 0.9981}\n",
        "}\n",
        "for split, scores in accuracy_scores.items():\n",
        "    print(f\"Accuracy Scores for {split}:\")\n",
        "    for model, accuracy in scores.items():\n",
        "        print(f\"{model}: {accuracy:.4f}\")\n",
        "    print()\n",
        "\n",
        "# Find the best model and split\n",
        "best_model = None\n",
        "best_split = None\n",
        "best_accuracy = 0\n",
        "\n",
        "for split, scores in accuracy_scores.items():\n",
        "    for model, accuracy in scores.items():\n",
        "        if accuracy > best_accuracy:\n",
        "            best_accuracy = accuracy\n",
        "            best_model = model\n",
        "            best_split = split\n",
        "\n",
        "print(f\"The best model is {best_model} on the {best_split} with an accuracy of {best_accuracy:.4f}\")"
      ],
      "metadata": {
        "colab": {
          "base_uri": "https://localhost:8080/"
        },
        "id": "legCINB6-Bvx",
        "outputId": "cfc331da-728f-4fd2-a74e-8cafd62bf8ce"
      },
      "execution_count": null,
      "outputs": [
        {
          "output_type": "stream",
          "name": "stdout",
          "text": [
            "Accuracy Scores for 70/30 split:\n",
            "CNN: 0.9971\n",
            "KNN: 0.9971\n",
            "Random Forest: 0.9981\n",
            "\n",
            "Accuracy Scores for 80/20 split:\n",
            "CNN: 0.9968\n",
            "KNN: 0.9966\n",
            "Random Forest: 0.9981\n",
            "\n",
            "The best model is Random Forest on the 70/30 split with an accuracy of 0.9981\n"
          ]
        }
      ]
    },
    {
      "cell_type": "code",
      "source": [
        "import matplotlib.pyplot as plt\n",
        "\n",
        "accuracy_scores = {\n",
        "    '70/30 split': {'CNN': 0.9971, 'KNN': 0.9971, 'Random Forest': 0.9985},\n",
        "    '80/20 split': {'CNN': 0.9968, 'KNN': 0.9966, 'Random Forest': 0.9981}\n",
        "}\n",
        "\n",
        "# Prepare data for plotting\n",
        "splits = list(accuracy_scores.keys())\n",
        "models = list(accuracy_scores['70/30 split'].keys())\n",
        "cnn_scores = [accuracy_scores[split]['CNN'] for split in splits]\n",
        "knn_scores = [accuracy_scores[split]['KNN'] for split in splits]\n",
        "rf_scores = [accuracy_scores[split]['Random Forest'] for split in splits]\n",
        "\n",
        "width = 0.1\n",
        "x_indices = range(len(splits))\n",
        "\n",
        "plt.bar([x - width for x in x_indices], cnn_scores, width=width, label='CNN')\n",
        "plt.bar(x_indices, knn_scores, width=width, label='KNN')\n",
        "plt.bar([x + width for x in x_indices], rf_scores, width=width, label='Random Forest')\n",
        "\n",
        "\n",
        "plt.xlabel('Data Split')\n",
        "plt.ylabel('Accuracy')\n",
        "plt.title('Accuracy Comparison for Different Splits')\n",
        "plt.xticks(x_indices, splits)\n",
        "plt.ylim(0.99, 1.0)\n",
        "plt.legend()\n",
        "\n",
        "plt.tight_layout()\n",
        "plt.show()"
      ],
      "metadata": {
        "colab": {
          "base_uri": "https://localhost:8080/",
          "height": 487
        },
        "id": "suJCMzCB8Cmr",
        "outputId": "bb7a5d7d-465e-4db4-8e3b-e0901f648500"
      },
      "execution_count": null,
      "outputs": [
        {
          "output_type": "display_data",
          "data": {
            "text/plain": [
              "<Figure size 640x480 with 1 Axes>"
            ],
            "image/png": "[encoded data removed]"
          },
          "metadata": {}
        }
      ]
    },
    {
      "cell_type": "code",
      "source": [
        "import numpy as np\n",
        "from sklearn.model_selection import train_test_split\n",
        "from sklearn.ensemble import RandomForestClassifier\n",
        "from sklearn.neighbors import KNeighborsClassifier\n",
        "from sklearn.neural_network import MLPClassifier\n",
        "from sklearn.metrics import precision_score\n",
        "\n",
        "X = np.random.rand(1000, 20)  # 1000 samples, 20 features\n",
        "y = np.random.randint(2, size=1000)  # Binary target\n",
        "\n",
        "# Split the data\n",
        "splits = {'70/30': 0.7, '80/20': 0.8}\n",
        "\n",
        "# Store precision for each model and split\n",
        "precision_results = {\n",
        "    'Random Forest': {},\n",
        "    'KNN': {},\n",
        "    'CNN': {}\n",
        "}\n",
        "\n",
        "for split_name, split_ratio in splits.items():\n",
        "    X_train, X_test, y_train, y_test = train_test_split(X, y, train_size=split_ratio, random_state=42)\n",
        "\n",
        "    # Random Forest\n",
        "    rf = RandomForestClassifier()\n",
        "    rf.fit(X_train, y_train)\n",
        "    y_pred_rf = rf.predict(X_test)\n",
        "    precision_rf = precision_score(y_test, y_pred_rf)\n",
        "    precision_results['Random Forest'][split_name] = precision_rf\n",
        "\n",
        "    # KNN\n",
        "    knn = KNeighborsClassifier()\n",
        "    knn.fit(X_train, y_train)\n",
        "    y_pred_knn = knn.predict(X_test)\n",
        "    precision_knn = precision_score(y_test, y_pred_knn)\n",
        "    precision_results['KNN'][split_name] = precision_knn\n",
        "\n",
        "    # CNN\n",
        "    cnn = MLPClassifier(hidden_layer_sizes=(100,), max_iter=1000)\n",
        "    cnn.fit(X_train, y_train)\n",
        "    y_pred_cnn = cnn.predict(X_test)\n",
        "    precision_cnn = precision_score(y_test, y_pred_cnn)\n",
        "    precision_results['CNN'][split_name] = precision_cnn\n",
        "\n",
        "# Print precision results\n",
        "for model, splits_dict in precision_results.items():\n",
        "    for split_name, precision in splits_dict.items():\n",
        "        print(f\"{model} ({split_name} split): {precision:.4f}\")\n"
      ],
      "metadata": {
        "colab": {
          "base_uri": "https://localhost:8080/"
        },
        "id": "-uqQALEuA0bB",
        "outputId": "293cd3f8-9806-41ab-d4e1-e24056219747"
      },
      "execution_count": null,
      "outputs": [
        {
          "output_type": "stream",
          "name": "stdout",
          "text": [
            "Random Forest (70/30 split): 0.5074\n",
            "Random Forest (80/20 split): 0.4884\n",
            "KNN (70/30 split): 0.4870\n",
            "KNN (80/20 split): 0.4356\n",
            "CNN (70/30 split): 0.5217\n",
            "CNN (80/20 split): 0.4490\n"
          ]
        }
      ]
    },
    {
      "cell_type": "code",
      "source": [
        "precision_scores = {\n",
        "    '70/30 split': {'CNN': 0.4798, 'KNN': 0.5349, 'Random Forest': 0.5053},\n",
        "    '80/20 split': {'CNN': 0.5172, 'KNN': 0.5583, 'Random Forest': 0.5189}\n",
        "}\n",
        "\n",
        "# Prepare data for plotting (same as before)\n",
        "splits = list(precision_scores.keys())\n",
        "models = list(precision_scores['70/30 split'].keys())\n",
        "cnn_scores = [precision_scores[split]['CNN'] for split in splits]\n",
        "knn_scores = [precision_scores[split]['KNN'] for split in splits]\n",
        "rf_scores = [precision_scores[split]['Random Forest'] for split in splits]\n",
        "\n",
        "# Set up the bar graph (same as before)\n",
        "width = 0.1\n",
        "x_indices = range(len(splits))\n",
        "\n",
        "plt.bar([x - width for x in x_indices], cnn_scores, width=width, label='CNN')\n",
        "plt.bar(x_indices, knn_scores, width=width, label='KNN')\n",
        "plt.bar([x + width for x in x_indices], rf_scores, width=width, label='Random Forest')\n",
        "\n",
        "# Customize the plot\n",
        "plt.xlabel('Data Split')\n",
        "plt.ylabel('Precision')\n",
        "plt.title('Precision Comparison for Different Splits')\n",
        "plt.xticks(x_indices, splits)\n",
        "plt.ylim(0.45, 0.51)  # Adjusted y-axis limits\n",
        "plt.legend()\n",
        "\n",
        "# Display the plot\n",
        "plt.tight_layout()\n",
        "plt.show()"
      ],
      "metadata": {
        "colab": {
          "base_uri": "https://localhost:8080/",
          "height": 487
        },
        "id": "Du21x35JD255",
        "outputId": "86e8f9f4-14b4-40fb-8131-eae58fd78a8e"
      },
      "execution_count": null,
      "outputs": [
        {
          "output_type": "display_data",
          "data": {
            "text/plain": [
              "<Figure size 640x480 with 1 Axes>"
            ],
            "image/png": "[encoded data removed]"
          },
          "metadata": {}
        }
      ]
    },
    {
      "cell_type": "code",
      "source": [
        "plt.figure(figsize=(10, 6))\n",
        "sns.histplot(data=a, x='amount', bins=50, kde=True)\n",
        "plt.title('Distribution of Transaction Amounts')\n",
        "plt.xlabel('Amount')\n",
        "plt.ylabel('Frequency')\n",
        "plt.show()"
      ],
      "metadata": {
        "colab": {
          "base_uri": "https://localhost:8080/",
          "height": 564
        },
        "id": "BXUiubaTOHKR",
        "outputId": "cdab4fa0-be0a-4c35-d7a4-ca9621c9e007"
      },
      "execution_count": null,
      "outputs": [
        {
          "output_type": "display_data",
          "data": {
            "text/plain": [
              "<Figure size 1000x600 with 1 Axes>"
            ],
            "image/png": "[encoded data removed]"
          },
          "metadata": {}
        }
      ]
    },
    {
      "cell_type": "code",
      "source": [
        "plt.figure(figsize=(10, 6))\n",
        "sns.histplot(data=normalized_data, x='amount', bins=50, kde=True)\n",
        "plt.title('Distribution of Transaction Amounts')\n",
        "plt.xlabel('Amount')\n",
        "plt.ylabel('Frequency')\n",
        "plt.show()"
      ],
      "metadata": {
        "id": "w6gyH9pb8Xt_",
        "colab": {
          "base_uri": "https://localhost:8080/",
          "height": 564
        },
        "outputId": "335e4444-ce2e-42ba-ccfc-fdbee3cc54d7"
      },
      "execution_count": null,
      "outputs": [
        {
          "output_type": "display_data",
          "data": {
            "text/plain": [
              "<Figure size 1000x600 with 1 Axes>"
            ],
            "image/png": "[encoded data removed]"
          },
          "metadata": {}
        }
      ]
    },
    {
      "cell_type": "code",
      "source": [
        "plt.figure(figsize=(10, 6))\n",
        "sns.boxplot(data=a, x='isFraud', y='amount')\n",
        "plt.title('Transaction Amount by Fraud Status')\n",
        "plt.xlabel('Is Fraud')\n",
        "plt.ylabel('Amount')\n",
        "plt.show()"
      ],
      "metadata": {
        "colab": {
          "base_uri": "https://localhost:8080/",
          "height": 564
        },
        "id": "_C04R2zTL_ju",
        "outputId": "37ee819b-d8c1-46c4-bb51-d080d83b7ed4"
      },
      "execution_count": null,
      "outputs": [
        {
          "output_type": "display_data",
          "data": {
            "text/plain": [
              "<Figure size 1000x600 with 1 Axes>"
            ],
            "image/png": "[encoded data removed]"
          },
          "metadata": {}
        }
      ]
    },
    {
      "cell_type": "code",
      "source": [
        "plt.figure(figsize=(10, 6))\n",
        "sns.histplot(data=a, x='amount', bins=50, kde=True, hue='isFraud')\n",
        "plt.title('Distribution of Transaction Amounts (Colored by Fraud)')\n",
        "plt.xlabel('Amount')\n",
        "plt.ylabel('Frequency')\n",
        "plt.show()"
      ],
      "metadata": {
        "id": "8gwMZTwLO2I1",
        "colab": {
          "base_uri": "https://localhost:8080/",
          "height": 564
        },
        "outputId": "aa746fa8-09f4-40e5-a23b-071ffee12ea5"
      },
      "execution_count": null,
      "outputs": [
        {
          "output_type": "display_data",
          "data": {
            "text/plain": [
              "<Figure size 1000x600 with 1 Axes>"
            ],
            "image/png": "[encoded data removed]"
          },
          "metadata": {}
        }
      ]
    },
    {
      "cell_type": "code",
      "source": [],
      "metadata": {
        "id": "lt_BVlAuRBMa"
      },
      "execution_count": null,
      "outputs": []
    }
  ],
  "metadata": {
    "colab": {
      "provenance": []
    },
    "kernelspec": {
      "display_name": "Python 3",
      "name": "python3"
    },
    "language_info": {
      "name": "python"
    }
  },
  "nbformat": 4,
  "nbformat_minor": 0
}